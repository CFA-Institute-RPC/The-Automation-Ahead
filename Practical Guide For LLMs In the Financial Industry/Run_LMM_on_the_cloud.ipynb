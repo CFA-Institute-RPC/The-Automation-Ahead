{
 "cells": [
  {
   "cell_type": "markdown",
   "id": "1d0c31dd-55c9-4e48-9ea5-b905689fd0d6",
   "metadata": {
    "id": "1d0c31dd-55c9-4e48-9ea5-b905689fd0d6"
   },
   "source": [
    "## Running an LLM on the cloud (i.e. Google Colab or Kaggle)\n",
    "\n",
    "**Open this notebook in Google colab or Kaggle to leverage free GPU resources in the cloud or  [![Open In Colab](https://colab.research.google.com/assets/colab-badge.svg)](https://colab.research.google.com/drive/1cbOGsTa96las7bT0bG4cCKWPNzIRdQtb?usp=sharing) for a shared version on Google Colab.**"
   ]
  },
  {
   "cell_type": "markdown",
   "id": "befcb104-28dc-4088-bbbc-93d271b76879",
   "metadata": {
    "id": "befcb104-28dc-4088-bbbc-93d271b76879"
   },
   "source": [
    "In this notebook we are going to learn how to run an LLM using the Hugging Face Transformers library on the cloud. Please refer to the README file for more information regarding the python installations you should have on your machine.\n",
    "\n",
    "Pros of HuggingFace Transformers library:\n",
    "* downloads the models automatically\n",
    "* there are snippets of code available to run any model\n",
    "* easily intergratable models to your project\n",
    "\n",
    "Cons:\n",
    "* you need to code the behaviour / user interaction\n",
    "* it's not as fast as other alternatives and fails to run big LLMs (>3-4B parameters)\n",
    "* large computational resources"
   ]
  },
  {
   "cell_type": "markdown",
   "id": "CaUnnkJeVphr",
   "metadata": {
    "id": "CaUnnkJeVphr"
   },
   "source": [
    "### Importing packages and checking GPU access"
   ]
  },
  {
   "cell_type": "code",
   "execution_count": 1,
   "id": "wrnumIZxg1Xf",
   "metadata": {
    "colab": {
     "base_uri": "https://localhost:8080/"
    },
    "id": "wrnumIZxg1Xf",
    "outputId": "049f97f7-271c-4a11-b74e-0bbb043a09a7"
   },
   "outputs": [
    {
     "name": "stdout",
     "output_type": "stream",
     "text": [
      "Requirement already satisfied: datasets in /Users/brianpisaneschi/Library/CloudStorage/OneDrive-CFAInstitute/Coding/GitHub/The-Automation-Ahead/conda-env/lib/python3.12/site-packages (3.2.0)\n",
      "Requirement already satisfied: filelock in /Users/brianpisaneschi/Library/CloudStorage/OneDrive-CFAInstitute/Coding/GitHub/The-Automation-Ahead/conda-env/lib/python3.12/site-packages (from datasets) (3.16.1)\n",
      "Requirement already satisfied: numpy>=1.17 in /Users/brianpisaneschi/Library/CloudStorage/OneDrive-CFAInstitute/Coding/GitHub/The-Automation-Ahead/conda-env/lib/python3.12/site-packages (from datasets) (1.26.4)\n",
      "Requirement already satisfied: pyarrow>=15.0.0 in /Users/brianpisaneschi/Library/CloudStorage/OneDrive-CFAInstitute/Coding/GitHub/The-Automation-Ahead/conda-env/lib/python3.12/site-packages (from datasets) (18.1.0)\n",
      "Requirement already satisfied: dill<0.3.9,>=0.3.0 in /Users/brianpisaneschi/Library/CloudStorage/OneDrive-CFAInstitute/Coding/GitHub/The-Automation-Ahead/conda-env/lib/python3.12/site-packages (from datasets) (0.3.8)\n",
      "Requirement already satisfied: pandas in /Users/brianpisaneschi/Library/CloudStorage/OneDrive-CFAInstitute/Coding/GitHub/The-Automation-Ahead/conda-env/lib/python3.12/site-packages (from datasets) (2.2.3)\n",
      "Requirement already satisfied: requests>=2.32.2 in /Users/brianpisaneschi/Library/CloudStorage/OneDrive-CFAInstitute/Coding/GitHub/The-Automation-Ahead/conda-env/lib/python3.12/site-packages (from datasets) (2.32.3)\n",
      "Requirement already satisfied: tqdm>=4.66.3 in /Users/brianpisaneschi/Library/CloudStorage/OneDrive-CFAInstitute/Coding/GitHub/The-Automation-Ahead/conda-env/lib/python3.12/site-packages (from datasets) (4.67.1)\n",
      "Requirement already satisfied: xxhash in /Users/brianpisaneschi/Library/CloudStorage/OneDrive-CFAInstitute/Coding/GitHub/The-Automation-Ahead/conda-env/lib/python3.12/site-packages (from datasets) (3.5.0)\n",
      "Requirement already satisfied: multiprocess<0.70.17 in /Users/brianpisaneschi/Library/CloudStorage/OneDrive-CFAInstitute/Coding/GitHub/The-Automation-Ahead/conda-env/lib/python3.12/site-packages (from datasets) (0.70.16)\n",
      "Requirement already satisfied: fsspec<=2024.9.0,>=2023.1.0 in /Users/brianpisaneschi/Library/CloudStorage/OneDrive-CFAInstitute/Coding/GitHub/The-Automation-Ahead/conda-env/lib/python3.12/site-packages (from fsspec[http]<=2024.9.0,>=2023.1.0->datasets) (2024.9.0)\n",
      "Requirement already satisfied: aiohttp in /Users/brianpisaneschi/Library/CloudStorage/OneDrive-CFAInstitute/Coding/GitHub/The-Automation-Ahead/conda-env/lib/python3.12/site-packages (from datasets) (3.11.10)\n",
      "Requirement already satisfied: huggingface-hub>=0.23.0 in /Users/brianpisaneschi/Library/CloudStorage/OneDrive-CFAInstitute/Coding/GitHub/The-Automation-Ahead/conda-env/lib/python3.12/site-packages (from datasets) (0.26.5)\n",
      "Requirement already satisfied: packaging in /Users/brianpisaneschi/Library/CloudStorage/OneDrive-CFAInstitute/Coding/GitHub/The-Automation-Ahead/conda-env/lib/python3.12/site-packages (from datasets) (24.1)\n",
      "Requirement already satisfied: pyyaml>=5.1 in /Users/brianpisaneschi/Library/CloudStorage/OneDrive-CFAInstitute/Coding/GitHub/The-Automation-Ahead/conda-env/lib/python3.12/site-packages (from datasets) (6.0.2)\n",
      "Requirement already satisfied: aiohappyeyeballs>=2.3.0 in /Users/brianpisaneschi/Library/CloudStorage/OneDrive-CFAInstitute/Coding/GitHub/The-Automation-Ahead/conda-env/lib/python3.12/site-packages (from aiohttp->datasets) (2.4.4)\n",
      "Requirement already satisfied: aiosignal>=1.1.2 in /Users/brianpisaneschi/Library/CloudStorage/OneDrive-CFAInstitute/Coding/GitHub/The-Automation-Ahead/conda-env/lib/python3.12/site-packages (from aiohttp->datasets) (1.3.1)\n",
      "Requirement already satisfied: attrs>=17.3.0 in /Users/brianpisaneschi/Library/CloudStorage/OneDrive-CFAInstitute/Coding/GitHub/The-Automation-Ahead/conda-env/lib/python3.12/site-packages (from aiohttp->datasets) (24.2.0)\n",
      "Requirement already satisfied: frozenlist>=1.1.1 in /Users/brianpisaneschi/Library/CloudStorage/OneDrive-CFAInstitute/Coding/GitHub/The-Automation-Ahead/conda-env/lib/python3.12/site-packages (from aiohttp->datasets) (1.5.0)\n",
      "Requirement already satisfied: multidict<7.0,>=4.5 in /Users/brianpisaneschi/Library/CloudStorage/OneDrive-CFAInstitute/Coding/GitHub/The-Automation-Ahead/conda-env/lib/python3.12/site-packages (from aiohttp->datasets) (6.1.0)\n",
      "Requirement already satisfied: propcache>=0.2.0 in /Users/brianpisaneschi/Library/CloudStorage/OneDrive-CFAInstitute/Coding/GitHub/The-Automation-Ahead/conda-env/lib/python3.12/site-packages (from aiohttp->datasets) (0.2.1)\n",
      "Requirement already satisfied: yarl<2.0,>=1.17.0 in /Users/brianpisaneschi/Library/CloudStorage/OneDrive-CFAInstitute/Coding/GitHub/The-Automation-Ahead/conda-env/lib/python3.12/site-packages (from aiohttp->datasets) (1.18.3)\n",
      "Requirement already satisfied: typing-extensions>=3.7.4.3 in /Users/brianpisaneschi/Library/CloudStorage/OneDrive-CFAInstitute/Coding/GitHub/The-Automation-Ahead/conda-env/lib/python3.12/site-packages (from huggingface-hub>=0.23.0->datasets) (4.12.2)\n",
      "Requirement already satisfied: charset-normalizer<4,>=2 in /Users/brianpisaneschi/Library/CloudStorage/OneDrive-CFAInstitute/Coding/GitHub/The-Automation-Ahead/conda-env/lib/python3.12/site-packages (from requests>=2.32.2->datasets) (3.4.0)\n",
      "Requirement already satisfied: idna<4,>=2.5 in /Users/brianpisaneschi/Library/CloudStorage/OneDrive-CFAInstitute/Coding/GitHub/The-Automation-Ahead/conda-env/lib/python3.12/site-packages (from requests>=2.32.2->datasets) (3.10)\n",
      "Requirement already satisfied: urllib3<3,>=1.21.1 in /Users/brianpisaneschi/Library/CloudStorage/OneDrive-CFAInstitute/Coding/GitHub/The-Automation-Ahead/conda-env/lib/python3.12/site-packages (from requests>=2.32.2->datasets) (2.2.3)\n",
      "Requirement already satisfied: certifi>=2017.4.17 in /Users/brianpisaneschi/Library/CloudStorage/OneDrive-CFAInstitute/Coding/GitHub/The-Automation-Ahead/conda-env/lib/python3.12/site-packages (from requests>=2.32.2->datasets) (2024.8.30)\n",
      "Requirement already satisfied: python-dateutil>=2.8.2 in /Users/brianpisaneschi/Library/CloudStorage/OneDrive-CFAInstitute/Coding/GitHub/The-Automation-Ahead/conda-env/lib/python3.12/site-packages (from pandas->datasets) (2.9.0.post0)\n",
      "Requirement already satisfied: pytz>=2020.1 in /Users/brianpisaneschi/Library/CloudStorage/OneDrive-CFAInstitute/Coding/GitHub/The-Automation-Ahead/conda-env/lib/python3.12/site-packages (from pandas->datasets) (2024.2)\n",
      "Requirement already satisfied: tzdata>=2022.7 in /Users/brianpisaneschi/Library/CloudStorage/OneDrive-CFAInstitute/Coding/GitHub/The-Automation-Ahead/conda-env/lib/python3.12/site-packages (from pandas->datasets) (2024.2)\n",
      "Requirement already satisfied: six>=1.5 in /Users/brianpisaneschi/Library/CloudStorage/OneDrive-CFAInstitute/Coding/GitHub/The-Automation-Ahead/conda-env/lib/python3.12/site-packages (from python-dateutil>=2.8.2->pandas->datasets) (1.16.0)\n",
      "Requirement already satisfied: transformers in /Users/brianpisaneschi/Library/CloudStorage/OneDrive-CFAInstitute/Coding/GitHub/The-Automation-Ahead/conda-env/lib/python3.12/site-packages (4.47.0)\n",
      "Requirement already satisfied: filelock in /Users/brianpisaneschi/Library/CloudStorage/OneDrive-CFAInstitute/Coding/GitHub/The-Automation-Ahead/conda-env/lib/python3.12/site-packages (from transformers) (3.16.1)\n",
      "Requirement already satisfied: huggingface-hub<1.0,>=0.24.0 in /Users/brianpisaneschi/Library/CloudStorage/OneDrive-CFAInstitute/Coding/GitHub/The-Automation-Ahead/conda-env/lib/python3.12/site-packages (from transformers) (0.26.5)\n",
      "Requirement already satisfied: numpy>=1.17 in /Users/brianpisaneschi/Library/CloudStorage/OneDrive-CFAInstitute/Coding/GitHub/The-Automation-Ahead/conda-env/lib/python3.12/site-packages (from transformers) (1.26.4)\n",
      "Requirement already satisfied: packaging>=20.0 in /Users/brianpisaneschi/Library/CloudStorage/OneDrive-CFAInstitute/Coding/GitHub/The-Automation-Ahead/conda-env/lib/python3.12/site-packages (from transformers) (24.1)\n",
      "Requirement already satisfied: pyyaml>=5.1 in /Users/brianpisaneschi/Library/CloudStorage/OneDrive-CFAInstitute/Coding/GitHub/The-Automation-Ahead/conda-env/lib/python3.12/site-packages (from transformers) (6.0.2)\n",
      "Requirement already satisfied: regex!=2019.12.17 in /Users/brianpisaneschi/Library/CloudStorage/OneDrive-CFAInstitute/Coding/GitHub/The-Automation-Ahead/conda-env/lib/python3.12/site-packages (from transformers) (2024.11.6)\n",
      "Requirement already satisfied: requests in /Users/brianpisaneschi/Library/CloudStorage/OneDrive-CFAInstitute/Coding/GitHub/The-Automation-Ahead/conda-env/lib/python3.12/site-packages (from transformers) (2.32.3)\n",
      "Requirement already satisfied: tokenizers<0.22,>=0.21 in /Users/brianpisaneschi/Library/CloudStorage/OneDrive-CFAInstitute/Coding/GitHub/The-Automation-Ahead/conda-env/lib/python3.12/site-packages (from transformers) (0.21.0)\n",
      "Requirement already satisfied: safetensors>=0.4.1 in /Users/brianpisaneschi/Library/CloudStorage/OneDrive-CFAInstitute/Coding/GitHub/The-Automation-Ahead/conda-env/lib/python3.12/site-packages (from transformers) (0.4.5)\n",
      "Requirement already satisfied: tqdm>=4.27 in /Users/brianpisaneschi/Library/CloudStorage/OneDrive-CFAInstitute/Coding/GitHub/The-Automation-Ahead/conda-env/lib/python3.12/site-packages (from transformers) (4.67.1)\n",
      "Requirement already satisfied: fsspec>=2023.5.0 in /Users/brianpisaneschi/Library/CloudStorage/OneDrive-CFAInstitute/Coding/GitHub/The-Automation-Ahead/conda-env/lib/python3.12/site-packages (from huggingface-hub<1.0,>=0.24.0->transformers) (2024.9.0)\n",
      "Requirement already satisfied: typing-extensions>=3.7.4.3 in /Users/brianpisaneschi/Library/CloudStorage/OneDrive-CFAInstitute/Coding/GitHub/The-Automation-Ahead/conda-env/lib/python3.12/site-packages (from huggingface-hub<1.0,>=0.24.0->transformers) (4.12.2)\n",
      "Requirement already satisfied: charset-normalizer<4,>=2 in /Users/brianpisaneschi/Library/CloudStorage/OneDrive-CFAInstitute/Coding/GitHub/The-Automation-Ahead/conda-env/lib/python3.12/site-packages (from requests->transformers) (3.4.0)\n",
      "Requirement already satisfied: idna<4,>=2.5 in /Users/brianpisaneschi/Library/CloudStorage/OneDrive-CFAInstitute/Coding/GitHub/The-Automation-Ahead/conda-env/lib/python3.12/site-packages (from requests->transformers) (3.10)\n",
      "Requirement already satisfied: urllib3<3,>=1.21.1 in /Users/brianpisaneschi/Library/CloudStorage/OneDrive-CFAInstitute/Coding/GitHub/The-Automation-Ahead/conda-env/lib/python3.12/site-packages (from requests->transformers) (2.2.3)\n",
      "Requirement already satisfied: certifi>=2017.4.17 in /Users/brianpisaneschi/Library/CloudStorage/OneDrive-CFAInstitute/Coding/GitHub/The-Automation-Ahead/conda-env/lib/python3.12/site-packages (from requests->transformers) (2024.8.30)\n",
      "Collecting langchain\n",
      "  Downloading langchain-0.3.11-py3-none-any.whl.metadata (7.1 kB)\n",
      "Collecting langchain-openai\n",
      "  Downloading langchain_openai-0.2.12-py3-none-any.whl.metadata (2.7 kB)\n",
      "Requirement already satisfied: PyYAML>=5.3 in /Users/brianpisaneschi/Library/CloudStorage/OneDrive-CFAInstitute/Coding/GitHub/The-Automation-Ahead/conda-env/lib/python3.12/site-packages (from langchain) (6.0.2)\n",
      "Collecting SQLAlchemy<3,>=1.4 (from langchain)\n",
      "  Downloading SQLAlchemy-2.0.36-cp312-cp312-macosx_11_0_arm64.whl.metadata (9.7 kB)\n",
      "Requirement already satisfied: aiohttp<4.0.0,>=3.8.3 in /Users/brianpisaneschi/Library/CloudStorage/OneDrive-CFAInstitute/Coding/GitHub/The-Automation-Ahead/conda-env/lib/python3.12/site-packages (from langchain) (3.11.10)\n",
      "Collecting langchain-core<0.4.0,>=0.3.24 (from langchain)\n",
      "  Downloading langchain_core-0.3.24-py3-none-any.whl.metadata (6.3 kB)\n",
      "Collecting langchain-text-splitters<0.4.0,>=0.3.0 (from langchain)\n",
      "  Using cached langchain_text_splitters-0.3.2-py3-none-any.whl.metadata (2.3 kB)\n",
      "Collecting langsmith<0.3,>=0.1.17 (from langchain)\n",
      "  Downloading langsmith-0.2.3-py3-none-any.whl.metadata (14 kB)\n",
      "Requirement already satisfied: numpy<3,>=1.26.2 in /Users/brianpisaneschi/Library/CloudStorage/OneDrive-CFAInstitute/Coding/GitHub/The-Automation-Ahead/conda-env/lib/python3.12/site-packages (from langchain) (1.26.4)\n",
      "Requirement already satisfied: pydantic<3.0.0,>=2.7.4 in /Users/brianpisaneschi/Library/CloudStorage/OneDrive-CFAInstitute/Coding/GitHub/The-Automation-Ahead/conda-env/lib/python3.12/site-packages (from langchain) (2.10.3)\n",
      "Requirement already satisfied: requests<3,>=2 in /Users/brianpisaneschi/Library/CloudStorage/OneDrive-CFAInstitute/Coding/GitHub/The-Automation-Ahead/conda-env/lib/python3.12/site-packages (from langchain) (2.32.3)\n",
      "Collecting tenacity!=8.4.0,<10,>=8.1.0 (from langchain)\n",
      "  Using cached tenacity-9.0.0-py3-none-any.whl.metadata (1.2 kB)\n",
      "Requirement already satisfied: openai<2.0.0,>=1.55.3 in /Users/brianpisaneschi/Library/CloudStorage/OneDrive-CFAInstitute/Coding/GitHub/The-Automation-Ahead/conda-env/lib/python3.12/site-packages (from langchain-openai) (1.57.1)\n",
      "Collecting tiktoken<1,>=0.7 (from langchain-openai)\n",
      "  Using cached tiktoken-0.8.0-cp312-cp312-macosx_11_0_arm64.whl.metadata (6.6 kB)\n",
      "Requirement already satisfied: aiohappyeyeballs>=2.3.0 in /Users/brianpisaneschi/Library/CloudStorage/OneDrive-CFAInstitute/Coding/GitHub/The-Automation-Ahead/conda-env/lib/python3.12/site-packages (from aiohttp<4.0.0,>=3.8.3->langchain) (2.4.4)\n",
      "Requirement already satisfied: aiosignal>=1.1.2 in /Users/brianpisaneschi/Library/CloudStorage/OneDrive-CFAInstitute/Coding/GitHub/The-Automation-Ahead/conda-env/lib/python3.12/site-packages (from aiohttp<4.0.0,>=3.8.3->langchain) (1.3.1)\n",
      "Requirement already satisfied: attrs>=17.3.0 in /Users/brianpisaneschi/Library/CloudStorage/OneDrive-CFAInstitute/Coding/GitHub/The-Automation-Ahead/conda-env/lib/python3.12/site-packages (from aiohttp<4.0.0,>=3.8.3->langchain) (24.2.0)\n",
      "Requirement already satisfied: frozenlist>=1.1.1 in /Users/brianpisaneschi/Library/CloudStorage/OneDrive-CFAInstitute/Coding/GitHub/The-Automation-Ahead/conda-env/lib/python3.12/site-packages (from aiohttp<4.0.0,>=3.8.3->langchain) (1.5.0)\n",
      "Requirement already satisfied: multidict<7.0,>=4.5 in /Users/brianpisaneschi/Library/CloudStorage/OneDrive-CFAInstitute/Coding/GitHub/The-Automation-Ahead/conda-env/lib/python3.12/site-packages (from aiohttp<4.0.0,>=3.8.3->langchain) (6.1.0)\n",
      "Requirement already satisfied: propcache>=0.2.0 in /Users/brianpisaneschi/Library/CloudStorage/OneDrive-CFAInstitute/Coding/GitHub/The-Automation-Ahead/conda-env/lib/python3.12/site-packages (from aiohttp<4.0.0,>=3.8.3->langchain) (0.2.1)\n",
      "Requirement already satisfied: yarl<2.0,>=1.17.0 in /Users/brianpisaneschi/Library/CloudStorage/OneDrive-CFAInstitute/Coding/GitHub/The-Automation-Ahead/conda-env/lib/python3.12/site-packages (from aiohttp<4.0.0,>=3.8.3->langchain) (1.18.3)\n",
      "Collecting jsonpatch<2.0,>=1.33 (from langchain-core<0.4.0,>=0.3.24->langchain)\n",
      "  Using cached jsonpatch-1.33-py2.py3-none-any.whl.metadata (3.0 kB)\n",
      "Requirement already satisfied: packaging<25,>=23.2 in /Users/brianpisaneschi/Library/CloudStorage/OneDrive-CFAInstitute/Coding/GitHub/The-Automation-Ahead/conda-env/lib/python3.12/site-packages (from langchain-core<0.4.0,>=0.3.24->langchain) (24.1)\n",
      "Requirement already satisfied: typing-extensions>=4.7 in /Users/brianpisaneschi/Library/CloudStorage/OneDrive-CFAInstitute/Coding/GitHub/The-Automation-Ahead/conda-env/lib/python3.12/site-packages (from langchain-core<0.4.0,>=0.3.24->langchain) (4.12.2)\n",
      "Requirement already satisfied: httpx<1,>=0.23.0 in /Users/brianpisaneschi/Library/CloudStorage/OneDrive-CFAInstitute/Coding/GitHub/The-Automation-Ahead/conda-env/lib/python3.12/site-packages (from langsmith<0.3,>=0.1.17->langchain) (0.28.1)\n",
      "Collecting orjson<4.0.0,>=3.9.14 (from langsmith<0.3,>=0.1.17->langchain)\n",
      "  Downloading orjson-3.10.12-cp312-cp312-macosx_10_15_x86_64.macosx_11_0_arm64.macosx_10_15_universal2.whl.metadata (41 kB)\n",
      "Collecting requests-toolbelt<2.0.0,>=1.0.0 (from langsmith<0.3,>=0.1.17->langchain)\n",
      "  Using cached requests_toolbelt-1.0.0-py2.py3-none-any.whl.metadata (14 kB)\n",
      "Requirement already satisfied: anyio<5,>=3.5.0 in /Users/brianpisaneschi/Library/CloudStorage/OneDrive-CFAInstitute/Coding/GitHub/The-Automation-Ahead/conda-env/lib/python3.12/site-packages (from openai<2.0.0,>=1.55.3->langchain-openai) (4.7.0)\n",
      "Requirement already satisfied: distro<2,>=1.7.0 in /Users/brianpisaneschi/Library/CloudStorage/OneDrive-CFAInstitute/Coding/GitHub/The-Automation-Ahead/conda-env/lib/python3.12/site-packages (from openai<2.0.0,>=1.55.3->langchain-openai) (1.9.0)\n",
      "Requirement already satisfied: jiter<1,>=0.4.0 in /Users/brianpisaneschi/Library/CloudStorage/OneDrive-CFAInstitute/Coding/GitHub/The-Automation-Ahead/conda-env/lib/python3.12/site-packages (from openai<2.0.0,>=1.55.3->langchain-openai) (0.8.2)\n",
      "Requirement already satisfied: sniffio in /Users/brianpisaneschi/Library/CloudStorage/OneDrive-CFAInstitute/Coding/GitHub/The-Automation-Ahead/conda-env/lib/python3.12/site-packages (from openai<2.0.0,>=1.55.3->langchain-openai) (1.3.1)\n",
      "Requirement already satisfied: tqdm>4 in /Users/brianpisaneschi/Library/CloudStorage/OneDrive-CFAInstitute/Coding/GitHub/The-Automation-Ahead/conda-env/lib/python3.12/site-packages (from openai<2.0.0,>=1.55.3->langchain-openai) (4.67.1)\n",
      "Requirement already satisfied: annotated-types>=0.6.0 in /Users/brianpisaneschi/Library/CloudStorage/OneDrive-CFAInstitute/Coding/GitHub/The-Automation-Ahead/conda-env/lib/python3.12/site-packages (from pydantic<3.0.0,>=2.7.4->langchain) (0.7.0)\n",
      "Requirement already satisfied: pydantic-core==2.27.1 in /Users/brianpisaneschi/Library/CloudStorage/OneDrive-CFAInstitute/Coding/GitHub/The-Automation-Ahead/conda-env/lib/python3.12/site-packages (from pydantic<3.0.0,>=2.7.4->langchain) (2.27.1)\n",
      "Requirement already satisfied: charset-normalizer<4,>=2 in /Users/brianpisaneschi/Library/CloudStorage/OneDrive-CFAInstitute/Coding/GitHub/The-Automation-Ahead/conda-env/lib/python3.12/site-packages (from requests<3,>=2->langchain) (3.4.0)\n",
      "Requirement already satisfied: idna<4,>=2.5 in /Users/brianpisaneschi/Library/CloudStorage/OneDrive-CFAInstitute/Coding/GitHub/The-Automation-Ahead/conda-env/lib/python3.12/site-packages (from requests<3,>=2->langchain) (3.10)\n",
      "Requirement already satisfied: urllib3<3,>=1.21.1 in /Users/brianpisaneschi/Library/CloudStorage/OneDrive-CFAInstitute/Coding/GitHub/The-Automation-Ahead/conda-env/lib/python3.12/site-packages (from requests<3,>=2->langchain) (2.2.3)\n",
      "Requirement already satisfied: certifi>=2017.4.17 in /Users/brianpisaneschi/Library/CloudStorage/OneDrive-CFAInstitute/Coding/GitHub/The-Automation-Ahead/conda-env/lib/python3.12/site-packages (from requests<3,>=2->langchain) (2024.8.30)\n",
      "Requirement already satisfied: regex>=2022.1.18 in /Users/brianpisaneschi/Library/CloudStorage/OneDrive-CFAInstitute/Coding/GitHub/The-Automation-Ahead/conda-env/lib/python3.12/site-packages (from tiktoken<1,>=0.7->langchain-openai) (2024.11.6)\n",
      "Requirement already satisfied: httpcore==1.* in /Users/brianpisaneschi/Library/CloudStorage/OneDrive-CFAInstitute/Coding/GitHub/The-Automation-Ahead/conda-env/lib/python3.12/site-packages (from httpx<1,>=0.23.0->langsmith<0.3,>=0.1.17->langchain) (1.0.7)\n",
      "Requirement already satisfied: h11<0.15,>=0.13 in /Users/brianpisaneschi/Library/CloudStorage/OneDrive-CFAInstitute/Coding/GitHub/The-Automation-Ahead/conda-env/lib/python3.12/site-packages (from httpcore==1.*->httpx<1,>=0.23.0->langsmith<0.3,>=0.1.17->langchain) (0.14.0)\n",
      "Collecting jsonpointer>=1.9 (from jsonpatch<2.0,>=1.33->langchain-core<0.4.0,>=0.3.24->langchain)\n",
      "  Using cached jsonpointer-3.0.0-py2.py3-none-any.whl.metadata (2.3 kB)\n",
      "Downloading langchain-0.3.11-py3-none-any.whl (1.0 MB)\n",
      "\u001b[2K   \u001b[90m━━━━━━━━━━━━━━━━━━━━━━━━━━━━━━━━━━━━━━━━\u001b[0m \u001b[32m1.0/1.0 MB\u001b[0m \u001b[31m13.7 MB/s\u001b[0m eta \u001b[36m0:00:00\u001b[0m\n",
      "\u001b[?25hDownloading langchain_openai-0.2.12-py3-none-any.whl (50 kB)\n",
      "Downloading langchain_core-0.3.24-py3-none-any.whl (410 kB)\n",
      "Using cached langchain_text_splitters-0.3.2-py3-none-any.whl (25 kB)\n",
      "Downloading langsmith-0.2.3-py3-none-any.whl (320 kB)\n",
      "Downloading SQLAlchemy-2.0.36-cp312-cp312-macosx_11_0_arm64.whl (2.1 MB)\n",
      "\u001b[2K   \u001b[90m━━━━━━━━━━━━━━━━━━━━━━━━━━━━━━━━━━━━━━━━\u001b[0m \u001b[32m2.1/2.1 MB\u001b[0m \u001b[31m15.5 MB/s\u001b[0m eta \u001b[36m0:00:00\u001b[0m\n",
      "\u001b[?25hUsing cached tenacity-9.0.0-py3-none-any.whl (28 kB)\n",
      "Using cached tiktoken-0.8.0-cp312-cp312-macosx_11_0_arm64.whl (982 kB)\n",
      "Using cached jsonpatch-1.33-py2.py3-none-any.whl (12 kB)\n",
      "Downloading orjson-3.10.12-cp312-cp312-macosx_10_15_x86_64.macosx_11_0_arm64.macosx_10_15_universal2.whl (248 kB)\n",
      "Using cached requests_toolbelt-1.0.0-py2.py3-none-any.whl (54 kB)\n",
      "Using cached jsonpointer-3.0.0-py2.py3-none-any.whl (7.6 kB)\n",
      "Installing collected packages: tenacity, SQLAlchemy, orjson, jsonpointer, tiktoken, requests-toolbelt, jsonpatch, langsmith, langchain-core, langchain-text-splitters, langchain-openai, langchain\n",
      "Successfully installed SQLAlchemy-2.0.36 jsonpatch-1.33 jsonpointer-3.0.0 langchain-0.3.11 langchain-core-0.3.24 langchain-openai-0.2.12 langchain-text-splitters-0.3.2 langsmith-0.2.3 orjson-3.10.12 requests-toolbelt-1.0.0 tenacity-9.0.0 tiktoken-0.8.0\n",
      "Collecting langchain-community\n",
      "  Downloading langchain_community-0.3.11-py3-none-any.whl.metadata (2.9 kB)\n",
      "Requirement already satisfied: PyYAML>=5.3 in /Users/brianpisaneschi/Library/CloudStorage/OneDrive-CFAInstitute/Coding/GitHub/The-Automation-Ahead/conda-env/lib/python3.12/site-packages (from langchain-community) (6.0.2)\n",
      "Requirement already satisfied: SQLAlchemy<3,>=1.4 in /Users/brianpisaneschi/Library/CloudStorage/OneDrive-CFAInstitute/Coding/GitHub/The-Automation-Ahead/conda-env/lib/python3.12/site-packages (from langchain-community) (2.0.36)\n",
      "Requirement already satisfied: aiohttp<4.0.0,>=3.8.3 in /Users/brianpisaneschi/Library/CloudStorage/OneDrive-CFAInstitute/Coding/GitHub/The-Automation-Ahead/conda-env/lib/python3.12/site-packages (from langchain-community) (3.11.10)\n",
      "Collecting dataclasses-json<0.7,>=0.5.7 (from langchain-community)\n",
      "  Using cached dataclasses_json-0.6.7-py3-none-any.whl.metadata (25 kB)\n",
      "Collecting httpx-sse<0.5.0,>=0.4.0 (from langchain-community)\n",
      "  Using cached httpx_sse-0.4.0-py3-none-any.whl.metadata (9.0 kB)\n",
      "Requirement already satisfied: langchain<0.4.0,>=0.3.11 in /Users/brianpisaneschi/Library/CloudStorage/OneDrive-CFAInstitute/Coding/GitHub/The-Automation-Ahead/conda-env/lib/python3.12/site-packages (from langchain-community) (0.3.11)\n",
      "Requirement already satisfied: langchain-core<0.4.0,>=0.3.24 in /Users/brianpisaneschi/Library/CloudStorage/OneDrive-CFAInstitute/Coding/GitHub/The-Automation-Ahead/conda-env/lib/python3.12/site-packages (from langchain-community) (0.3.24)\n",
      "Requirement already satisfied: langsmith<0.3,>=0.1.125 in /Users/brianpisaneschi/Library/CloudStorage/OneDrive-CFAInstitute/Coding/GitHub/The-Automation-Ahead/conda-env/lib/python3.12/site-packages (from langchain-community) (0.2.3)\n",
      "Requirement already satisfied: numpy<3,>=1.26.2 in /Users/brianpisaneschi/Library/CloudStorage/OneDrive-CFAInstitute/Coding/GitHub/The-Automation-Ahead/conda-env/lib/python3.12/site-packages (from langchain-community) (1.26.4)\n",
      "Collecting pydantic-settings<3.0.0,>=2.4.0 (from langchain-community)\n",
      "  Downloading pydantic_settings-2.7.0-py3-none-any.whl.metadata (3.5 kB)\n",
      "Requirement already satisfied: requests<3,>=2 in /Users/brianpisaneschi/Library/CloudStorage/OneDrive-CFAInstitute/Coding/GitHub/The-Automation-Ahead/conda-env/lib/python3.12/site-packages (from langchain-community) (2.32.3)\n",
      "Requirement already satisfied: tenacity!=8.4.0,<10,>=8.1.0 in /Users/brianpisaneschi/Library/CloudStorage/OneDrive-CFAInstitute/Coding/GitHub/The-Automation-Ahead/conda-env/lib/python3.12/site-packages (from langchain-community) (9.0.0)\n",
      "Requirement already satisfied: aiohappyeyeballs>=2.3.0 in /Users/brianpisaneschi/Library/CloudStorage/OneDrive-CFAInstitute/Coding/GitHub/The-Automation-Ahead/conda-env/lib/python3.12/site-packages (from aiohttp<4.0.0,>=3.8.3->langchain-community) (2.4.4)\n",
      "Requirement already satisfied: aiosignal>=1.1.2 in /Users/brianpisaneschi/Library/CloudStorage/OneDrive-CFAInstitute/Coding/GitHub/The-Automation-Ahead/conda-env/lib/python3.12/site-packages (from aiohttp<4.0.0,>=3.8.3->langchain-community) (1.3.1)\n",
      "Requirement already satisfied: attrs>=17.3.0 in /Users/brianpisaneschi/Library/CloudStorage/OneDrive-CFAInstitute/Coding/GitHub/The-Automation-Ahead/conda-env/lib/python3.12/site-packages (from aiohttp<4.0.0,>=3.8.3->langchain-community) (24.2.0)\n",
      "Requirement already satisfied: frozenlist>=1.1.1 in /Users/brianpisaneschi/Library/CloudStorage/OneDrive-CFAInstitute/Coding/GitHub/The-Automation-Ahead/conda-env/lib/python3.12/site-packages (from aiohttp<4.0.0,>=3.8.3->langchain-community) (1.5.0)\n",
      "Requirement already satisfied: multidict<7.0,>=4.5 in /Users/brianpisaneschi/Library/CloudStorage/OneDrive-CFAInstitute/Coding/GitHub/The-Automation-Ahead/conda-env/lib/python3.12/site-packages (from aiohttp<4.0.0,>=3.8.3->langchain-community) (6.1.0)\n",
      "Requirement already satisfied: propcache>=0.2.0 in /Users/brianpisaneschi/Library/CloudStorage/OneDrive-CFAInstitute/Coding/GitHub/The-Automation-Ahead/conda-env/lib/python3.12/site-packages (from aiohttp<4.0.0,>=3.8.3->langchain-community) (0.2.1)\n",
      "Requirement already satisfied: yarl<2.0,>=1.17.0 in /Users/brianpisaneschi/Library/CloudStorage/OneDrive-CFAInstitute/Coding/GitHub/The-Automation-Ahead/conda-env/lib/python3.12/site-packages (from aiohttp<4.0.0,>=3.8.3->langchain-community) (1.18.3)\n",
      "Collecting marshmallow<4.0.0,>=3.18.0 (from dataclasses-json<0.7,>=0.5.7->langchain-community)\n",
      "  Using cached marshmallow-3.23.1-py3-none-any.whl.metadata (7.5 kB)\n",
      "Collecting typing-inspect<1,>=0.4.0 (from dataclasses-json<0.7,>=0.5.7->langchain-community)\n",
      "  Using cached typing_inspect-0.9.0-py3-none-any.whl.metadata (1.5 kB)\n",
      "Requirement already satisfied: langchain-text-splitters<0.4.0,>=0.3.0 in /Users/brianpisaneschi/Library/CloudStorage/OneDrive-CFAInstitute/Coding/GitHub/The-Automation-Ahead/conda-env/lib/python3.12/site-packages (from langchain<0.4.0,>=0.3.11->langchain-community) (0.3.2)\n",
      "Requirement already satisfied: pydantic<3.0.0,>=2.7.4 in /Users/brianpisaneschi/Library/CloudStorage/OneDrive-CFAInstitute/Coding/GitHub/The-Automation-Ahead/conda-env/lib/python3.12/site-packages (from langchain<0.4.0,>=0.3.11->langchain-community) (2.10.3)\n",
      "Requirement already satisfied: jsonpatch<2.0,>=1.33 in /Users/brianpisaneschi/Library/CloudStorage/OneDrive-CFAInstitute/Coding/GitHub/The-Automation-Ahead/conda-env/lib/python3.12/site-packages (from langchain-core<0.4.0,>=0.3.24->langchain-community) (1.33)\n",
      "Requirement already satisfied: packaging<25,>=23.2 in /Users/brianpisaneschi/Library/CloudStorage/OneDrive-CFAInstitute/Coding/GitHub/The-Automation-Ahead/conda-env/lib/python3.12/site-packages (from langchain-core<0.4.0,>=0.3.24->langchain-community) (24.1)\n",
      "Requirement already satisfied: typing-extensions>=4.7 in /Users/brianpisaneschi/Library/CloudStorage/OneDrive-CFAInstitute/Coding/GitHub/The-Automation-Ahead/conda-env/lib/python3.12/site-packages (from langchain-core<0.4.0,>=0.3.24->langchain-community) (4.12.2)\n",
      "Requirement already satisfied: httpx<1,>=0.23.0 in /Users/brianpisaneschi/Library/CloudStorage/OneDrive-CFAInstitute/Coding/GitHub/The-Automation-Ahead/conda-env/lib/python3.12/site-packages (from langsmith<0.3,>=0.1.125->langchain-community) (0.28.1)\n",
      "Requirement already satisfied: orjson<4.0.0,>=3.9.14 in /Users/brianpisaneschi/Library/CloudStorage/OneDrive-CFAInstitute/Coding/GitHub/The-Automation-Ahead/conda-env/lib/python3.12/site-packages (from langsmith<0.3,>=0.1.125->langchain-community) (3.10.12)\n",
      "Requirement already satisfied: requests-toolbelt<2.0.0,>=1.0.0 in /Users/brianpisaneschi/Library/CloudStorage/OneDrive-CFAInstitute/Coding/GitHub/The-Automation-Ahead/conda-env/lib/python3.12/site-packages (from langsmith<0.3,>=0.1.125->langchain-community) (1.0.0)\n",
      "Requirement already satisfied: python-dotenv>=0.21.0 in /Users/brianpisaneschi/Library/CloudStorage/OneDrive-CFAInstitute/Coding/GitHub/The-Automation-Ahead/conda-env/lib/python3.12/site-packages (from pydantic-settings<3.0.0,>=2.4.0->langchain-community) (1.0.1)\n",
      "Requirement already satisfied: charset-normalizer<4,>=2 in /Users/brianpisaneschi/Library/CloudStorage/OneDrive-CFAInstitute/Coding/GitHub/The-Automation-Ahead/conda-env/lib/python3.12/site-packages (from requests<3,>=2->langchain-community) (3.4.0)\n",
      "Requirement already satisfied: idna<4,>=2.5 in /Users/brianpisaneschi/Library/CloudStorage/OneDrive-CFAInstitute/Coding/GitHub/The-Automation-Ahead/conda-env/lib/python3.12/site-packages (from requests<3,>=2->langchain-community) (3.10)\n",
      "Requirement already satisfied: urllib3<3,>=1.21.1 in /Users/brianpisaneschi/Library/CloudStorage/OneDrive-CFAInstitute/Coding/GitHub/The-Automation-Ahead/conda-env/lib/python3.12/site-packages (from requests<3,>=2->langchain-community) (2.2.3)\n",
      "Requirement already satisfied: certifi>=2017.4.17 in /Users/brianpisaneschi/Library/CloudStorage/OneDrive-CFAInstitute/Coding/GitHub/The-Automation-Ahead/conda-env/lib/python3.12/site-packages (from requests<3,>=2->langchain-community) (2024.8.30)\n",
      "Requirement already satisfied: anyio in /Users/brianpisaneschi/Library/CloudStorage/OneDrive-CFAInstitute/Coding/GitHub/The-Automation-Ahead/conda-env/lib/python3.12/site-packages (from httpx<1,>=0.23.0->langsmith<0.3,>=0.1.125->langchain-community) (4.7.0)\n",
      "Requirement already satisfied: httpcore==1.* in /Users/brianpisaneschi/Library/CloudStorage/OneDrive-CFAInstitute/Coding/GitHub/The-Automation-Ahead/conda-env/lib/python3.12/site-packages (from httpx<1,>=0.23.0->langsmith<0.3,>=0.1.125->langchain-community) (1.0.7)\n",
      "Requirement already satisfied: h11<0.15,>=0.13 in /Users/brianpisaneschi/Library/CloudStorage/OneDrive-CFAInstitute/Coding/GitHub/The-Automation-Ahead/conda-env/lib/python3.12/site-packages (from httpcore==1.*->httpx<1,>=0.23.0->langsmith<0.3,>=0.1.125->langchain-community) (0.14.0)\n",
      "Requirement already satisfied: jsonpointer>=1.9 in /Users/brianpisaneschi/Library/CloudStorage/OneDrive-CFAInstitute/Coding/GitHub/The-Automation-Ahead/conda-env/lib/python3.12/site-packages (from jsonpatch<2.0,>=1.33->langchain-core<0.4.0,>=0.3.24->langchain-community) (3.0.0)\n",
      "Requirement already satisfied: annotated-types>=0.6.0 in /Users/brianpisaneschi/Library/CloudStorage/OneDrive-CFAInstitute/Coding/GitHub/The-Automation-Ahead/conda-env/lib/python3.12/site-packages (from pydantic<3.0.0,>=2.7.4->langchain<0.4.0,>=0.3.11->langchain-community) (0.7.0)\n",
      "Requirement already satisfied: pydantic-core==2.27.1 in /Users/brianpisaneschi/Library/CloudStorage/OneDrive-CFAInstitute/Coding/GitHub/The-Automation-Ahead/conda-env/lib/python3.12/site-packages (from pydantic<3.0.0,>=2.7.4->langchain<0.4.0,>=0.3.11->langchain-community) (2.27.1)\n",
      "Collecting mypy-extensions>=0.3.0 (from typing-inspect<1,>=0.4.0->dataclasses-json<0.7,>=0.5.7->langchain-community)\n",
      "  Using cached mypy_extensions-1.0.0-py3-none-any.whl.metadata (1.1 kB)\n",
      "Requirement already satisfied: sniffio>=1.1 in /Users/brianpisaneschi/Library/CloudStorage/OneDrive-CFAInstitute/Coding/GitHub/The-Automation-Ahead/conda-env/lib/python3.12/site-packages (from anyio->httpx<1,>=0.23.0->langsmith<0.3,>=0.1.125->langchain-community) (1.3.1)\n",
      "Downloading langchain_community-0.3.11-py3-none-any.whl (2.5 MB)\n",
      "\u001b[2K   \u001b[90m━━━━━━━━━━━━━━━━━━━━━━━━━━━━━━━━━━━━━━━━\u001b[0m \u001b[32m2.5/2.5 MB\u001b[0m \u001b[31m9.3 MB/s\u001b[0m eta \u001b[36m0:00:00\u001b[0mta \u001b[36m0:00:01\u001b[0m\n",
      "\u001b[?25hUsing cached dataclasses_json-0.6.7-py3-none-any.whl (28 kB)\n",
      "Using cached httpx_sse-0.4.0-py3-none-any.whl (7.8 kB)\n",
      "Downloading pydantic_settings-2.7.0-py3-none-any.whl (29 kB)\n",
      "Using cached marshmallow-3.23.1-py3-none-any.whl (49 kB)\n",
      "Using cached typing_inspect-0.9.0-py3-none-any.whl (8.8 kB)\n",
      "Using cached mypy_extensions-1.0.0-py3-none-any.whl (4.7 kB)\n",
      "Installing collected packages: mypy-extensions, marshmallow, httpx-sse, typing-inspect, pydantic-settings, dataclasses-json, langchain-community\n",
      "Successfully installed dataclasses-json-0.6.7 httpx-sse-0.4.0 langchain-community-0.3.11 marshmallow-3.23.1 mypy-extensions-1.0.0 pydantic-settings-2.7.0 typing-inspect-0.9.0\n"
     ]
    }
   ],
   "source": [
    "!pip install datasets\n",
    "!pip install --upgrade transformers\n",
    "!pip install -U langchain langchain-openai\n",
    "!pip install -U langchain-community"
   ]
  },
  {
   "cell_type": "code",
   "execution_count": 2,
   "id": "8e9e667d-e3c2-4576-8c26-6d33edc13bc1",
   "metadata": {
    "id": "8e9e667d-e3c2-4576-8c26-6d33edc13bc1"
   },
   "outputs": [],
   "source": [
    "# Import some basic packages\n",
    "import os\n",
    "import torch\n",
    "import torchvision\n",
    "import tensorflow as tf\n",
    "import pandas as pd\n",
    "\n",
    "from transformers import pipeline\n",
    "from transformers import AutoTokenizer, AutoModelForTokenClassification, AutoModelForCausalLM\n",
    "\n",
    "from huggingface_hub import hf_hub_download\n",
    "from huggingface_hub import login"
   ]
  },
  {
   "cell_type": "code",
   "execution_count": null,
   "id": "697ccc8c-66a5-425f-b245-feec26557a2b",
   "metadata": {
    "colab": {
     "base_uri": "https://localhost:8080/"
    },
    "id": "697ccc8c-66a5-425f-b245-feec26557a2b",
    "outputId": "f70c748b-b161-4bd2-8c5d-8db398f4580f"
   },
   "outputs": [],
   "source": [
    "# make sure you have an updated transformers version (>4.43)\n",
    "import transformers\n",
    "print(transformers.__version__)"
   ]
  },
  {
   "cell_type": "code",
   "execution_count": null,
   "id": "b7acc82c-3704-4018-855b-09c17afff5e5",
   "metadata": {
    "colab": {
     "base_uri": "https://localhost:8080/"
    },
    "id": "b7acc82c-3704-4018-855b-09c17afff5e5",
    "outputId": "06bebc01-7d05-4085-98ab-1ad0b615a952"
   },
   "outputs": [],
   "source": [
    "# Both should return 'True' if on MacOs machine, 'False' if running on cloud\n",
    "print(torch.backends.mps.is_available())\n",
    "print(torch.backends.mps.is_built())\n",
    "# Should recognize 1 GPU. If not, got to Runtime --> Change runtime type --> select a GPU for this session\n",
    "print(\"Num GPUs Available: \", len(tf.config.experimental.list_physical_devices('GPU')))"
   ]
  },
  {
   "cell_type": "code",
   "execution_count": 5,
   "id": "HG0Iv_aBW7Z5",
   "metadata": {
    "colab": {
     "base_uri": "https://localhost:8080/"
    },
    "id": "HG0Iv_aBW7Z5",
    "outputId": "881a51f8-a78b-464e-846d-27249adfa90f"
   },
   "outputs": [
    {
     "data": {
      "text/plain": [
       "device(type='cpu')"
      ]
     },
     "execution_count": 5,
     "metadata": {},
     "output_type": "execute_result"
    }
   ],
   "source": [
    "# Run locally\n",
    "# device = \"mps\" if torch.backends.mps.is_available() else \"cpu\"\n",
    "\n",
    "# For Colab\n",
    "if torch.cuda.is_available():\n",
    "    device = \"cuda:0\"\n",
    "else:\n",
    "    device = \"cpu\"\n",
    "\n",
    "device = torch.device(device)\n",
    "\n",
    "DEVICE = device\n",
    "DEVICE"
   ]
  },
  {
   "cell_type": "markdown",
   "id": "495bcd85-8ca9-4ca5-a56e-491c6905a3e5",
   "metadata": {
    "id": "495bcd85-8ca9-4ca5-a56e-491c6905a3e5"
   },
   "source": [
    "### Authenticate through HuggingFace"
   ]
  },
  {
   "cell_type": "markdown",
   "id": "nZmZ-3d6WoUk",
   "metadata": {
    "id": "nZmZ-3d6WoUk"
   },
   "source": [
    "HuggingFace requires to login and use a specialised token to use most of their models and datasets. We suggest creating a HuggingFace account and going to settings to create an access token. Use a name of your prefrerence and create either a read or a write token. Useful video walkthrough on how to generate tokens:https://www.youtube.com/watch?v=Br7AcznvzSA . Try to not share your token when sharing this notebook."
   ]
  },
  {
   "cell_type": "code",
   "execution_count": 6,
   "id": "miIsVTWQWzxM",
   "metadata": {
    "colab": {
     "base_uri": "https://localhost:8080/",
     "height": 17,
     "referenced_widgets": [
      "b53e3f4b9b2e4dc897a09c62880d6241",
      "5c37d81d7be14c18852dc8eb2191e3cc",
      "ba5613e14223472794ec9ad303d7e5b2",
      "8e0ad60cdfba477bb576a11785cf6253",
      "1381853576c042edaa77ee735a62c77d",
      "bc96ea910ced4d2ab983a9c61c331ad1",
      "dd5ab03e655b43c7ba98bccd419742bb",
      "a0b9c260d696425991f036fa99b951ff",
      "e8f998deeeba426d8f52ffbef1060796",
      "2f981fe393c24be29d4f58a8ee30fd91",
      "3204cc3ef9ea40b2a4376b884d65138c",
      "f62c5993c6384f419b60b8bd19dd1712",
      "a46e22f365bc44708e4027841704a502",
      "91132ba1fa264eaaaa82c0fb826f2bf8",
      "54bada4147f447fb81c0f829a3e02a0d",
      "fcd9e8d60dd94fa29cd629471308b9d7",
      "0692572a202c4ba28efc8ddcb9264fbb",
      "1cb0b285320d4b77ba9b04a26fd3fd6a",
      "0be11a657e1b44a8a83719c3982d2c59",
      "282b40833dd74adcb1b940c15c7919fd"
     ]
    },
    "id": "miIsVTWQWzxM",
    "outputId": "2cc36acd-11f2-4e32-ce35-a52fc5831f96"
   },
   "outputs": [
    {
     "data": {
      "application/vnd.jupyter.widget-view+json": {
       "model_id": "fabdcfe79f21472d8b3a9a991766f9e7",
       "version_major": 2,
       "version_minor": 0
      },
      "text/plain": [
       "VBox(children=(HTML(value='<center> <img\\nsrc=https://huggingface.co/front/assets/huggingface_logo-noborder.sv…"
      ]
     },
     "metadata": {},
     "output_type": "display_data"
    }
   ],
   "source": [
    "# Login to HuggingFace with your token\n",
    "from huggingface_hub import notebook_login\n",
    "notebook_login()\n",
    "\n",
    "# Alternatively, you can login via terminal with this command: huggingface-cli login\n",
    "# Add your token and hit Y when prompted to add token as git credentials"
   ]
  },
  {
   "cell_type": "markdown",
   "id": "nu5CoT4GXZSO",
   "metadata": {
    "id": "nu5CoT4GXZSO"
   },
   "source": [
    "#### Load and run HuggingFace models (non-LLMs)"
   ]
  },
  {
   "cell_type": "markdown",
   "id": "iDvIjuu4XW-O",
   "metadata": {
    "id": "iDvIjuu4XW-O"
   },
   "source": [
    "You need to find a model you'd like to use in HuggingFace and click on the right top corner to use it with HuggingFace. Copy and paste that code block here. Make sure you include a pipeline, an input_text and an output argument to call the model. Some useful examples are provided below.\n",
    "\n",
    "The model name or model_id can be copied from the top part of the page, it will be somethng like 'meta-llama/Llama-2-7b-chat-hf'"
   ]
  },
  {
   "cell_type": "code",
   "execution_count": null,
   "id": "3c3aec37-24bc-457c-a778-86cfd052f914",
   "metadata": {
    "colab": {
     "base_uri": "https://localhost:8080/"
    },
    "id": "3c3aec37-24bc-457c-a778-86cfd052f914",
    "outputId": "482983e0-7f31-4989-c07a-ec0ee474dde5"
   },
   "outputs": [],
   "source": [
    "# EXAMPLES of HuggingFace transformer-based models for different NLP tasks.\n",
    "\n",
    "\n",
    "## Sentiment Analyser\n",
    "classifier = pipeline(\"sentiment-analysis\",\n",
    "                      model=\"cardiffnlp/twitter-roberta-base-sentiment\",\n",
    "                      tokenizer=\"cardiffnlp/twitter-roberta-base-sentiment\", device = DEVICE)\n",
    "results = classifier(\"We are very happy to show you the 🤗 Transformers library.\")\n",
    "print(f\"{results[0]['label']} with score {results[0]['score']}\")\n",
    "\n",
    "\n",
    "## Named Entity Recognition\n",
    "\n",
    "tokenizer = AutoTokenizer.from_pretrained(\"dslim/bert-base-NER\")\n",
    "model = AutoModelForTokenClassification.from_pretrained(\"dslim/bert-base-NER\")\n",
    "\n",
    "nlp = pipeline(\"ner\", model=model, tokenizer=tokenizer)\n",
    "example = \"My name is Wolfgang and I live in Berlin\"\n",
    "\n",
    "ner_results = nlp(example)\n",
    "print(ner_results)\n",
    "\n",
    "\n"
   ]
  },
  {
   "cell_type": "markdown",
   "id": "srw2PpV9XhhH",
   "metadata": {
    "id": "srw2PpV9XhhH"
   },
   "source": [
    "#### Load and run HuggingFace models (LLMs)"
   ]
  },
  {
   "cell_type": "markdown",
   "id": "tYLF_y4goVtt",
   "metadata": {
    "id": "tYLF_y4goVtt"
   },
   "source": [
    "We are going to see some examples of running LLMs using HuggingFace and Langchain below."
   ]
  },
  {
   "cell_type": "code",
   "execution_count": 8,
   "id": "pTiKN-x-oa92",
   "metadata": {
    "colab": {
     "base_uri": "https://localhost:8080/"
    },
    "id": "pTiKN-x-oa92",
    "outputId": "c07cefdc-2f53-4f88-ebcf-bce4f97b5438"
   },
   "outputs": [],
   "source": [
    "# check the type of GPU allocated to our notebook\n",
    "!nvidia-smi\n"
   ]
  },
  {
   "cell_type": "code",
   "execution_count": 9,
   "id": "yjkwR6cTwSFL",
   "metadata": {
    "id": "yjkwR6cTwSFL"
   },
   "outputs": [],
   "source": [
    "torch.cuda.empty_cache() # free up unused memory"
   ]
  },
  {
   "cell_type": "code",
   "execution_count": 10,
   "id": "dht_ORRTyPXX",
   "metadata": {
    "id": "dht_ORRTyPXX"
   },
   "outputs": [],
   "source": [
    "import os\n",
    "os.environ['PYTORCH_CUDA_ALLOC_CONF'] = 'expandable_segments:True'\n",
    "os.environ['CUDA_VISIBLE_DEVICES'] = '0'"
   ]
  },
  {
   "cell_type": "markdown",
   "id": "_8Js-GPmmXTD",
   "metadata": {
    "id": "_8Js-GPmmXTD"
   },
   "source": [
    "Example 1: In the below snippet you will find a sample run of a relatively small LLM. To run an LLM of your choice you need to adapt the code for the tokenizer and model. Also, you need to adjust the\n",
    "pipeline to the task. Some key tasks:\n",
    "* \"text-generation\"\n",
    "* \"text-classification\"\n",
    "* \"summarization\"\n",
    "* \"question-answering\"\n",
    "* \"sentiment-analysis\" and more."
   ]
  },
  {
   "cell_type": "code",
   "execution_count": 11,
   "id": "AM-4S0SmnN5V",
   "metadata": {
    "colab": {
     "base_uri": "https://localhost:8080/"
    },
    "id": "AM-4S0SmnN5V",
    "outputId": "6f9c4867-1f2d-4621-a4f7-2e6ef3dba3a7"
   },
   "outputs": [
    {
     "ename": "OSError",
     "evalue": "You are trying to access a gated repo.\nMake sure to have access to it at https://huggingface.co/meta-llama/Llama-3.2-1B.\n401 Client Error. (Request ID: Root=1-675c4bb5-700eea6007306f6e1a4f48f4;ca6c8b64-ed6b-499e-ab0d-86502518b364)\n\nCannot access gated repo for url https://huggingface.co/meta-llama/Llama-3.2-1B/resolve/main/config.json.\nAccess to model meta-llama/Llama-3.2-1B is restricted. You must have access to it and be authenticated to access it. Please log in.",
     "output_type": "error",
     "traceback": [
      "\u001b[0;31m---------------------------------------------------------------------------\u001b[0m",
      "\u001b[0;31mHTTPError\u001b[0m                                 Traceback (most recent call last)",
      "File \u001b[0;32m~/OneDrive - CFA Institute/Coding/GitHub/The-Automation-Ahead/conda-env/lib/python3.12/site-packages/huggingface_hub/utils/_http.py:406\u001b[0m, in \u001b[0;36mhf_raise_for_status\u001b[0;34m(response, endpoint_name)\u001b[0m\n\u001b[1;32m    405\u001b[0m \u001b[38;5;28;01mtry\u001b[39;00m:\n\u001b[0;32m--> 406\u001b[0m     response\u001b[38;5;241m.\u001b[39mraise_for_status()\n\u001b[1;32m    407\u001b[0m \u001b[38;5;28;01mexcept\u001b[39;00m HTTPError \u001b[38;5;28;01mas\u001b[39;00m e:\n",
      "File \u001b[0;32m~/OneDrive - CFA Institute/Coding/GitHub/The-Automation-Ahead/conda-env/lib/python3.12/site-packages/requests/models.py:1024\u001b[0m, in \u001b[0;36mResponse.raise_for_status\u001b[0;34m(self)\u001b[0m\n\u001b[1;32m   1023\u001b[0m \u001b[38;5;28;01mif\u001b[39;00m http_error_msg:\n\u001b[0;32m-> 1024\u001b[0m     \u001b[38;5;28;01mraise\u001b[39;00m HTTPError(http_error_msg, response\u001b[38;5;241m=\u001b[39m\u001b[38;5;28mself\u001b[39m)\n",
      "\u001b[0;31mHTTPError\u001b[0m: 401 Client Error: Unauthorized for url: https://huggingface.co/meta-llama/Llama-3.2-1B/resolve/main/config.json",
      "\nThe above exception was the direct cause of the following exception:\n",
      "\u001b[0;31mGatedRepoError\u001b[0m                            Traceback (most recent call last)",
      "File \u001b[0;32m~/OneDrive - CFA Institute/Coding/GitHub/The-Automation-Ahead/conda-env/lib/python3.12/site-packages/transformers/utils/hub.py:403\u001b[0m, in \u001b[0;36mcached_file\u001b[0;34m(path_or_repo_id, filename, cache_dir, force_download, resume_download, proxies, token, revision, local_files_only, subfolder, repo_type, user_agent, _raise_exceptions_for_gated_repo, _raise_exceptions_for_missing_entries, _raise_exceptions_for_connection_errors, _commit_hash, **deprecated_kwargs)\u001b[0m\n\u001b[1;32m    401\u001b[0m \u001b[38;5;28;01mtry\u001b[39;00m:\n\u001b[1;32m    402\u001b[0m     \u001b[38;5;66;03m# Load from URL or cache if already cached\u001b[39;00m\n\u001b[0;32m--> 403\u001b[0m     resolved_file \u001b[38;5;241m=\u001b[39m hf_hub_download(\n\u001b[1;32m    404\u001b[0m         path_or_repo_id,\n\u001b[1;32m    405\u001b[0m         filename,\n\u001b[1;32m    406\u001b[0m         subfolder\u001b[38;5;241m=\u001b[39m\u001b[38;5;28;01mNone\u001b[39;00m \u001b[38;5;28;01mif\u001b[39;00m \u001b[38;5;28mlen\u001b[39m(subfolder) \u001b[38;5;241m==\u001b[39m \u001b[38;5;241m0\u001b[39m \u001b[38;5;28;01melse\u001b[39;00m subfolder,\n\u001b[1;32m    407\u001b[0m         repo_type\u001b[38;5;241m=\u001b[39mrepo_type,\n\u001b[1;32m    408\u001b[0m         revision\u001b[38;5;241m=\u001b[39mrevision,\n\u001b[1;32m    409\u001b[0m         cache_dir\u001b[38;5;241m=\u001b[39mcache_dir,\n\u001b[1;32m    410\u001b[0m         user_agent\u001b[38;5;241m=\u001b[39muser_agent,\n\u001b[1;32m    411\u001b[0m         force_download\u001b[38;5;241m=\u001b[39mforce_download,\n\u001b[1;32m    412\u001b[0m         proxies\u001b[38;5;241m=\u001b[39mproxies,\n\u001b[1;32m    413\u001b[0m         resume_download\u001b[38;5;241m=\u001b[39mresume_download,\n\u001b[1;32m    414\u001b[0m         token\u001b[38;5;241m=\u001b[39mtoken,\n\u001b[1;32m    415\u001b[0m         local_files_only\u001b[38;5;241m=\u001b[39mlocal_files_only,\n\u001b[1;32m    416\u001b[0m     )\n\u001b[1;32m    417\u001b[0m \u001b[38;5;28;01mexcept\u001b[39;00m GatedRepoError \u001b[38;5;28;01mas\u001b[39;00m e:\n",
      "File \u001b[0;32m~/OneDrive - CFA Institute/Coding/GitHub/The-Automation-Ahead/conda-env/lib/python3.12/site-packages/huggingface_hub/utils/_validators.py:114\u001b[0m, in \u001b[0;36mvalidate_hf_hub_args.<locals>._inner_fn\u001b[0;34m(*args, **kwargs)\u001b[0m\n\u001b[1;32m    112\u001b[0m     kwargs \u001b[38;5;241m=\u001b[39m smoothly_deprecate_use_auth_token(fn_name\u001b[38;5;241m=\u001b[39mfn\u001b[38;5;241m.\u001b[39m\u001b[38;5;18m__name__\u001b[39m, has_token\u001b[38;5;241m=\u001b[39mhas_token, kwargs\u001b[38;5;241m=\u001b[39mkwargs)\n\u001b[0;32m--> 114\u001b[0m \u001b[38;5;28;01mreturn\u001b[39;00m fn(\u001b[38;5;241m*\u001b[39margs, \u001b[38;5;241m*\u001b[39m\u001b[38;5;241m*\u001b[39mkwargs)\n",
      "File \u001b[0;32m~/OneDrive - CFA Institute/Coding/GitHub/The-Automation-Ahead/conda-env/lib/python3.12/site-packages/huggingface_hub/file_download.py:862\u001b[0m, in \u001b[0;36mhf_hub_download\u001b[0;34m(repo_id, filename, subfolder, repo_type, revision, library_name, library_version, cache_dir, local_dir, user_agent, force_download, proxies, etag_timeout, token, local_files_only, headers, endpoint, resume_download, force_filename, local_dir_use_symlinks)\u001b[0m\n\u001b[1;32m    861\u001b[0m \u001b[38;5;28;01melse\u001b[39;00m:\n\u001b[0;32m--> 862\u001b[0m     \u001b[38;5;28;01mreturn\u001b[39;00m _hf_hub_download_to_cache_dir(\n\u001b[1;32m    863\u001b[0m         \u001b[38;5;66;03m# Destination\u001b[39;00m\n\u001b[1;32m    864\u001b[0m         cache_dir\u001b[38;5;241m=\u001b[39mcache_dir,\n\u001b[1;32m    865\u001b[0m         \u001b[38;5;66;03m# File info\u001b[39;00m\n\u001b[1;32m    866\u001b[0m         repo_id\u001b[38;5;241m=\u001b[39mrepo_id,\n\u001b[1;32m    867\u001b[0m         filename\u001b[38;5;241m=\u001b[39mfilename,\n\u001b[1;32m    868\u001b[0m         repo_type\u001b[38;5;241m=\u001b[39mrepo_type,\n\u001b[1;32m    869\u001b[0m         revision\u001b[38;5;241m=\u001b[39mrevision,\n\u001b[1;32m    870\u001b[0m         \u001b[38;5;66;03m# HTTP info\u001b[39;00m\n\u001b[1;32m    871\u001b[0m         endpoint\u001b[38;5;241m=\u001b[39mendpoint,\n\u001b[1;32m    872\u001b[0m         etag_timeout\u001b[38;5;241m=\u001b[39metag_timeout,\n\u001b[1;32m    873\u001b[0m         headers\u001b[38;5;241m=\u001b[39mheaders,\n\u001b[1;32m    874\u001b[0m         proxies\u001b[38;5;241m=\u001b[39mproxies,\n\u001b[1;32m    875\u001b[0m         token\u001b[38;5;241m=\u001b[39mtoken,\n\u001b[1;32m    876\u001b[0m         \u001b[38;5;66;03m# Additional options\u001b[39;00m\n\u001b[1;32m    877\u001b[0m         local_files_only\u001b[38;5;241m=\u001b[39mlocal_files_only,\n\u001b[1;32m    878\u001b[0m         force_download\u001b[38;5;241m=\u001b[39mforce_download,\n\u001b[1;32m    879\u001b[0m     )\n",
      "File \u001b[0;32m~/OneDrive - CFA Institute/Coding/GitHub/The-Automation-Ahead/conda-env/lib/python3.12/site-packages/huggingface_hub/file_download.py:969\u001b[0m, in \u001b[0;36m_hf_hub_download_to_cache_dir\u001b[0;34m(cache_dir, repo_id, filename, repo_type, revision, endpoint, etag_timeout, headers, proxies, token, local_files_only, force_download)\u001b[0m\n\u001b[1;32m    968\u001b[0m     \u001b[38;5;66;03m# Otherwise, raise appropriate error\u001b[39;00m\n\u001b[0;32m--> 969\u001b[0m     _raise_on_head_call_error(head_call_error, force_download, local_files_only)\n\u001b[1;32m    971\u001b[0m \u001b[38;5;66;03m# From now on, etag, commit_hash, url and size are not None.\u001b[39;00m\n",
      "File \u001b[0;32m~/OneDrive - CFA Institute/Coding/GitHub/The-Automation-Ahead/conda-env/lib/python3.12/site-packages/huggingface_hub/file_download.py:1484\u001b[0m, in \u001b[0;36m_raise_on_head_call_error\u001b[0;34m(head_call_error, force_download, local_files_only)\u001b[0m\n\u001b[1;32m   1482\u001b[0m \u001b[38;5;28;01melif\u001b[39;00m \u001b[38;5;28misinstance\u001b[39m(head_call_error, RepositoryNotFoundError) \u001b[38;5;129;01mor\u001b[39;00m \u001b[38;5;28misinstance\u001b[39m(head_call_error, GatedRepoError):\n\u001b[1;32m   1483\u001b[0m     \u001b[38;5;66;03m# Repo not found or gated => let's raise the actual error\u001b[39;00m\n\u001b[0;32m-> 1484\u001b[0m     \u001b[38;5;28;01mraise\u001b[39;00m head_call_error\n\u001b[1;32m   1485\u001b[0m \u001b[38;5;28;01melse\u001b[39;00m:\n\u001b[1;32m   1486\u001b[0m     \u001b[38;5;66;03m# Otherwise: most likely a connection issue or Hub downtime => let's warn the user\u001b[39;00m\n",
      "File \u001b[0;32m~/OneDrive - CFA Institute/Coding/GitHub/The-Automation-Ahead/conda-env/lib/python3.12/site-packages/huggingface_hub/file_download.py:1376\u001b[0m, in \u001b[0;36m_get_metadata_or_catch_error\u001b[0;34m(repo_id, filename, repo_type, revision, endpoint, proxies, etag_timeout, headers, token, local_files_only, relative_filename, storage_folder)\u001b[0m\n\u001b[1;32m   1375\u001b[0m \u001b[38;5;28;01mtry\u001b[39;00m:\n\u001b[0;32m-> 1376\u001b[0m     metadata \u001b[38;5;241m=\u001b[39m get_hf_file_metadata(\n\u001b[1;32m   1377\u001b[0m         url\u001b[38;5;241m=\u001b[39murl, proxies\u001b[38;5;241m=\u001b[39mproxies, timeout\u001b[38;5;241m=\u001b[39metag_timeout, headers\u001b[38;5;241m=\u001b[39mheaders, token\u001b[38;5;241m=\u001b[39mtoken\n\u001b[1;32m   1378\u001b[0m     )\n\u001b[1;32m   1379\u001b[0m \u001b[38;5;28;01mexcept\u001b[39;00m EntryNotFoundError \u001b[38;5;28;01mas\u001b[39;00m http_error:\n",
      "File \u001b[0;32m~/OneDrive - CFA Institute/Coding/GitHub/The-Automation-Ahead/conda-env/lib/python3.12/site-packages/huggingface_hub/utils/_validators.py:114\u001b[0m, in \u001b[0;36mvalidate_hf_hub_args.<locals>._inner_fn\u001b[0;34m(*args, **kwargs)\u001b[0m\n\u001b[1;32m    112\u001b[0m     kwargs \u001b[38;5;241m=\u001b[39m smoothly_deprecate_use_auth_token(fn_name\u001b[38;5;241m=\u001b[39mfn\u001b[38;5;241m.\u001b[39m\u001b[38;5;18m__name__\u001b[39m, has_token\u001b[38;5;241m=\u001b[39mhas_token, kwargs\u001b[38;5;241m=\u001b[39mkwargs)\n\u001b[0;32m--> 114\u001b[0m \u001b[38;5;28;01mreturn\u001b[39;00m fn(\u001b[38;5;241m*\u001b[39margs, \u001b[38;5;241m*\u001b[39m\u001b[38;5;241m*\u001b[39mkwargs)\n",
      "File \u001b[0;32m~/OneDrive - CFA Institute/Coding/GitHub/The-Automation-Ahead/conda-env/lib/python3.12/site-packages/huggingface_hub/file_download.py:1296\u001b[0m, in \u001b[0;36mget_hf_file_metadata\u001b[0;34m(url, token, proxies, timeout, library_name, library_version, user_agent, headers)\u001b[0m\n\u001b[1;32m   1295\u001b[0m \u001b[38;5;66;03m# Retrieve metadata\u001b[39;00m\n\u001b[0;32m-> 1296\u001b[0m r \u001b[38;5;241m=\u001b[39m _request_wrapper(\n\u001b[1;32m   1297\u001b[0m     method\u001b[38;5;241m=\u001b[39m\u001b[38;5;124m\"\u001b[39m\u001b[38;5;124mHEAD\u001b[39m\u001b[38;5;124m\"\u001b[39m,\n\u001b[1;32m   1298\u001b[0m     url\u001b[38;5;241m=\u001b[39murl,\n\u001b[1;32m   1299\u001b[0m     headers\u001b[38;5;241m=\u001b[39mheaders,\n\u001b[1;32m   1300\u001b[0m     allow_redirects\u001b[38;5;241m=\u001b[39m\u001b[38;5;28;01mFalse\u001b[39;00m,\n\u001b[1;32m   1301\u001b[0m     follow_relative_redirects\u001b[38;5;241m=\u001b[39m\u001b[38;5;28;01mTrue\u001b[39;00m,\n\u001b[1;32m   1302\u001b[0m     proxies\u001b[38;5;241m=\u001b[39mproxies,\n\u001b[1;32m   1303\u001b[0m     timeout\u001b[38;5;241m=\u001b[39mtimeout,\n\u001b[1;32m   1304\u001b[0m )\n\u001b[1;32m   1305\u001b[0m hf_raise_for_status(r)\n",
      "File \u001b[0;32m~/OneDrive - CFA Institute/Coding/GitHub/The-Automation-Ahead/conda-env/lib/python3.12/site-packages/huggingface_hub/file_download.py:277\u001b[0m, in \u001b[0;36m_request_wrapper\u001b[0;34m(method, url, follow_relative_redirects, **params)\u001b[0m\n\u001b[1;32m    276\u001b[0m \u001b[38;5;28;01mif\u001b[39;00m follow_relative_redirects:\n\u001b[0;32m--> 277\u001b[0m     response \u001b[38;5;241m=\u001b[39m _request_wrapper(\n\u001b[1;32m    278\u001b[0m         method\u001b[38;5;241m=\u001b[39mmethod,\n\u001b[1;32m    279\u001b[0m         url\u001b[38;5;241m=\u001b[39murl,\n\u001b[1;32m    280\u001b[0m         follow_relative_redirects\u001b[38;5;241m=\u001b[39m\u001b[38;5;28;01mFalse\u001b[39;00m,\n\u001b[1;32m    281\u001b[0m         \u001b[38;5;241m*\u001b[39m\u001b[38;5;241m*\u001b[39mparams,\n\u001b[1;32m    282\u001b[0m     )\n\u001b[1;32m    284\u001b[0m     \u001b[38;5;66;03m# If redirection, we redirect only relative paths.\u001b[39;00m\n\u001b[1;32m    285\u001b[0m     \u001b[38;5;66;03m# This is useful in case of a renamed repository.\u001b[39;00m\n",
      "File \u001b[0;32m~/OneDrive - CFA Institute/Coding/GitHub/The-Automation-Ahead/conda-env/lib/python3.12/site-packages/huggingface_hub/file_download.py:301\u001b[0m, in \u001b[0;36m_request_wrapper\u001b[0;34m(method, url, follow_relative_redirects, **params)\u001b[0m\n\u001b[1;32m    300\u001b[0m response \u001b[38;5;241m=\u001b[39m get_session()\u001b[38;5;241m.\u001b[39mrequest(method\u001b[38;5;241m=\u001b[39mmethod, url\u001b[38;5;241m=\u001b[39murl, \u001b[38;5;241m*\u001b[39m\u001b[38;5;241m*\u001b[39mparams)\n\u001b[0;32m--> 301\u001b[0m hf_raise_for_status(response)\n\u001b[1;32m    302\u001b[0m \u001b[38;5;28;01mreturn\u001b[39;00m response\n",
      "File \u001b[0;32m~/OneDrive - CFA Institute/Coding/GitHub/The-Automation-Ahead/conda-env/lib/python3.12/site-packages/huggingface_hub/utils/_http.py:423\u001b[0m, in \u001b[0;36mhf_raise_for_status\u001b[0;34m(response, endpoint_name)\u001b[0m\n\u001b[1;32m    420\u001b[0m     message \u001b[38;5;241m=\u001b[39m (\n\u001b[1;32m    421\u001b[0m         \u001b[38;5;124mf\u001b[39m\u001b[38;5;124m\"\u001b[39m\u001b[38;5;132;01m{\u001b[39;00mresponse\u001b[38;5;241m.\u001b[39mstatus_code\u001b[38;5;132;01m}\u001b[39;00m\u001b[38;5;124m Client Error.\u001b[39m\u001b[38;5;124m\"\u001b[39m \u001b[38;5;241m+\u001b[39m \u001b[38;5;124m\"\u001b[39m\u001b[38;5;130;01m\\n\u001b[39;00m\u001b[38;5;130;01m\\n\u001b[39;00m\u001b[38;5;124m\"\u001b[39m \u001b[38;5;241m+\u001b[39m \u001b[38;5;124mf\u001b[39m\u001b[38;5;124m\"\u001b[39m\u001b[38;5;124mCannot access gated repo for url \u001b[39m\u001b[38;5;132;01m{\u001b[39;00mresponse\u001b[38;5;241m.\u001b[39murl\u001b[38;5;132;01m}\u001b[39;00m\u001b[38;5;124m.\u001b[39m\u001b[38;5;124m\"\u001b[39m\n\u001b[1;32m    422\u001b[0m     )\n\u001b[0;32m--> 423\u001b[0m     \u001b[38;5;28;01mraise\u001b[39;00m _format(GatedRepoError, message, response) \u001b[38;5;28;01mfrom\u001b[39;00m \u001b[38;5;21;01me\u001b[39;00m\n\u001b[1;32m    425\u001b[0m \u001b[38;5;28;01melif\u001b[39;00m error_message \u001b[38;5;241m==\u001b[39m \u001b[38;5;124m\"\u001b[39m\u001b[38;5;124mAccess to this resource is disabled.\u001b[39m\u001b[38;5;124m\"\u001b[39m:\n",
      "\u001b[0;31mGatedRepoError\u001b[0m: 401 Client Error. (Request ID: Root=1-675c4bb5-700eea6007306f6e1a4f48f4;ca6c8b64-ed6b-499e-ab0d-86502518b364)\n\nCannot access gated repo for url https://huggingface.co/meta-llama/Llama-3.2-1B/resolve/main/config.json.\nAccess to model meta-llama/Llama-3.2-1B is restricted. You must have access to it and be authenticated to access it. Please log in.",
      "\nThe above exception was the direct cause of the following exception:\n",
      "\u001b[0;31mOSError\u001b[0m                                   Traceback (most recent call last)",
      "File \u001b[0;32m<timed exec>:3\u001b[0m\n",
      "File \u001b[0;32m~/OneDrive - CFA Institute/Coding/GitHub/The-Automation-Ahead/conda-env/lib/python3.12/site-packages/transformers/models/auto/tokenization_auto.py:878\u001b[0m, in \u001b[0;36mAutoTokenizer.from_pretrained\u001b[0;34m(cls, pretrained_model_name_or_path, *inputs, **kwargs)\u001b[0m\n\u001b[1;32m    876\u001b[0m         config \u001b[38;5;241m=\u001b[39m AutoConfig\u001b[38;5;241m.\u001b[39mfor_model(\u001b[38;5;241m*\u001b[39m\u001b[38;5;241m*\u001b[39mconfig_dict)\n\u001b[1;32m    877\u001b[0m     \u001b[38;5;28;01melse\u001b[39;00m:\n\u001b[0;32m--> 878\u001b[0m         config \u001b[38;5;241m=\u001b[39m AutoConfig\u001b[38;5;241m.\u001b[39mfrom_pretrained(\n\u001b[1;32m    879\u001b[0m             pretrained_model_name_or_path, trust_remote_code\u001b[38;5;241m=\u001b[39mtrust_remote_code, \u001b[38;5;241m*\u001b[39m\u001b[38;5;241m*\u001b[39mkwargs\n\u001b[1;32m    880\u001b[0m         )\n\u001b[1;32m    881\u001b[0m config_tokenizer_class \u001b[38;5;241m=\u001b[39m config\u001b[38;5;241m.\u001b[39mtokenizer_class\n\u001b[1;32m    882\u001b[0m \u001b[38;5;28;01mif\u001b[39;00m \u001b[38;5;28mhasattr\u001b[39m(config, \u001b[38;5;124m\"\u001b[39m\u001b[38;5;124mauto_map\u001b[39m\u001b[38;5;124m\"\u001b[39m) \u001b[38;5;129;01mand\u001b[39;00m \u001b[38;5;124m\"\u001b[39m\u001b[38;5;124mAutoTokenizer\u001b[39m\u001b[38;5;124m\"\u001b[39m \u001b[38;5;129;01min\u001b[39;00m config\u001b[38;5;241m.\u001b[39mauto_map:\n",
      "File \u001b[0;32m~/OneDrive - CFA Institute/Coding/GitHub/The-Automation-Ahead/conda-env/lib/python3.12/site-packages/transformers/models/auto/configuration_auto.py:1021\u001b[0m, in \u001b[0;36mAutoConfig.from_pretrained\u001b[0;34m(cls, pretrained_model_name_or_path, **kwargs)\u001b[0m\n\u001b[1;32m   1018\u001b[0m trust_remote_code \u001b[38;5;241m=\u001b[39m kwargs\u001b[38;5;241m.\u001b[39mpop(\u001b[38;5;124m\"\u001b[39m\u001b[38;5;124mtrust_remote_code\u001b[39m\u001b[38;5;124m\"\u001b[39m, \u001b[38;5;28;01mNone\u001b[39;00m)\n\u001b[1;32m   1019\u001b[0m code_revision \u001b[38;5;241m=\u001b[39m kwargs\u001b[38;5;241m.\u001b[39mpop(\u001b[38;5;124m\"\u001b[39m\u001b[38;5;124mcode_revision\u001b[39m\u001b[38;5;124m\"\u001b[39m, \u001b[38;5;28;01mNone\u001b[39;00m)\n\u001b[0;32m-> 1021\u001b[0m config_dict, unused_kwargs \u001b[38;5;241m=\u001b[39m PretrainedConfig\u001b[38;5;241m.\u001b[39mget_config_dict(pretrained_model_name_or_path, \u001b[38;5;241m*\u001b[39m\u001b[38;5;241m*\u001b[39mkwargs)\n\u001b[1;32m   1022\u001b[0m has_remote_code \u001b[38;5;241m=\u001b[39m \u001b[38;5;124m\"\u001b[39m\u001b[38;5;124mauto_map\u001b[39m\u001b[38;5;124m\"\u001b[39m \u001b[38;5;129;01min\u001b[39;00m config_dict \u001b[38;5;129;01mand\u001b[39;00m \u001b[38;5;124m\"\u001b[39m\u001b[38;5;124mAutoConfig\u001b[39m\u001b[38;5;124m\"\u001b[39m \u001b[38;5;129;01min\u001b[39;00m config_dict[\u001b[38;5;124m\"\u001b[39m\u001b[38;5;124mauto_map\u001b[39m\u001b[38;5;124m\"\u001b[39m]\n\u001b[1;32m   1023\u001b[0m has_local_code \u001b[38;5;241m=\u001b[39m \u001b[38;5;124m\"\u001b[39m\u001b[38;5;124mmodel_type\u001b[39m\u001b[38;5;124m\"\u001b[39m \u001b[38;5;129;01min\u001b[39;00m config_dict \u001b[38;5;129;01mand\u001b[39;00m config_dict[\u001b[38;5;124m\"\u001b[39m\u001b[38;5;124mmodel_type\u001b[39m\u001b[38;5;124m\"\u001b[39m] \u001b[38;5;129;01min\u001b[39;00m CONFIG_MAPPING\n",
      "File \u001b[0;32m~/OneDrive - CFA Institute/Coding/GitHub/The-Automation-Ahead/conda-env/lib/python3.12/site-packages/transformers/configuration_utils.py:590\u001b[0m, in \u001b[0;36mPretrainedConfig.get_config_dict\u001b[0;34m(cls, pretrained_model_name_or_path, **kwargs)\u001b[0m\n\u001b[1;32m    588\u001b[0m original_kwargs \u001b[38;5;241m=\u001b[39m copy\u001b[38;5;241m.\u001b[39mdeepcopy(kwargs)\n\u001b[1;32m    589\u001b[0m \u001b[38;5;66;03m# Get config dict associated with the base config file\u001b[39;00m\n\u001b[0;32m--> 590\u001b[0m config_dict, kwargs \u001b[38;5;241m=\u001b[39m \u001b[38;5;28mcls\u001b[39m\u001b[38;5;241m.\u001b[39m_get_config_dict(pretrained_model_name_or_path, \u001b[38;5;241m*\u001b[39m\u001b[38;5;241m*\u001b[39mkwargs)\n\u001b[1;32m    591\u001b[0m \u001b[38;5;28;01mif\u001b[39;00m config_dict \u001b[38;5;129;01mis\u001b[39;00m \u001b[38;5;28;01mNone\u001b[39;00m:\n\u001b[1;32m    592\u001b[0m     \u001b[38;5;28;01mreturn\u001b[39;00m {}, kwargs\n",
      "File \u001b[0;32m~/OneDrive - CFA Institute/Coding/GitHub/The-Automation-Ahead/conda-env/lib/python3.12/site-packages/transformers/configuration_utils.py:649\u001b[0m, in \u001b[0;36mPretrainedConfig._get_config_dict\u001b[0;34m(cls, pretrained_model_name_or_path, **kwargs)\u001b[0m\n\u001b[1;32m    645\u001b[0m configuration_file \u001b[38;5;241m=\u001b[39m kwargs\u001b[38;5;241m.\u001b[39mpop(\u001b[38;5;124m\"\u001b[39m\u001b[38;5;124m_configuration_file\u001b[39m\u001b[38;5;124m\"\u001b[39m, CONFIG_NAME) \u001b[38;5;28;01mif\u001b[39;00m gguf_file \u001b[38;5;129;01mis\u001b[39;00m \u001b[38;5;28;01mNone\u001b[39;00m \u001b[38;5;28;01melse\u001b[39;00m gguf_file\n\u001b[1;32m    647\u001b[0m \u001b[38;5;28;01mtry\u001b[39;00m:\n\u001b[1;32m    648\u001b[0m     \u001b[38;5;66;03m# Load from local folder or from cache or download from model Hub and cache\u001b[39;00m\n\u001b[0;32m--> 649\u001b[0m     resolved_config_file \u001b[38;5;241m=\u001b[39m cached_file(\n\u001b[1;32m    650\u001b[0m         pretrained_model_name_or_path,\n\u001b[1;32m    651\u001b[0m         configuration_file,\n\u001b[1;32m    652\u001b[0m         cache_dir\u001b[38;5;241m=\u001b[39mcache_dir,\n\u001b[1;32m    653\u001b[0m         force_download\u001b[38;5;241m=\u001b[39mforce_download,\n\u001b[1;32m    654\u001b[0m         proxies\u001b[38;5;241m=\u001b[39mproxies,\n\u001b[1;32m    655\u001b[0m         resume_download\u001b[38;5;241m=\u001b[39mresume_download,\n\u001b[1;32m    656\u001b[0m         local_files_only\u001b[38;5;241m=\u001b[39mlocal_files_only,\n\u001b[1;32m    657\u001b[0m         token\u001b[38;5;241m=\u001b[39mtoken,\n\u001b[1;32m    658\u001b[0m         user_agent\u001b[38;5;241m=\u001b[39muser_agent,\n\u001b[1;32m    659\u001b[0m         revision\u001b[38;5;241m=\u001b[39mrevision,\n\u001b[1;32m    660\u001b[0m         subfolder\u001b[38;5;241m=\u001b[39msubfolder,\n\u001b[1;32m    661\u001b[0m         _commit_hash\u001b[38;5;241m=\u001b[39mcommit_hash,\n\u001b[1;32m    662\u001b[0m     )\n\u001b[1;32m    663\u001b[0m     \u001b[38;5;28;01mif\u001b[39;00m resolved_config_file \u001b[38;5;129;01mis\u001b[39;00m \u001b[38;5;28;01mNone\u001b[39;00m:\n\u001b[1;32m    664\u001b[0m         \u001b[38;5;28;01mreturn\u001b[39;00m \u001b[38;5;28;01mNone\u001b[39;00m, kwargs\n",
      "File \u001b[0;32m~/OneDrive - CFA Institute/Coding/GitHub/The-Automation-Ahead/conda-env/lib/python3.12/site-packages/transformers/utils/hub.py:421\u001b[0m, in \u001b[0;36mcached_file\u001b[0;34m(path_or_repo_id, filename, cache_dir, force_download, resume_download, proxies, token, revision, local_files_only, subfolder, repo_type, user_agent, _raise_exceptions_for_gated_repo, _raise_exceptions_for_missing_entries, _raise_exceptions_for_connection_errors, _commit_hash, **deprecated_kwargs)\u001b[0m\n\u001b[1;32m    419\u001b[0m     \u001b[38;5;28;01mif\u001b[39;00m resolved_file \u001b[38;5;129;01mis\u001b[39;00m \u001b[38;5;129;01mnot\u001b[39;00m \u001b[38;5;28;01mNone\u001b[39;00m \u001b[38;5;129;01mor\u001b[39;00m \u001b[38;5;129;01mnot\u001b[39;00m _raise_exceptions_for_gated_repo:\n\u001b[1;32m    420\u001b[0m         \u001b[38;5;28;01mreturn\u001b[39;00m resolved_file\n\u001b[0;32m--> 421\u001b[0m     \u001b[38;5;28;01mraise\u001b[39;00m \u001b[38;5;167;01mEnvironmentError\u001b[39;00m(\n\u001b[1;32m    422\u001b[0m         \u001b[38;5;124m\"\u001b[39m\u001b[38;5;124mYou are trying to access a gated repo.\u001b[39m\u001b[38;5;130;01m\\n\u001b[39;00m\u001b[38;5;124mMake sure to have access to it at \u001b[39m\u001b[38;5;124m\"\u001b[39m\n\u001b[1;32m    423\u001b[0m         \u001b[38;5;124mf\u001b[39m\u001b[38;5;124m\"\u001b[39m\u001b[38;5;124mhttps://huggingface.co/\u001b[39m\u001b[38;5;132;01m{\u001b[39;00mpath_or_repo_id\u001b[38;5;132;01m}\u001b[39;00m\u001b[38;5;124m.\u001b[39m\u001b[38;5;130;01m\\n\u001b[39;00m\u001b[38;5;132;01m{\u001b[39;00m\u001b[38;5;28mstr\u001b[39m(e)\u001b[38;5;132;01m}\u001b[39;00m\u001b[38;5;124m\"\u001b[39m\n\u001b[1;32m    424\u001b[0m     ) \u001b[38;5;28;01mfrom\u001b[39;00m \u001b[38;5;21;01me\u001b[39;00m\n\u001b[1;32m    425\u001b[0m \u001b[38;5;28;01mexcept\u001b[39;00m RepositoryNotFoundError \u001b[38;5;28;01mas\u001b[39;00m e:\n\u001b[1;32m    426\u001b[0m     \u001b[38;5;28;01mraise\u001b[39;00m \u001b[38;5;167;01mEnvironmentError\u001b[39;00m(\n\u001b[1;32m    427\u001b[0m         \u001b[38;5;124mf\u001b[39m\u001b[38;5;124m\"\u001b[39m\u001b[38;5;132;01m{\u001b[39;00mpath_or_repo_id\u001b[38;5;132;01m}\u001b[39;00m\u001b[38;5;124m is not a local folder and is not a valid model identifier \u001b[39m\u001b[38;5;124m\"\u001b[39m\n\u001b[1;32m    428\u001b[0m         \u001b[38;5;124m\"\u001b[39m\u001b[38;5;124mlisted on \u001b[39m\u001b[38;5;124m'\u001b[39m\u001b[38;5;124mhttps://huggingface.co/models\u001b[39m\u001b[38;5;124m'\u001b[39m\u001b[38;5;130;01m\\n\u001b[39;00m\u001b[38;5;124mIf this is a private repository, make sure to pass a token \u001b[39m\u001b[38;5;124m\"\u001b[39m\n\u001b[1;32m    429\u001b[0m         \u001b[38;5;124m\"\u001b[39m\u001b[38;5;124mhaving permission to this repo either by logging in with `huggingface-cli login` or by passing \u001b[39m\u001b[38;5;124m\"\u001b[39m\n\u001b[1;32m    430\u001b[0m         \u001b[38;5;124m\"\u001b[39m\u001b[38;5;124m`token=<your_token>`\u001b[39m\u001b[38;5;124m\"\u001b[39m\n\u001b[1;32m    431\u001b[0m     ) \u001b[38;5;28;01mfrom\u001b[39;00m \u001b[38;5;21;01me\u001b[39;00m\n",
      "\u001b[0;31mOSError\u001b[0m: You are trying to access a gated repo.\nMake sure to have access to it at https://huggingface.co/meta-llama/Llama-3.2-1B.\n401 Client Error. (Request ID: Root=1-675c4bb5-700eea6007306f6e1a4f48f4;ca6c8b64-ed6b-499e-ab0d-86502518b364)\n\nCannot access gated repo for url https://huggingface.co/meta-llama/Llama-3.2-1B/resolve/main/config.json.\nAccess to model meta-llama/Llama-3.2-1B is restricted. You must have access to it and be authenticated to access it. Please log in."
     ]
    }
   ],
   "source": [
    "%%time\n",
    "from transformers import AutoTokenizer, AutoModelForCausalLM\n",
    "\n",
    "tokenizer = AutoTokenizer.from_pretrained(\"meta-llama/Llama-3.2-1B\")\n",
    "model = AutoModelForCausalLM.from_pretrained(\"meta-llama/Llama-3.2-1B\")\n",
    "\n",
    "# Set pad_token_id if it’s not already set\n",
    "if model.generation_config.pad_token_id is None:\n",
    "    model.generation_config.pad_token_id = tokenizer.eos_token_id\n",
    "print(f\"Pad token ID set to: {model.generation_config.pad_token_id}\")\n",
    "\n",
    "\n",
    "text_gen_pipeline = pipeline(\"text-generation\", model=model, tokenizer=tokenizer, device=DEVICE, batch_size = 1) #batch_size, device = DEVICE, device_map = 'auto', load_in_8bit=True,\n",
    "\n",
    "# Provide an input prompt for text generation\n",
    "input_text = \"Some of the challenges in current financial markets\" #\"The global financial markets are currently experiencing\"\n",
    "\n",
    "# Generate text\n",
    "generated_text = text_gen_pipeline(input_text, max_length=150, num_return_sequences=1, truncation=True) #max_length=150, temperature=0.7, top_k=50, top_p=0.95, num_return_sequences=1\n",
    "\n",
    "# Print the result\n",
    "print(generated_text[0]['generated_text'])"
   ]
  },
  {
   "cell_type": "markdown",
   "id": "IjteBnipY9cy",
   "metadata": {
    "id": "IjteBnipY9cy"
   },
   "source": [
    "Example 2: CAUTION! The following is an example that will run OOM (out-of-memory) on Colab/Kaggle if there is no Pro access to powerful GPUs. We do not advise to run it."
   ]
  },
  {
   "cell_type": "code",
   "execution_count": null,
   "id": "520a4ed3-f125-41c3-919e-347ed27799cb",
   "metadata": {
    "id": "520a4ed3-f125-41c3-919e-347ed27799cb"
   },
   "outputs": [],
   "source": [
    "# ## This piece of code runs out of memory on Colab/Kaggle\n",
    "\n",
    "# %%time\n",
    "\n",
    "# # finma-7b-full\n",
    "# model_id = \"TheFinAI/finma-7b-full\"\n",
    "# tokenizer = AutoTokenizer.from_pretrained(\"TheFinAI/finma-7b-full\", legacy = True)\n",
    "# # tokenizer.save_pretrained(f\"cache/tokenizer/{model_id}\")\n",
    "# model = AutoModelForCausalLM.from_pretrained(\"TheFinAI/finma-7b-full\")\n",
    "# # model.save_pretrained(f\"cache/model/{model_id}\")\n",
    "\n",
    "# # Set pad_token_id if it’s not already set\n",
    "# if model.generation_config.pad_token_id is None:\n",
    "#     model.generation_config.pad_token_id = tokenizer.eos_token_id\n",
    "# print(f\"Pad token ID set to: {model.generation_config.pad_token_id}\")\n",
    "\n",
    "# text_gen_pipeline = pipeline(\"text-generation\", model=model, tokenizer=tokenizer, load_in_8bit=True, device=DEVICE, batch_size = 1) #batch_size, device = DEVICE, device_map = 'auto', load_in_8bit=True,\n",
    "\n",
    "# # Provide an input prompt for text generation\n",
    "# input_text = \"The global financial markets are currently experiencing\"\n",
    "\n",
    "# # Generate text\n",
    "# generated_text = text_gen_pipeline(input_text, max_length=100, num_return_sequences=1, truncation=True)\n",
    "\n",
    "# # Print the result\n",
    "# print(generated_text[0]['generated_text'])\n"
   ]
  },
  {
   "cell_type": "markdown",
   "id": "ChZ61wujo6KQ",
   "metadata": {
    "id": "ChZ61wujo6KQ"
   },
   "source": [
    "#### Run a model with Langchain\n",
    "Let's see some advantages and disadvantages of Langchain:\n",
    "* it uses the HuggingFace Transformer library\n",
    "* it has access to a lot of models\n",
    "* based on a Task-Oriented Framework and not ML-oriented as Transformers\n",
    "* consists of plug-and-play modules\n",
    "\n",
    "Cons:\n",
    "* depends on external LLMs (HuggingFace, OpenAI.. )\n",
    "* not designed for training or fine-tuning models\n",
    "* large computational resources **bold text**"
   ]
  },
  {
   "cell_type": "code",
   "execution_count": null,
   "id": "59L2uTVmZp7X",
   "metadata": {
    "colab": {
     "base_uri": "https://localhost:8080/"
    },
    "id": "59L2uTVmZp7X",
    "outputId": "c9d4f610-ffff-4e4e-c0b3-91d2ddd35043"
   },
   "outputs": [
    {
     "name": "stdout",
     "output_type": "stream",
     "text": [
      "Requirement already satisfied: langchain-community in /usr/local/lib/python3.10/dist-packages (0.3.7)\n",
      "Requirement already satisfied: PyYAML>=5.3 in /usr/local/lib/python3.10/dist-packages (from langchain-community) (6.0.2)\n",
      "Requirement already satisfied: SQLAlchemy<2.0.36,>=1.4 in /usr/local/lib/python3.10/dist-packages (from langchain-community) (2.0.35)\n",
      "Requirement already satisfied: aiohttp<4.0.0,>=3.8.3 in /usr/local/lib/python3.10/dist-packages (from langchain-community) (3.11.2)\n",
      "Requirement already satisfied: dataclasses-json<0.7,>=0.5.7 in /usr/local/lib/python3.10/dist-packages (from langchain-community) (0.6.7)\n",
      "Requirement already satisfied: httpx-sse<0.5.0,>=0.4.0 in /usr/local/lib/python3.10/dist-packages (from langchain-community) (0.4.0)\n",
      "Requirement already satisfied: langchain<0.4.0,>=0.3.7 in /usr/local/lib/python3.10/dist-packages (from langchain-community) (0.3.7)\n",
      "Requirement already satisfied: langchain-core<0.4.0,>=0.3.17 in /usr/local/lib/python3.10/dist-packages (from langchain-community) (0.3.19)\n",
      "Requirement already satisfied: langsmith<0.2.0,>=0.1.125 in /usr/local/lib/python3.10/dist-packages (from langchain-community) (0.1.143)\n",
      "Requirement already satisfied: numpy<2,>=1 in /usr/local/lib/python3.10/dist-packages (from langchain-community) (1.26.4)\n",
      "Requirement already satisfied: pydantic-settings<3.0.0,>=2.4.0 in /usr/local/lib/python3.10/dist-packages (from langchain-community) (2.6.1)\n",
      "Requirement already satisfied: requests<3,>=2 in /usr/local/lib/python3.10/dist-packages (from langchain-community) (2.32.3)\n",
      "Requirement already satisfied: tenacity!=8.4.0,<10,>=8.1.0 in /usr/local/lib/python3.10/dist-packages (from langchain-community) (9.0.0)\n",
      "Requirement already satisfied: aiohappyeyeballs>=2.3.0 in /usr/local/lib/python3.10/dist-packages (from aiohttp<4.0.0,>=3.8.3->langchain-community) (2.4.3)\n",
      "Requirement already satisfied: aiosignal>=1.1.2 in /usr/local/lib/python3.10/dist-packages (from aiohttp<4.0.0,>=3.8.3->langchain-community) (1.3.1)\n",
      "Requirement already satisfied: attrs>=17.3.0 in /usr/local/lib/python3.10/dist-packages (from aiohttp<4.0.0,>=3.8.3->langchain-community) (24.2.0)\n",
      "Requirement already satisfied: frozenlist>=1.1.1 in /usr/local/lib/python3.10/dist-packages (from aiohttp<4.0.0,>=3.8.3->langchain-community) (1.5.0)\n",
      "Requirement already satisfied: multidict<7.0,>=4.5 in /usr/local/lib/python3.10/dist-packages (from aiohttp<4.0.0,>=3.8.3->langchain-community) (6.1.0)\n",
      "Requirement already satisfied: propcache>=0.2.0 in /usr/local/lib/python3.10/dist-packages (from aiohttp<4.0.0,>=3.8.3->langchain-community) (0.2.0)\n",
      "Requirement already satisfied: yarl<2.0,>=1.17.0 in /usr/local/lib/python3.10/dist-packages (from aiohttp<4.0.0,>=3.8.3->langchain-community) (1.17.2)\n",
      "Requirement already satisfied: async-timeout<6.0,>=4.0 in /usr/local/lib/python3.10/dist-packages (from aiohttp<4.0.0,>=3.8.3->langchain-community) (4.0.3)\n",
      "Requirement already satisfied: marshmallow<4.0.0,>=3.18.0 in /usr/local/lib/python3.10/dist-packages (from dataclasses-json<0.7,>=0.5.7->langchain-community) (3.23.1)\n",
      "Requirement already satisfied: typing-inspect<1,>=0.4.0 in /usr/local/lib/python3.10/dist-packages (from dataclasses-json<0.7,>=0.5.7->langchain-community) (0.9.0)\n",
      "Requirement already satisfied: langchain-text-splitters<0.4.0,>=0.3.0 in /usr/local/lib/python3.10/dist-packages (from langchain<0.4.0,>=0.3.7->langchain-community) (0.3.2)\n",
      "Requirement already satisfied: pydantic<3.0.0,>=2.7.4 in /usr/local/lib/python3.10/dist-packages (from langchain<0.4.0,>=0.3.7->langchain-community) (2.9.2)\n",
      "Requirement already satisfied: jsonpatch<2.0,>=1.33 in /usr/local/lib/python3.10/dist-packages (from langchain-core<0.4.0,>=0.3.17->langchain-community) (1.33)\n",
      "Requirement already satisfied: packaging<25,>=23.2 in /usr/local/lib/python3.10/dist-packages (from langchain-core<0.4.0,>=0.3.17->langchain-community) (24.2)\n",
      "Requirement already satisfied: typing-extensions>=4.7 in /usr/local/lib/python3.10/dist-packages (from langchain-core<0.4.0,>=0.3.17->langchain-community) (4.12.2)\n",
      "Requirement already satisfied: httpx<1,>=0.23.0 in /usr/local/lib/python3.10/dist-packages (from langsmith<0.2.0,>=0.1.125->langchain-community) (0.27.2)\n",
      "Requirement already satisfied: orjson<4.0.0,>=3.9.14 in /usr/local/lib/python3.10/dist-packages (from langsmith<0.2.0,>=0.1.125->langchain-community) (3.10.11)\n",
      "Requirement already satisfied: requests-toolbelt<2.0.0,>=1.0.0 in /usr/local/lib/python3.10/dist-packages (from langsmith<0.2.0,>=0.1.125->langchain-community) (1.0.0)\n",
      "Requirement already satisfied: python-dotenv>=0.21.0 in /usr/local/lib/python3.10/dist-packages (from pydantic-settings<3.0.0,>=2.4.0->langchain-community) (1.0.1)\n",
      "Requirement already satisfied: charset-normalizer<4,>=2 in /usr/local/lib/python3.10/dist-packages (from requests<3,>=2->langchain-community) (3.4.0)\n",
      "Requirement already satisfied: idna<4,>=2.5 in /usr/local/lib/python3.10/dist-packages (from requests<3,>=2->langchain-community) (3.10)\n",
      "Requirement already satisfied: urllib3<3,>=1.21.1 in /usr/local/lib/python3.10/dist-packages (from requests<3,>=2->langchain-community) (2.2.3)\n",
      "Requirement already satisfied: certifi>=2017.4.17 in /usr/local/lib/python3.10/dist-packages (from requests<3,>=2->langchain-community) (2024.8.30)\n",
      "Requirement already satisfied: greenlet!=0.4.17 in /usr/local/lib/python3.10/dist-packages (from SQLAlchemy<2.0.36,>=1.4->langchain-community) (3.1.1)\n",
      "Requirement already satisfied: anyio in /usr/local/lib/python3.10/dist-packages (from httpx<1,>=0.23.0->langsmith<0.2.0,>=0.1.125->langchain-community) (3.7.1)\n",
      "Requirement already satisfied: httpcore==1.* in /usr/local/lib/python3.10/dist-packages (from httpx<1,>=0.23.0->langsmith<0.2.0,>=0.1.125->langchain-community) (1.0.7)\n",
      "Requirement already satisfied: sniffio in /usr/local/lib/python3.10/dist-packages (from httpx<1,>=0.23.0->langsmith<0.2.0,>=0.1.125->langchain-community) (1.3.1)\n",
      "Requirement already satisfied: h11<0.15,>=0.13 in /usr/local/lib/python3.10/dist-packages (from httpcore==1.*->httpx<1,>=0.23.0->langsmith<0.2.0,>=0.1.125->langchain-community) (0.14.0)\n",
      "Requirement already satisfied: jsonpointer>=1.9 in /usr/local/lib/python3.10/dist-packages (from jsonpatch<2.0,>=1.33->langchain-core<0.4.0,>=0.3.17->langchain-community) (3.0.0)\n",
      "Requirement already satisfied: annotated-types>=0.6.0 in /usr/local/lib/python3.10/dist-packages (from pydantic<3.0.0,>=2.7.4->langchain<0.4.0,>=0.3.7->langchain-community) (0.7.0)\n",
      "Requirement already satisfied: pydantic-core==2.23.4 in /usr/local/lib/python3.10/dist-packages (from pydantic<3.0.0,>=2.7.4->langchain<0.4.0,>=0.3.7->langchain-community) (2.23.4)\n",
      "Requirement already satisfied: mypy-extensions>=0.3.0 in /usr/local/lib/python3.10/dist-packages (from typing-inspect<1,>=0.4.0->dataclasses-json<0.7,>=0.5.7->langchain-community) (1.0.0)\n",
      "Requirement already satisfied: exceptiongroup in /usr/local/lib/python3.10/dist-packages (from anyio->httpx<1,>=0.23.0->langsmith<0.2.0,>=0.1.125->langchain-community) (1.2.2)\n"
     ]
    }
   ],
   "source": [
    "!pip install -U langchain-community"
   ]
  },
  {
   "cell_type": "code",
   "execution_count": null,
   "id": "Oad1DfOJkEGa",
   "metadata": {
    "colab": {
     "base_uri": "https://localhost:8080/"
    },
    "id": "Oad1DfOJkEGa",
    "outputId": "47691283-41bf-4490-b9a5-4a6b5f5887b1"
   },
   "outputs": [
    {
     "name": "stderr",
     "output_type": "stream",
     "text": [
      "WARNING:langchain_community.llms.huggingface_pipeline:Device has 1 GPUs available. Provide device={deviceId} to `from_model_id` to use availableGPUs for execution. deviceId is -1 (default) for CPU and can be a positive integer associated with CUDA device id.\n"
     ]
    },
    {
     "name": "stdout",
     "output_type": "stream",
     "text": [
      "Question: What is electroencephalography?\n",
      "\n",
      "Answer: Let's think step by step.I'm not a neuroscientist, but I'm pretty sure it's a branch of neuroscience.\n"
     ]
    }
   ],
   "source": [
    "# Example of running an LLM with Langchain\n",
    "from langchain.llms.huggingface_pipeline import HuggingFacePipeline\n",
    "\n",
    "hf = HuggingFacePipeline.from_model_id(\n",
    "    model_id=\"microsoft/DialoGPT-medium\", task=\"text-generation\", pipeline_kwargs={\"max_new_tokens\": 200, \"pad_token_id\": 50256},\n",
    ")\n",
    "\n",
    "from langchain.prompts import PromptTemplate\n",
    "\n",
    "template = \"\"\"Question: {question}\n",
    "\n",
    "Answer: Let's think step by step.\"\"\"\n",
    "prompt = PromptTemplate.from_template(template)\n",
    "\n",
    "chain = prompt | hf\n",
    "\n",
    "question = \"What is electroencephalography?\"\n",
    "\n",
    "print(chain.invoke({\"question\": question}))"
   ]
  },
  {
   "cell_type": "markdown",
   "id": "8xV1VWSwYcGw",
   "metadata": {
    "id": "8xV1VWSwYcGw"
   },
   "source": [
    "### Saving the model\n",
    "If you need to save the models locally (for fine-tuning, working offline\n",
    "etc). Save them and Reload them like this:\n"
   ]
  },
  {
   "cell_type": "code",
   "execution_count": null,
   "id": "Lr34_na2Yhxq",
   "metadata": {
    "id": "Lr34_na2Yhxq"
   },
   "outputs": [],
   "source": [
    "# model_id = \"TheFinAI/finma-7b-full\"\n",
    "# tokenizer = AutoTokenizer.from_pretrained(f\"{model_id}\", legacy = True)\n",
    "# tokenizer.save_pretrained(f\"cache/tokenizer/{model_id}\")\n",
    "# model = AutoModelForCausalLM.from_pretrained(f\"{model_id}\")\n",
    "# model.save_pretrained(f\"cache/model/{model_id}\")\n",
    "# # tokenizer = AutoTokenizer.from_pretrained(f\"./{model_id}\", legacy=True)\n",
    "# # model = AutoModelForCausalLM.from_pretrained(f\"./{model_id}\")"
   ]
  },
  {
   "cell_type": "markdown",
   "id": "Z11ORJ6CYpBv",
   "metadata": {
    "id": "Z11ORJ6CYpBv"
   },
   "source": [
    "You can fine-tune the behavior of the generation by adjusting parameters such as:\n",
    "\n",
    "* max_length: The maximum length of the generated response.\n",
    "* temperature: Affects randomness in the output (lower values make output more deterministic).\n",
    "* top_k and top_p: Sampling strategies that control diversity in generation.\n"
   ]
  },
  {
   "cell_type": "markdown",
   "id": "6ac486a9-8d58-484e-ae96-5b716f42d758",
   "metadata": {
    "id": "6ac486a9-8d58-484e-ae96-5b716f42d758"
   },
   "source": [
    "### Load HuggingFace dataset\n",
    "Load the dataset (e.g., CICM for stock movement prediction)\n",
    "Other datasets:\n",
    "* Sentiment Analysis:\n",
    "* Question-Answering:\n",
    "* Summarisation:\n",
    "* Stock Movement Prediction: 'TheFinAI/flare-sm-cikm', 'TheFinAI/en-fpb', 'TheFinAI/flare-sm-bigdata', 'TheFinAI/flare-ectsum', 'TheFinAI/flare-edtsum'"
   ]
  },
  {
   "cell_type": "code",
   "execution_count": null,
   "id": "fUN0E-zEbAn6",
   "metadata": {
    "colab": {
     "base_uri": "https://localhost:8080/"
    },
    "id": "fUN0E-zEbAn6",
    "outputId": "4ca54882-6071-4d2a-e625-8c37d771df5c"
   },
   "outputs": [
    {
     "name": "stdout",
     "output_type": "stream",
     "text": [
      "Requirement already satisfied: datasets in /usr/local/lib/python3.10/dist-packages (3.1.0)\n",
      "Requirement already satisfied: filelock in /usr/local/lib/python3.10/dist-packages (from datasets) (3.16.1)\n",
      "Requirement already satisfied: numpy>=1.17 in /usr/local/lib/python3.10/dist-packages (from datasets) (1.26.4)\n",
      "Requirement already satisfied: pyarrow>=15.0.0 in /usr/local/lib/python3.10/dist-packages (from datasets) (17.0.0)\n",
      "Requirement already satisfied: dill<0.3.9,>=0.3.0 in /usr/local/lib/python3.10/dist-packages (from datasets) (0.3.8)\n",
      "Requirement already satisfied: pandas in /usr/local/lib/python3.10/dist-packages (from datasets) (2.2.2)\n",
      "Requirement already satisfied: requests>=2.32.2 in /usr/local/lib/python3.10/dist-packages (from datasets) (2.32.3)\n",
      "Requirement already satisfied: tqdm>=4.66.3 in /usr/local/lib/python3.10/dist-packages (from datasets) (4.66.6)\n",
      "Requirement already satisfied: xxhash in /usr/local/lib/python3.10/dist-packages (from datasets) (3.5.0)\n",
      "Requirement already satisfied: multiprocess<0.70.17 in /usr/local/lib/python3.10/dist-packages (from datasets) (0.70.16)\n",
      "Requirement already satisfied: fsspec<=2024.9.0,>=2023.1.0 in /usr/local/lib/python3.10/dist-packages (from fsspec[http]<=2024.9.0,>=2023.1.0->datasets) (2024.9.0)\n",
      "Requirement already satisfied: aiohttp in /usr/local/lib/python3.10/dist-packages (from datasets) (3.11.2)\n",
      "Requirement already satisfied: huggingface-hub>=0.23.0 in /usr/local/lib/python3.10/dist-packages (from datasets) (0.26.2)\n",
      "Requirement already satisfied: packaging in /usr/local/lib/python3.10/dist-packages (from datasets) (24.2)\n",
      "Requirement already satisfied: pyyaml>=5.1 in /usr/local/lib/python3.10/dist-packages (from datasets) (6.0.2)\n",
      "Requirement already satisfied: aiohappyeyeballs>=2.3.0 in /usr/local/lib/python3.10/dist-packages (from aiohttp->datasets) (2.4.3)\n",
      "Requirement already satisfied: aiosignal>=1.1.2 in /usr/local/lib/python3.10/dist-packages (from aiohttp->datasets) (1.3.1)\n",
      "Requirement already satisfied: attrs>=17.3.0 in /usr/local/lib/python3.10/dist-packages (from aiohttp->datasets) (24.2.0)\n",
      "Requirement already satisfied: frozenlist>=1.1.1 in /usr/local/lib/python3.10/dist-packages (from aiohttp->datasets) (1.5.0)\n",
      "Requirement already satisfied: multidict<7.0,>=4.5 in /usr/local/lib/python3.10/dist-packages (from aiohttp->datasets) (6.1.0)\n",
      "Requirement already satisfied: propcache>=0.2.0 in /usr/local/lib/python3.10/dist-packages (from aiohttp->datasets) (0.2.0)\n",
      "Requirement already satisfied: yarl<2.0,>=1.17.0 in /usr/local/lib/python3.10/dist-packages (from aiohttp->datasets) (1.17.2)\n",
      "Requirement already satisfied: async-timeout<6.0,>=4.0 in /usr/local/lib/python3.10/dist-packages (from aiohttp->datasets) (4.0.3)\n",
      "Requirement already satisfied: typing-extensions>=3.7.4.3 in /usr/local/lib/python3.10/dist-packages (from huggingface-hub>=0.23.0->datasets) (4.12.2)\n",
      "Requirement already satisfied: charset-normalizer<4,>=2 in /usr/local/lib/python3.10/dist-packages (from requests>=2.32.2->datasets) (3.4.0)\n",
      "Requirement already satisfied: idna<4,>=2.5 in /usr/local/lib/python3.10/dist-packages (from requests>=2.32.2->datasets) (3.10)\n",
      "Requirement already satisfied: urllib3<3,>=1.21.1 in /usr/local/lib/python3.10/dist-packages (from requests>=2.32.2->datasets) (2.2.3)\n",
      "Requirement already satisfied: certifi>=2017.4.17 in /usr/local/lib/python3.10/dist-packages (from requests>=2.32.2->datasets) (2024.8.30)\n",
      "Requirement already satisfied: python-dateutil>=2.8.2 in /usr/local/lib/python3.10/dist-packages (from pandas->datasets) (2.8.2)\n",
      "Requirement already satisfied: pytz>=2020.1 in /usr/local/lib/python3.10/dist-packages (from pandas->datasets) (2024.2)\n",
      "Requirement already satisfied: tzdata>=2022.7 in /usr/local/lib/python3.10/dist-packages (from pandas->datasets) (2024.2)\n",
      "Requirement already satisfied: six>=1.5 in /usr/local/lib/python3.10/dist-packages (from python-dateutil>=2.8.2->pandas->datasets) (1.16.0)\n"
     ]
    }
   ],
   "source": [
    "!pip install datasets"
   ]
  },
  {
   "cell_type": "code",
   "execution_count": null,
   "id": "66888909-4e23-4a42-84a9-98536bf80f0e",
   "metadata": {
    "id": "66888909-4e23-4a42-84a9-98536bf80f0e"
   },
   "outputs": [],
   "source": [
    "from datasets import load_dataset\n",
    "dataset = load_dataset('TheFinAI/flare-sm-cikm')"
   ]
  },
  {
   "cell_type": "code",
   "execution_count": null,
   "id": "abQj6nJ0KwWQ",
   "metadata": {
    "colab": {
     "base_uri": "https://localhost:8080/"
    },
    "id": "abQj6nJ0KwWQ",
    "outputId": "af5b0e3e-88b9-4c7c-f47a-711a0249bc0e"
   },
   "outputs": [
    {
     "name": "stdout",
     "output_type": "stream",
     "text": [
      "DatasetDict({\n",
      "    train: Dataset({\n",
      "        features: ['id', 'query', 'answer', 'text', 'choices', 'gold'],\n",
      "        num_rows: 3396\n",
      "    })\n",
      "    test: Dataset({\n",
      "        features: ['id', 'query', 'answer', 'text', 'choices', 'gold'],\n",
      "        num_rows: 1143\n",
      "    })\n",
      "    valid: Dataset({\n",
      "        features: ['id', 'query', 'answer', 'text', 'choices', 'gold'],\n",
      "        num_rows: 431\n",
      "    })\n",
      "})\n"
     ]
    }
   ],
   "source": [
    "# Display the dataset info and a sample\n",
    "print(dataset)"
   ]
  },
  {
   "cell_type": "code",
   "execution_count": null,
   "id": "5q3yfoBRKydQ",
   "metadata": {
    "colab": {
     "base_uri": "https://localhost:8080/",
     "height": 206
    },
    "id": "5q3yfoBRKydQ",
    "outputId": "3e2eef5a-58e0-4796-b9e5-fd255a825a07"
   },
   "outputs": [
    {
     "data": {
      "application/vnd.google.colaboratory.intrinsic+json": {
       "summary": "{\n  \"name\": \"df\",\n  \"rows\": 1143,\n  \"fields\": [\n    {\n      \"column\": \"id\",\n      \"properties\": {\n        \"dtype\": \"string\",\n        \"num_unique_values\": 1143,\n        \"samples\": [\n          \"cikmsm3985\",\n          \"cikmsm4908\",\n          \"cikmsm4118\"\n        ],\n        \"semantic_type\": \"\",\n        \"description\": \"\"\n      }\n    },\n    {\n      \"column\": \"query\",\n      \"properties\": {\n        \"dtype\": \"string\",\n        \"num_unique_values\": 1143,\n        \"samples\": [\n          \"Contemplate the data and tweets to guess whether the closing price of $bac will surge or decline at 2017-11-14. Please declare either Rise or Fall.\\nContext: date,open,high,low,close,adj-close,inc-5,inc-10,inc-15,inc-20,inc-25,inc-30\\n2017-10-31,0.9,1.2,-0.2,-0.8,-0.8,0.9,-0.2,-2.0,-2.8,-3.6,-4.5\\n2017-11-01,0.4,0.7,-0.6,0.5,0.5,0.3,-0.4,-2.1,-2.9,-3.8,-4.6\\n2017-11-02,-1.3,0.3,-2.1,1.2,1.2,-0.8,-1.1,-2.7,-3.8,-4.6,-5.5\\n2017-11-03,-0.3,0.0,-0.7,-0.2,-0.2,-0.6,-0.7,-2.0,-3.3,-4.1,-5.0\\n2017-11-06,-0.0,0.3,-0.5,-0.3,-0.3,-0.3,-0.2,-1.4,-2.8,-3.5,-4.4\\n2017-11-07,2.1,2.2,-0.6,-2.1,-2.1,1.7,1.7,0.9,-0.5,-1.3,-2.1\\n2017-11-08,0.6,0.6,-1.1,-1.4,-1.4,2.6,2.8,2.4,1.1,0.3,-0.5\\n2017-11-09,0.0,0.6,-1.4,-1.1,-1.1,2.7,3.5,3.6,2.5,1.5,0.8\\n2017-11-10,0.3,0.9,-0.2,0.1,0.1,1.6,3.0,3.3,2.5,1.5,0.8\\n2017-11-13,-0.5,0.3,-1.0,-0.4,-0.4,1.0,2.9,3.6,3.0,2.0,1.4\\n\\n2017-10-31: go read: $chd $pg $v $csco $intc $ge $ul $bac $c $jpm $ms $gs $aapl $googl $msft #nflx $amzn $fb $v $f $gm $uaa $spy |$bac broke up and away, +8.1% to $27.39. next target: the $33s. fpe 12s. this stoc\\n2017-11-01: get #nasdaq and #nyse buy and sell signals  $ibm, $ebay, $td, $bac, $cmg, $ge, $jpm, $tsla|$cg $bac heres what you need to know about powells fed chair selection via |#allergan equity declines $4b in \\n2017-11-02: rt AT_USER as even the boe are raising rates, $bac settled +1.2% at $27.87. m/t bullish to the $33s in 2018. quality financial.  AT_USER|rt AT_USER as even the boe are raising rates, $bac settled +1.2\\n2017-11-03: get #nasdaq and #nyse buy and sell signals  $ibm, $ebay, $td, $bac, $cmg, $ge, $jpm, $tsla|$ry $bac broadcom analysts noted perks of moving hq, then got validation via |$bac bank of america corporatio\\n2017-11-04:  $aapl $aig $amzn $bac $c $fb $fitb $fmcc $fnma $ge $googl $gs $jpm $ms $nflx $wfc $spy $dia $qqq $sh|dragonfly capital - 5 trade ideas for monday: $bac $cost $nke $pfe $ppg  $spy|dragonfly capital - \\n2017-11-05: rt AT_USER nasdaq 2017 ytd @ 25.66% by nov3. how about u? $aapl $amzn $amd $baba $ba $bac $c $fb $googl $gs $intc $iwm $msft $mu $\\u00a1\\u00ad|#breaking broadcom $avgo offer to buy qualcomm $qcom at $70 per sha\\n2017-11-06: free video with setups for nov 7 \\\"as long as you do this\\\" $bac $fb $sbux $nflx $lvs $pcln |price returns vs expected daily move $unit $pypl $rlgy $aig $afl $v $bac $wfc $c $gs $jpm $mbi\\u00a1\\u00ad |rt AT_USER \\n2017-11-07: also my weekly plays are in $bac and $fb  bac 27.50s AT_USER and $fb 182.50s AT_USER|if you are a #daytrader you need to check out this service  - just $50/usd per month, $bac, $mon, $wfc, $gs, $fb|#o\\n2017-11-08: if you are a #daytrader you need to check out this service  - just $50/usd per month, $bac, $mon, $wfc, $gs, $fb|whoa! tu AT_USER i hadn't seen this 2012 AT_USER legal analysis on #mortgage assignment\\n2017-11-09: podcast:AT_USER q&amp;a $dis $bac $c $nflx $sig larry fink bitcoin  via AT_USER|AT_USER of course. been long $aapl for a while now. just went long $bac today on the 3 day weakness but i like\\u00a1\\u00ad | $bac \\n2017-11-10: in the market: poor weekly showing for major #bank #stocks. will $bac $c $jpm continue to gain buying support at 10-week ma? #investing|big call buyers  $cvs $bac $esrx $cah $panw $ebay $clvs $mnst $c\\n2017-11-11:  $aapl $aig $amzn $bac $c $fb $fitb $fmcc $fnma $ge $googl $gs $jpm $ms $nflx $wfc $spy $dia $qqq $sh\\n2017-11-12: free video with setups for nov 13 \\\"it's been quite a run\\\" $bac $fb $nflx $tsla $nvda |$sne #sony's #stock could rise 20 percent on #gaming and camera #chips #sales: #barron's  \\n2017-11-13: rt AT_USER $xlf doing 3 waves as a flat structure from the peak and 3 waves bounce is expected to happen at least #elliottwave $b\\u00a1\\u00ad|price returns vs expected daily move $ggp $mbi $afl $jpm $pypl $gs $\\nAnswer:\",\n          \"Utilize the data and tweets at hand to foresee if the closing price of $ba will elevate or diminish at 2018-01-19. Only answer with Rise or Fall.\\nContext: date,open,high,low,close,adj-close,inc-5,inc-10,inc-15,inc-20,inc-25,inc-30\\n2018-01-04,0.4,0.6,-0.4,-0.4,-0.4,-0.1,-0.2,-0.3,-1.3,-2.6,-3.9\\n2018-01-05,-3.9,0.0,-3.9,4.1,4.1,-3.2,-3.8,-3.9,-4.7,-5.9,-7.2\\n2018-01-08,-0.5,0.2,-1.4,0.4,0.4,-2.6,-3.7,-4.0,-4.7,-5.9,-7.1\\n2018-01-09,-2.5,0.5,-2.5,2.7,2.7,-3.8,-5.4,-5.9,-6.6,-7.7,-9.0\\n2018-01-10,-0.9,0.6,-1.5,0.6,0.6,-2.9,-5.2,-6.0,-6.6,-7.7,-8.9\\n2018-01-11,-1.8,0.1,-2.1,2.5,2.5,-3.3,-6.5,-7.6,-8.3,-9.3,-10.5\\n2018-01-12,-1.7,0.2,-1.7,2.5,2.5,-4.0,-7.6,-9.1,-9.8,-10.8,-12.0\\n2018-01-16,1.4,3.8,-1.1,-0.3,-0.3,-2.2,-6.1,-8.0,-8.9,-9.9,-11.1\\n2018-01-17,-3.8,0.3,-4.2,4.7,4.7,-4.8,-8.8,-11.1,-12.2,-13.2,-14.4\\n2018-01-18,3.1,3.1,-0.3,-3.1,-3.1,-0.6,-4.6,-7.4,-8.8,-9.8,-11.0\\n\\n2018-01-04: rt AT_USER $djia crosses 25,000 1st first time (25075); from the 1/25/17, 20,068 close, $ba has accounted for 17.77% of the$djia's retur\\u00a1\\u00ad|rt AT_USER $djia crosses 25,000 1st first time (25075); from \\n2018-01-05: $stz $jd $db $fdx $sq $mat $x $txt $amzn $igt $vale $orcl $urbn $hes $calm $ms $gm $tsco $ba $vrx $tds $snap $gg $x\\u00a1\\u00ad |stocks close at another weekly high!!! funny anybody else notice those \\\"real esta\\n2018-01-06: $ba max pain=292.50. maturity=01/12/2018. #maxpain #options  |hudson valley investment advisors has lifted holding in boeing co $ba by $1.26 million as stock value rose ...|rt AT_USER here are charts \\n2018-01-08: rt AT_USER $ba over $310  new all time highs |#imagination and #creativity will grow $nflx $ba $c $amzn $wfc -  $aapl $low $oxy $wynn $x #ai #ces2018 #ces2019|AT_USER also 4 contracts of $ba jan 220c \\n2018-01-09: $btc $spx $nasdaq $djia $cac $dax $ftse $jpm $tsla $es_f $cl_f $gc_f $tlt $wmt $jnj $fb $googl $msft $intc $amd\\u00a1\\u00ad |rt AT_USER freakin' $ba |ge stock is a better bet on aircraft demand than boeing AT_U\\n2018-01-10: rt AT_USER many do not like the stockbookie will enjoy my live stream tonight as he was massively wrong $spy $ba  i explain the trut\\u00a1\\u00ad|rt AT_USER many do not like the stockbookie will enjoy my live st\\n2018-01-11: rt AT_USER $ba update. whata beast! |$ba two year performance - from $96 to $328.. seems unreal for a behemoth like boeing. |rt AT_USER this is what i wanted to show about the stockbookie super wrong \\n2018-01-12: i believe $ba will pay $36.15 for $erj. $28 too low for government to approve. money talks...$fb $aapl $amzn|rt AT_USER stockbookie looking like a stock clown with  the $spy and $ba being massively wr\\n2018-01-13: $mon $ba $cvx options have the largest change in open interest. free options screener. |rt AT_USER vista partners quote of the day via conrad hilton! #success #persistence #investing stay informed! st\\n2018-01-14: talk about your abc's this week! honestly the rest of the year is setting up to be and incredible opportunity for t\\u00a1\\u00ad |futures very green vs fair value. dow up over 100 meaning $ba will probably be up\\n2018-01-15: rt AT_USER $btc $spx $nasdaq $ftse $dax $cac $djia $c $xom $amzn $googl $avgo $aapl $wfm $cvs $bac $wmt $cost $wfc $jnj $ge $gs $tsla\\u00a1\\u00ad|watching $ba $orcl $cost for earnings this quarter.|rt AT_USER $\\n2018-01-16: $ba, $adnt launch new company to design and build airplane seats |rt AT_USER i still have every intention of initiating at least a 1/2 position in $ba puts pretty close to tomorrows open, assuming it \\n2018-01-17: mcd dis and wmt, all on the menu for tomorrow working of buy signal confirmations...all three working on making new\\u00a1\\u00ad |stopped out 4.20 booked loss $ba |i enjoyed rich ross give dan downer the busines\\n2018-01-18: rt AT_USER [#stockmarket rundown] today was only #dowjones 4th losing day of the year, down 98pts. 3rd losing day for #nasdaq, down\\u00a1\\u00ad|AT_USER AT_USER caught my self pok\\u00a8\\u00a8-trading...you know, trying to\\nAnswer:\",\n          \"Contemplate the data and tweets to guess whether the closing price of $intc will surge or decline at 2017-11-22. Please declare either Rise or Fall.\\nContext: date,open,high,low,close,adj-close,inc-5,inc-10,inc-15,inc-20,inc-25,inc-30\\n2017-11-08,-0.2,0.0,-0.9,-0.2,-0.2,-0.2,-2.8,-6.4,-8.6,-10.0,-11.3\\n2017-11-09,-0.5,0.2,-1.4,-0.9,-0.9,0.5,-0.8,-4.6,-7.0,-8.7,-9.9\\n2017-11-10,1.0,1.1,-0.4,-1.6,-1.6,1.8,1.1,-2.3,-4.9,-6.7,-7.9\\n2017-11-13,-1.1,0.4,-1.1,0.4,0.4,1.0,1.1,-1.9,-4.6,-6.5,-7.7\\n2017-11-14,-0.3,0.1,-1.2,0.2,0.2,0.4,1.0,-1.4,-4.1,-6.1,-7.5\\n2017-11-15,-0.2,0.8,-0.6,-0.9,-0.9,0.7,1.6,0.2,-2.7,-4.8,-6.2\\n2017-11-16,-0.0,0.9,-0.4,0.4,0.4,0.0,1.0,0.4,-2.4,-4.6,-6.1\\n2017-11-17,1.9,2.2,-0.0,-2.2,-2.2,1.9,2.9,2.8,0.3,-1.9,-3.6\\n2017-11-20,0.2,1.1,-0.3,-0.0,-0.0,1.4,2.5,2.9,0.8,-1.4,-3.2\\n2017-11-21,-0.5,0.6,-0.5,0.7,0.7,0.3,1.4,2.1,0.5,-1.7,-3.5\\n\\n2017-11-10: big call buyers  $dpz $gps $jpm $hes $betr $cpb $aaba $googl $jd $gww $pypl $pbi $sq $fcx $intc $gild $sig $immu|$nvda $baba $intc $tsla i am looking for tweets from skeptics and negatives|notable upg\\n2017-11-13: $amd remains broadly choppy, -1.5% at $11.09. considering main market, decreasing threat of $10.00. an eventual bre\\u00a1\\u00ad |price moves vs expected moves $jd $qcom $mu $intc $fb $msft $csco $t $twtr $amd $\\n2017-11-14: rt AT_USER $amd loved by negative press, $intc gets an $amd team member - mentioned everywhere, mention the fact former $mu ceo join\\u00a1\\u00ad|$amd loved by negative press, $intc gets an $amd team member - me\\n2017-11-15: AT_USER AT_USER hoping it busts out like $intc|are you bullish or bearish on #intel? start #trading $intc with #bitcoin! #xbt $xbt $btc #btcusd #cryptocurrency\\u00a1\\u00ad |are you bullish or bearish on #intel?\\n2017-11-16: $amd settled +1.6% at $11.25. due a bullish macd cross at the friday open, which will offer gap resistance of the 1\\u00a1\\u00ad |rt AT_USER big bullish unusual option activity detected: $ko, $twx, $twtr, $mu - \\n2017-11-17: AT_USER gary any comment on $intc $msft. $msft doing $ibm and trying to fill gap i think. $intc at 21dma.|$intc down big with big volume |top shorted stocks 11/17/17... 10. $pgx 78.33% 11. $rgc 76.60%\\n2017-11-18: rt AT_USER $amd remains messy, seeing a recent low of $10.66... around key price threshold, that stretches back to 2010. yet to prov\\u00a1\\u00ad|$amd remains messy, seeing a recent low of $10.66... around key p\\n2017-11-19: rt AT_USER how intel, nvidia, xilinx, and amd stack up in #ai  $intc $nvda $xlnx $amd via AT_USER|how intel, nvidia, xilinx, and amd stack up in #ai  $intc $nvda $xlnx $amd via AT_USER|$intc has a ret\\n2017-11-20: $intc d1 - gap support/w1 8ema low 43s ideal place to try long   via |going deep, looking for a potential trigger on $intc. |AT_USER pete, what's going on with $intc.. looks like it's out of gas?|rt A\\n2017-11-21: $intc intel corporation sec filing: form 4 |$0.86 earnings per share expected for intel corporation $intc this quarter |$intc $44.94 (+0.72%) being heavily traded.  our #sentiment analysis tool gives \\nAnswer:\"\n        ],\n        \"semantic_type\": \"\",\n        \"description\": \"\"\n      }\n    },\n    {\n      \"column\": \"answer\",\n      \"properties\": {\n        \"dtype\": \"category\",\n        \"num_unique_values\": 2,\n        \"samples\": [\n          \"Rise\",\n          \"Fall\"\n        ],\n        \"semantic_type\": \"\",\n        \"description\": \"\"\n      }\n    },\n    {\n      \"column\": \"text\",\n      \"properties\": {\n        \"dtype\": \"string\",\n        \"num_unique_values\": 1143,\n        \"samples\": [\n          \"date,open,high,low,close,adj-close,inc-5,inc-10,inc-15,inc-20,inc-25,inc-30\\n2017-10-31,0.9,1.2,-0.2,-0.8,-0.8,0.9,-0.2,-2.0,-2.8,-3.6,-4.5\\n2017-11-01,0.4,0.7,-0.6,0.5,0.5,0.3,-0.4,-2.1,-2.9,-3.8,-4.6\\n2017-11-02,-1.3,0.3,-2.1,1.2,1.2,-0.8,-1.1,-2.7,-3.8,-4.6,-5.5\\n2017-11-03,-0.3,0.0,-0.7,-0.2,-0.2,-0.6,-0.7,-2.0,-3.3,-4.1,-5.0\\n2017-11-06,-0.0,0.3,-0.5,-0.3,-0.3,-0.3,-0.2,-1.4,-2.8,-3.5,-4.4\\n2017-11-07,2.1,2.2,-0.6,-2.1,-2.1,1.7,1.7,0.9,-0.5,-1.3,-2.1\\n2017-11-08,0.6,0.6,-1.1,-1.4,-1.4,2.6,2.8,2.4,1.1,0.3,-0.5\\n2017-11-09,0.0,0.6,-1.4,-1.1,-1.1,2.7,3.5,3.6,2.5,1.5,0.8\\n2017-11-10,0.3,0.9,-0.2,0.1,0.1,1.6,3.0,3.3,2.5,1.5,0.8\\n2017-11-13,-0.5,0.3,-1.0,-0.4,-0.4,1.0,2.9,3.6,3.0,2.0,1.4\\n\\n2017-10-31: go read: $chd $pg $v $csco $intc $ge $ul $bac $c $jpm $ms $gs $aapl $googl $msft #nflx $amzn $fb $v $f $gm $uaa $spy |$bac broke up and away, +8.1% to $27.39. next target: the $33s. fpe 12s. this stoc\\n2017-11-01: get #nasdaq and #nyse buy and sell signals  $ibm, $ebay, $td, $bac, $cmg, $ge, $jpm, $tsla|$cg $bac heres what you need to know about powells fed chair selection via |#allergan equity declines $4b in \\n2017-11-02: rt AT_USER as even the boe are raising rates, $bac settled +1.2% at $27.87. m/t bullish to the $33s in 2018. quality financial.  AT_USER|rt AT_USER as even the boe are raising rates, $bac settled +1.2\\n2017-11-03: get #nasdaq and #nyse buy and sell signals  $ibm, $ebay, $td, $bac, $cmg, $ge, $jpm, $tsla|$ry $bac broadcom analysts noted perks of moving hq, then got validation via |$bac bank of america corporatio\\n2017-11-04:  $aapl $aig $amzn $bac $c $fb $fitb $fmcc $fnma $ge $googl $gs $jpm $ms $nflx $wfc $spy $dia $qqq $sh|dragonfly capital - 5 trade ideas for monday: $bac $cost $nke $pfe $ppg  $spy|dragonfly capital - \\n2017-11-05: rt AT_USER nasdaq 2017 ytd @ 25.66% by nov3. how about u? $aapl $amzn $amd $baba $ba $bac $c $fb $googl $gs $intc $iwm $msft $mu $\\u00a1\\u00ad|#breaking broadcom $avgo offer to buy qualcomm $qcom at $70 per sha\\n2017-11-06: free video with setups for nov 7 \\\"as long as you do this\\\" $bac $fb $sbux $nflx $lvs $pcln |price returns vs expected daily move $unit $pypl $rlgy $aig $afl $v $bac $wfc $c $gs $jpm $mbi\\u00a1\\u00ad |rt AT_USER \\n2017-11-07: also my weekly plays are in $bac and $fb  bac 27.50s AT_USER and $fb 182.50s AT_USER|if you are a #daytrader you need to check out this service  - just $50/usd per month, $bac, $mon, $wfc, $gs, $fb|#o\\n2017-11-08: if you are a #daytrader you need to check out this service  - just $50/usd per month, $bac, $mon, $wfc, $gs, $fb|whoa! tu AT_USER i hadn't seen this 2012 AT_USER legal analysis on #mortgage assignment\\n2017-11-09: podcast:AT_USER q&amp;a $dis $bac $c $nflx $sig larry fink bitcoin  via AT_USER|AT_USER of course. been long $aapl for a while now. just went long $bac today on the 3 day weakness but i like\\u00a1\\u00ad | $bac \\n2017-11-10: in the market: poor weekly showing for major #bank #stocks. will $bac $c $jpm continue to gain buying support at 10-week ma? #investing|big call buyers  $cvs $bac $esrx $cah $panw $ebay $clvs $mnst $c\\n2017-11-11:  $aapl $aig $amzn $bac $c $fb $fitb $fmcc $fnma $ge $googl $gs $jpm $ms $nflx $wfc $spy $dia $qqq $sh\\n2017-11-12: free video with setups for nov 13 \\\"it's been quite a run\\\" $bac $fb $nflx $tsla $nvda |$sne #sony's #stock could rise 20 percent on #gaming and camera #chips #sales: #barron's  \\n2017-11-13: rt AT_USER $xlf doing 3 waves as a flat structure from the peak and 3 waves bounce is expected to happen at least #elliottwave $b\\u00a1\\u00ad|price returns vs expected daily move $ggp $mbi $afl $jpm $pypl $gs $\",\n          \"date,open,high,low,close,adj-close,inc-5,inc-10,inc-15,inc-20,inc-25,inc-30\\n2018-01-04,0.4,0.6,-0.4,-0.4,-0.4,-0.1,-0.2,-0.3,-1.3,-2.6,-3.9\\n2018-01-05,-3.9,0.0,-3.9,4.1,4.1,-3.2,-3.8,-3.9,-4.7,-5.9,-7.2\\n2018-01-08,-0.5,0.2,-1.4,0.4,0.4,-2.6,-3.7,-4.0,-4.7,-5.9,-7.1\\n2018-01-09,-2.5,0.5,-2.5,2.7,2.7,-3.8,-5.4,-5.9,-6.6,-7.7,-9.0\\n2018-01-10,-0.9,0.6,-1.5,0.6,0.6,-2.9,-5.2,-6.0,-6.6,-7.7,-8.9\\n2018-01-11,-1.8,0.1,-2.1,2.5,2.5,-3.3,-6.5,-7.6,-8.3,-9.3,-10.5\\n2018-01-12,-1.7,0.2,-1.7,2.5,2.5,-4.0,-7.6,-9.1,-9.8,-10.8,-12.0\\n2018-01-16,1.4,3.8,-1.1,-0.3,-0.3,-2.2,-6.1,-8.0,-8.9,-9.9,-11.1\\n2018-01-17,-3.8,0.3,-4.2,4.7,4.7,-4.8,-8.8,-11.1,-12.2,-13.2,-14.4\\n2018-01-18,3.1,3.1,-0.3,-3.1,-3.1,-0.6,-4.6,-7.4,-8.8,-9.8,-11.0\\n\\n2018-01-04: rt AT_USER $djia crosses 25,000 1st first time (25075); from the 1/25/17, 20,068 close, $ba has accounted for 17.77% of the$djia's retur\\u00a1\\u00ad|rt AT_USER $djia crosses 25,000 1st first time (25075); from \\n2018-01-05: $stz $jd $db $fdx $sq $mat $x $txt $amzn $igt $vale $orcl $urbn $hes $calm $ms $gm $tsco $ba $vrx $tds $snap $gg $x\\u00a1\\u00ad |stocks close at another weekly high!!! funny anybody else notice those \\\"real esta\\n2018-01-06: $ba max pain=292.50. maturity=01/12/2018. #maxpain #options  |hudson valley investment advisors has lifted holding in boeing co $ba by $1.26 million as stock value rose ...|rt AT_USER here are charts \\n2018-01-08: rt AT_USER $ba over $310  new all time highs |#imagination and #creativity will grow $nflx $ba $c $amzn $wfc -  $aapl $low $oxy $wynn $x #ai #ces2018 #ces2019|AT_USER also 4 contracts of $ba jan 220c \\n2018-01-09: $btc $spx $nasdaq $djia $cac $dax $ftse $jpm $tsla $es_f $cl_f $gc_f $tlt $wmt $jnj $fb $googl $msft $intc $amd\\u00a1\\u00ad |rt AT_USER freakin' $ba |ge stock is a better bet on aircraft demand than boeing AT_U\\n2018-01-10: rt AT_USER many do not like the stockbookie will enjoy my live stream tonight as he was massively wrong $spy $ba  i explain the trut\\u00a1\\u00ad|rt AT_USER many do not like the stockbookie will enjoy my live st\\n2018-01-11: rt AT_USER $ba update. whata beast! |$ba two year performance - from $96 to $328.. seems unreal for a behemoth like boeing. |rt AT_USER this is what i wanted to show about the stockbookie super wrong \\n2018-01-12: i believe $ba will pay $36.15 for $erj. $28 too low for government to approve. money talks...$fb $aapl $amzn|rt AT_USER stockbookie looking like a stock clown with  the $spy and $ba being massively wr\\n2018-01-13: $mon $ba $cvx options have the largest change in open interest. free options screener. |rt AT_USER vista partners quote of the day via conrad hilton! #success #persistence #investing stay informed! st\\n2018-01-14: talk about your abc's this week! honestly the rest of the year is setting up to be and incredible opportunity for t\\u00a1\\u00ad |futures very green vs fair value. dow up over 100 meaning $ba will probably be up\\n2018-01-15: rt AT_USER $btc $spx $nasdaq $ftse $dax $cac $djia $c $xom $amzn $googl $avgo $aapl $wfm $cvs $bac $wmt $cost $wfc $jnj $ge $gs $tsla\\u00a1\\u00ad|watching $ba $orcl $cost for earnings this quarter.|rt AT_USER $\\n2018-01-16: $ba, $adnt launch new company to design and build airplane seats |rt AT_USER i still have every intention of initiating at least a 1/2 position in $ba puts pretty close to tomorrows open, assuming it \\n2018-01-17: mcd dis and wmt, all on the menu for tomorrow working of buy signal confirmations...all three working on making new\\u00a1\\u00ad |stopped out 4.20 booked loss $ba |i enjoyed rich ross give dan downer the busines\\n2018-01-18: rt AT_USER [#stockmarket rundown] today was only #dowjones 4th losing day of the year, down 98pts. 3rd losing day for #nasdaq, down\\u00a1\\u00ad|AT_USER AT_USER caught my self pok\\u00a8\\u00a8-trading...you know, trying to\"\n        ],\n        \"semantic_type\": \"\",\n        \"description\": \"\"\n      }\n    },\n    {\n      \"column\": \"choices\",\n      \"properties\": {\n        \"dtype\": \"object\",\n        \"semantic_type\": \"\",\n        \"description\": \"\"\n      }\n    },\n    {\n      \"column\": \"gold\",\n      \"properties\": {\n        \"dtype\": \"number\",\n        \"std\": 0,\n        \"min\": 0,\n        \"max\": 1,\n        \"num_unique_values\": 2,\n        \"samples\": [\n          0,\n          1\n        ],\n        \"semantic_type\": \"\",\n        \"description\": \"\"\n      }\n    }\n  ]\n}",
       "type": "dataframe",
       "variable_name": "df"
      },
      "text/html": [
       "\n",
       "  <div id=\"df-bd0cab07-de4c-4f25-8b87-83cf89bdafe7\" class=\"colab-df-container\">\n",
       "    <div>\n",
       "<style scoped>\n",
       "    .dataframe tbody tr th:only-of-type {\n",
       "        vertical-align: middle;\n",
       "    }\n",
       "\n",
       "    .dataframe tbody tr th {\n",
       "        vertical-align: top;\n",
       "    }\n",
       "\n",
       "    .dataframe thead th {\n",
       "        text-align: right;\n",
       "    }\n",
       "</style>\n",
       "<table border=\"1\" class=\"dataframe\">\n",
       "  <thead>\n",
       "    <tr style=\"text-align: right;\">\n",
       "      <th></th>\n",
       "      <th>id</th>\n",
       "      <th>query</th>\n",
       "      <th>answer</th>\n",
       "      <th>text</th>\n",
       "      <th>choices</th>\n",
       "      <th>gold</th>\n",
       "    </tr>\n",
       "  </thead>\n",
       "  <tbody>\n",
       "    <tr>\n",
       "      <th>0</th>\n",
       "      <td>cikmsm3827</td>\n",
       "      <td>Assess the data and tweets to estimate whether...</td>\n",
       "      <td>Fall</td>\n",
       "      <td>date,open,high,low,close,adj-close,inc-5,inc-1...</td>\n",
       "      <td>[Rise, Fall]</td>\n",
       "      <td>1</td>\n",
       "    </tr>\n",
       "    <tr>\n",
       "      <th>1</th>\n",
       "      <td>cikmsm3828</td>\n",
       "      <td>Analyze the information and social media posts...</td>\n",
       "      <td>Rise</td>\n",
       "      <td>date,open,high,low,close,adj-close,inc-5,inc-1...</td>\n",
       "      <td>[Rise, Fall]</td>\n",
       "      <td>0</td>\n",
       "    </tr>\n",
       "    <tr>\n",
       "      <th>2</th>\n",
       "      <td>cikmsm3829</td>\n",
       "      <td>Examine the data and tweets to deduce if the c...</td>\n",
       "      <td>Fall</td>\n",
       "      <td>date,open,high,low,close,adj-close,inc-5,inc-1...</td>\n",
       "      <td>[Rise, Fall]</td>\n",
       "      <td>1</td>\n",
       "    </tr>\n",
       "    <tr>\n",
       "      <th>3</th>\n",
       "      <td>cikmsm3830</td>\n",
       "      <td>Assess the data and tweets to estimate whether...</td>\n",
       "      <td>Rise</td>\n",
       "      <td>date,open,high,low,close,adj-close,inc-5,inc-1...</td>\n",
       "      <td>[Rise, Fall]</td>\n",
       "      <td>0</td>\n",
       "    </tr>\n",
       "    <tr>\n",
       "      <th>4</th>\n",
       "      <td>cikmsm3831</td>\n",
       "      <td>Assess the data and tweets to estimate whether...</td>\n",
       "      <td>Fall</td>\n",
       "      <td>date,open,high,low,close,adj-close,inc-5,inc-1...</td>\n",
       "      <td>[Rise, Fall]</td>\n",
       "      <td>1</td>\n",
       "    </tr>\n",
       "  </tbody>\n",
       "</table>\n",
       "</div>\n",
       "    <div class=\"colab-df-buttons\">\n",
       "\n",
       "  <div class=\"colab-df-container\">\n",
       "    <button class=\"colab-df-convert\" onclick=\"convertToInteractive('df-bd0cab07-de4c-4f25-8b87-83cf89bdafe7')\"\n",
       "            title=\"Convert this dataframe to an interactive table.\"\n",
       "            style=\"display:none;\">\n",
       "\n",
       "  <svg xmlns=\"http://www.w3.org/2000/svg\" height=\"24px\" viewBox=\"0 -960 960 960\">\n",
       "    <path d=\"M120-120v-720h720v720H120Zm60-500h600v-160H180v160Zm220 220h160v-160H400v160Zm0 220h160v-160H400v160ZM180-400h160v-160H180v160Zm440 0h160v-160H620v160ZM180-180h160v-160H180v160Zm440 0h160v-160H620v160Z\"/>\n",
       "  </svg>\n",
       "    </button>\n",
       "\n",
       "  <style>\n",
       "    .colab-df-container {\n",
       "      display:flex;\n",
       "      gap: 12px;\n",
       "    }\n",
       "\n",
       "    .colab-df-convert {\n",
       "      background-color: #E8F0FE;\n",
       "      border: none;\n",
       "      border-radius: 50%;\n",
       "      cursor: pointer;\n",
       "      display: none;\n",
       "      fill: #1967D2;\n",
       "      height: 32px;\n",
       "      padding: 0 0 0 0;\n",
       "      width: 32px;\n",
       "    }\n",
       "\n",
       "    .colab-df-convert:hover {\n",
       "      background-color: #E2EBFA;\n",
       "      box-shadow: 0px 1px 2px rgba(60, 64, 67, 0.3), 0px 1px 3px 1px rgba(60, 64, 67, 0.15);\n",
       "      fill: #174EA6;\n",
       "    }\n",
       "\n",
       "    .colab-df-buttons div {\n",
       "      margin-bottom: 4px;\n",
       "    }\n",
       "\n",
       "    [theme=dark] .colab-df-convert {\n",
       "      background-color: #3B4455;\n",
       "      fill: #D2E3FC;\n",
       "    }\n",
       "\n",
       "    [theme=dark] .colab-df-convert:hover {\n",
       "      background-color: #434B5C;\n",
       "      box-shadow: 0px 1px 3px 1px rgba(0, 0, 0, 0.15);\n",
       "      filter: drop-shadow(0px 1px 2px rgba(0, 0, 0, 0.3));\n",
       "      fill: #FFFFFF;\n",
       "    }\n",
       "  </style>\n",
       "\n",
       "    <script>\n",
       "      const buttonEl =\n",
       "        document.querySelector('#df-bd0cab07-de4c-4f25-8b87-83cf89bdafe7 button.colab-df-convert');\n",
       "      buttonEl.style.display =\n",
       "        google.colab.kernel.accessAllowed ? 'block' : 'none';\n",
       "\n",
       "      async function convertToInteractive(key) {\n",
       "        const element = document.querySelector('#df-bd0cab07-de4c-4f25-8b87-83cf89bdafe7');\n",
       "        const dataTable =\n",
       "          await google.colab.kernel.invokeFunction('convertToInteractive',\n",
       "                                                    [key], {});\n",
       "        if (!dataTable) return;\n",
       "\n",
       "        const docLinkHtml = 'Like what you see? Visit the ' +\n",
       "          '<a target=\"_blank\" href=https://colab.research.google.com/notebooks/data_table.ipynb>data table notebook</a>'\n",
       "          + ' to learn more about interactive tables.';\n",
       "        element.innerHTML = '';\n",
       "        dataTable['output_type'] = 'display_data';\n",
       "        await google.colab.output.renderOutput(dataTable, element);\n",
       "        const docLink = document.createElement('div');\n",
       "        docLink.innerHTML = docLinkHtml;\n",
       "        element.appendChild(docLink);\n",
       "      }\n",
       "    </script>\n",
       "  </div>\n",
       "\n",
       "\n",
       "<div id=\"df-f3f472fb-6ba5-4c64-b401-151778763545\">\n",
       "  <button class=\"colab-df-quickchart\" onclick=\"quickchart('df-f3f472fb-6ba5-4c64-b401-151778763545')\"\n",
       "            title=\"Suggest charts\"\n",
       "            style=\"display:none;\">\n",
       "\n",
       "<svg xmlns=\"http://www.w3.org/2000/svg\" height=\"24px\"viewBox=\"0 0 24 24\"\n",
       "     width=\"24px\">\n",
       "    <g>\n",
       "        <path d=\"M19 3H5c-1.1 0-2 .9-2 2v14c0 1.1.9 2 2 2h14c1.1 0 2-.9 2-2V5c0-1.1-.9-2-2-2zM9 17H7v-7h2v7zm4 0h-2V7h2v10zm4 0h-2v-4h2v4z\"/>\n",
       "    </g>\n",
       "</svg>\n",
       "  </button>\n",
       "\n",
       "<style>\n",
       "  .colab-df-quickchart {\n",
       "      --bg-color: #E8F0FE;\n",
       "      --fill-color: #1967D2;\n",
       "      --hover-bg-color: #E2EBFA;\n",
       "      --hover-fill-color: #174EA6;\n",
       "      --disabled-fill-color: #AAA;\n",
       "      --disabled-bg-color: #DDD;\n",
       "  }\n",
       "\n",
       "  [theme=dark] .colab-df-quickchart {\n",
       "      --bg-color: #3B4455;\n",
       "      --fill-color: #D2E3FC;\n",
       "      --hover-bg-color: #434B5C;\n",
       "      --hover-fill-color: #FFFFFF;\n",
       "      --disabled-bg-color: #3B4455;\n",
       "      --disabled-fill-color: #666;\n",
       "  }\n",
       "\n",
       "  .colab-df-quickchart {\n",
       "    background-color: var(--bg-color);\n",
       "    border: none;\n",
       "    border-radius: 50%;\n",
       "    cursor: pointer;\n",
       "    display: none;\n",
       "    fill: var(--fill-color);\n",
       "    height: 32px;\n",
       "    padding: 0;\n",
       "    width: 32px;\n",
       "  }\n",
       "\n",
       "  .colab-df-quickchart:hover {\n",
       "    background-color: var(--hover-bg-color);\n",
       "    box-shadow: 0 1px 2px rgba(60, 64, 67, 0.3), 0 1px 3px 1px rgba(60, 64, 67, 0.15);\n",
       "    fill: var(--button-hover-fill-color);\n",
       "  }\n",
       "\n",
       "  .colab-df-quickchart-complete:disabled,\n",
       "  .colab-df-quickchart-complete:disabled:hover {\n",
       "    background-color: var(--disabled-bg-color);\n",
       "    fill: var(--disabled-fill-color);\n",
       "    box-shadow: none;\n",
       "  }\n",
       "\n",
       "  .colab-df-spinner {\n",
       "    border: 2px solid var(--fill-color);\n",
       "    border-color: transparent;\n",
       "    border-bottom-color: var(--fill-color);\n",
       "    animation:\n",
       "      spin 1s steps(1) infinite;\n",
       "  }\n",
       "\n",
       "  @keyframes spin {\n",
       "    0% {\n",
       "      border-color: transparent;\n",
       "      border-bottom-color: var(--fill-color);\n",
       "      border-left-color: var(--fill-color);\n",
       "    }\n",
       "    20% {\n",
       "      border-color: transparent;\n",
       "      border-left-color: var(--fill-color);\n",
       "      border-top-color: var(--fill-color);\n",
       "    }\n",
       "    30% {\n",
       "      border-color: transparent;\n",
       "      border-left-color: var(--fill-color);\n",
       "      border-top-color: var(--fill-color);\n",
       "      border-right-color: var(--fill-color);\n",
       "    }\n",
       "    40% {\n",
       "      border-color: transparent;\n",
       "      border-right-color: var(--fill-color);\n",
       "      border-top-color: var(--fill-color);\n",
       "    }\n",
       "    60% {\n",
       "      border-color: transparent;\n",
       "      border-right-color: var(--fill-color);\n",
       "    }\n",
       "    80% {\n",
       "      border-color: transparent;\n",
       "      border-right-color: var(--fill-color);\n",
       "      border-bottom-color: var(--fill-color);\n",
       "    }\n",
       "    90% {\n",
       "      border-color: transparent;\n",
       "      border-bottom-color: var(--fill-color);\n",
       "    }\n",
       "  }\n",
       "</style>\n",
       "\n",
       "  <script>\n",
       "    async function quickchart(key) {\n",
       "      const quickchartButtonEl =\n",
       "        document.querySelector('#' + key + ' button');\n",
       "      quickchartButtonEl.disabled = true;  // To prevent multiple clicks.\n",
       "      quickchartButtonEl.classList.add('colab-df-spinner');\n",
       "      try {\n",
       "        const charts = await google.colab.kernel.invokeFunction(\n",
       "            'suggestCharts', [key], {});\n",
       "      } catch (error) {\n",
       "        console.error('Error during call to suggestCharts:', error);\n",
       "      }\n",
       "      quickchartButtonEl.classList.remove('colab-df-spinner');\n",
       "      quickchartButtonEl.classList.add('colab-df-quickchart-complete');\n",
       "    }\n",
       "    (() => {\n",
       "      let quickchartButtonEl =\n",
       "        document.querySelector('#df-f3f472fb-6ba5-4c64-b401-151778763545 button');\n",
       "      quickchartButtonEl.style.display =\n",
       "        google.colab.kernel.accessAllowed ? 'block' : 'none';\n",
       "    })();\n",
       "  </script>\n",
       "</div>\n",
       "\n",
       "    </div>\n",
       "  </div>\n"
      ],
      "text/plain": [
       "           id                                              query answer  \\\n",
       "0  cikmsm3827  Assess the data and tweets to estimate whether...   Fall   \n",
       "1  cikmsm3828  Analyze the information and social media posts...   Rise   \n",
       "2  cikmsm3829  Examine the data and tweets to deduce if the c...   Fall   \n",
       "3  cikmsm3830  Assess the data and tweets to estimate whether...   Rise   \n",
       "4  cikmsm3831  Assess the data and tweets to estimate whether...   Fall   \n",
       "\n",
       "                                                text       choices  gold  \n",
       "0  date,open,high,low,close,adj-close,inc-5,inc-1...  [Rise, Fall]     1  \n",
       "1  date,open,high,low,close,adj-close,inc-5,inc-1...  [Rise, Fall]     0  \n",
       "2  date,open,high,low,close,adj-close,inc-5,inc-1...  [Rise, Fall]     1  \n",
       "3  date,open,high,low,close,adj-close,inc-5,inc-1...  [Rise, Fall]     0  \n",
       "4  date,open,high,low,close,adj-close,inc-5,inc-1...  [Rise, Fall]     1  "
      ]
     },
     "execution_count": 41,
     "metadata": {},
     "output_type": "execute_result"
    }
   ],
   "source": [
    "import pandas as pd\n",
    "\n",
    "df = pd.DataFrame(dataset['test'])\n",
    "df.head()\n"
   ]
  },
  {
   "cell_type": "code",
   "execution_count": null,
   "id": "F8fxHG-objUx",
   "metadata": {
    "id": "F8fxHG-objUx"
   },
   "outputs": [],
   "source": []
  }
 ],
 "metadata": {
  "accelerator": "GPU",
  "colab": {
   "gpuType": "T4",
   "provenance": []
  },
  "kernelspec": {
   "display_name": "conda-env",
   "language": "python",
   "name": "python3"
  },
  "language_info": {
   "codemirror_mode": {
    "name": "ipython",
    "version": 3
   },
   "file_extension": ".py",
   "mimetype": "text/x-python",
   "name": "python",
   "nbconvert_exporter": "python",
   "pygments_lexer": "ipython3",
   "version": "3.12.7"
  },
  "widgets": {
   "application/vnd.jupyter.widget-state+json": {
    "0692572a202c4ba28efc8ddcb9264fbb": {
     "model_module": "@jupyter-widgets/controls",
     "model_module_version": "1.5.0",
     "model_name": "DescriptionStyleModel",
     "state": {
      "_model_module": "@jupyter-widgets/controls",
      "_model_module_version": "1.5.0",
      "_model_name": "DescriptionStyleModel",
      "_view_count": null,
      "_view_module": "@jupyter-widgets/base",
      "_view_module_version": "1.2.0",
      "_view_name": "StyleView",
      "description_width": ""
     }
    },
    "0be11a657e1b44a8a83719c3982d2c59": {
     "model_module": "@jupyter-widgets/base",
     "model_module_version": "1.2.0",
     "model_name": "LayoutModel",
     "state": {
      "_model_module": "@jupyter-widgets/base",
      "_model_module_version": "1.2.0",
      "_model_name": "LayoutModel",
      "_view_count": null,
      "_view_module": "@jupyter-widgets/base",
      "_view_module_version": "1.2.0",
      "_view_name": "LayoutView",
      "align_content": null,
      "align_items": null,
      "align_self": null,
      "border": null,
      "bottom": null,
      "display": null,
      "flex": null,
      "flex_flow": null,
      "grid_area": null,
      "grid_auto_columns": null,
      "grid_auto_flow": null,
      "grid_auto_rows": null,
      "grid_column": null,
      "grid_gap": null,
      "grid_row": null,
      "grid_template_areas": null,
      "grid_template_columns": null,
      "grid_template_rows": null,
      "height": null,
      "justify_content": null,
      "justify_items": null,
      "left": null,
      "margin": null,
      "max_height": null,
      "max_width": null,
      "min_height": null,
      "min_width": null,
      "object_fit": null,
      "object_position": null,
      "order": null,
      "overflow": null,
      "overflow_x": null,
      "overflow_y": null,
      "padding": null,
      "right": null,
      "top": null,
      "visibility": null,
      "width": null
     }
    },
    "1381853576c042edaa77ee735a62c77d": {
     "model_module": "@jupyter-widgets/controls",
     "model_module_version": "1.5.0",
     "model_name": "ButtonModel",
     "state": {
      "_dom_classes": [],
      "_model_module": "@jupyter-widgets/controls",
      "_model_module_version": "1.5.0",
      "_model_name": "ButtonModel",
      "_view_count": null,
      "_view_module": "@jupyter-widgets/controls",
      "_view_module_version": "1.5.0",
      "_view_name": "ButtonView",
      "button_style": "",
      "description": "Login",
      "disabled": false,
      "icon": "",
      "layout": "IPY_MODEL_91132ba1fa264eaaaa82c0fb826f2bf8",
      "style": "IPY_MODEL_54bada4147f447fb81c0f829a3e02a0d",
      "tooltip": ""
     }
    },
    "1cb0b285320d4b77ba9b04a26fd3fd6a": {
     "model_module": "@jupyter-widgets/controls",
     "model_module_version": "1.5.0",
     "model_name": "LabelModel",
     "state": {
      "_dom_classes": [],
      "_model_module": "@jupyter-widgets/controls",
      "_model_module_version": "1.5.0",
      "_model_name": "LabelModel",
      "_view_count": null,
      "_view_module": "@jupyter-widgets/controls",
      "_view_module_version": "1.5.0",
      "_view_name": "LabelView",
      "description": "",
      "description_tooltip": null,
      "layout": "IPY_MODEL_0be11a657e1b44a8a83719c3982d2c59",
      "placeholder": "​",
      "style": "IPY_MODEL_282b40833dd74adcb1b940c15c7919fd",
      "value": "Connecting..."
     }
    },
    "282b40833dd74adcb1b940c15c7919fd": {
     "model_module": "@jupyter-widgets/controls",
     "model_module_version": "1.5.0",
     "model_name": "DescriptionStyleModel",
     "state": {
      "_model_module": "@jupyter-widgets/controls",
      "_model_module_version": "1.5.0",
      "_model_name": "DescriptionStyleModel",
      "_view_count": null,
      "_view_module": "@jupyter-widgets/base",
      "_view_module_version": "1.2.0",
      "_view_name": "StyleView",
      "description_width": ""
     }
    },
    "2f981fe393c24be29d4f58a8ee30fd91": {
     "model_module": "@jupyter-widgets/base",
     "model_module_version": "1.2.0",
     "model_name": "LayoutModel",
     "state": {
      "_model_module": "@jupyter-widgets/base",
      "_model_module_version": "1.2.0",
      "_model_name": "LayoutModel",
      "_view_count": null,
      "_view_module": "@jupyter-widgets/base",
      "_view_module_version": "1.2.0",
      "_view_name": "LayoutView",
      "align_content": null,
      "align_items": null,
      "align_self": null,
      "border": null,
      "bottom": null,
      "display": null,
      "flex": null,
      "flex_flow": null,
      "grid_area": null,
      "grid_auto_columns": null,
      "grid_auto_flow": null,
      "grid_auto_rows": null,
      "grid_column": null,
      "grid_gap": null,
      "grid_row": null,
      "grid_template_areas": null,
      "grid_template_columns": null,
      "grid_template_rows": null,
      "height": null,
      "justify_content": null,
      "justify_items": null,
      "left": null,
      "margin": null,
      "max_height": null,
      "max_width": null,
      "min_height": null,
      "min_width": null,
      "object_fit": null,
      "object_position": null,
      "order": null,
      "overflow": null,
      "overflow_x": null,
      "overflow_y": null,
      "padding": null,
      "right": null,
      "top": null,
      "visibility": null,
      "width": null
     }
    },
    "3204cc3ef9ea40b2a4376b884d65138c": {
     "model_module": "@jupyter-widgets/controls",
     "model_module_version": "1.5.0",
     "model_name": "DescriptionStyleModel",
     "state": {
      "_model_module": "@jupyter-widgets/controls",
      "_model_module_version": "1.5.0",
      "_model_name": "DescriptionStyleModel",
      "_view_count": null,
      "_view_module": "@jupyter-widgets/base",
      "_view_module_version": "1.2.0",
      "_view_name": "StyleView",
      "description_width": ""
     }
    },
    "54bada4147f447fb81c0f829a3e02a0d": {
     "model_module": "@jupyter-widgets/controls",
     "model_module_version": "1.5.0",
     "model_name": "ButtonStyleModel",
     "state": {
      "_model_module": "@jupyter-widgets/controls",
      "_model_module_version": "1.5.0",
      "_model_name": "ButtonStyleModel",
      "_view_count": null,
      "_view_module": "@jupyter-widgets/base",
      "_view_module_version": "1.2.0",
      "_view_name": "StyleView",
      "button_color": null,
      "font_weight": ""
     }
    },
    "5c37d81d7be14c18852dc8eb2191e3cc": {
     "model_module": "@jupyter-widgets/controls",
     "model_module_version": "1.5.0",
     "model_name": "HTMLModel",
     "state": {
      "_dom_classes": [],
      "_model_module": "@jupyter-widgets/controls",
      "_model_module_version": "1.5.0",
      "_model_name": "HTMLModel",
      "_view_count": null,
      "_view_module": "@jupyter-widgets/controls",
      "_view_module_version": "1.5.0",
      "_view_name": "HTMLView",
      "description": "",
      "description_tooltip": null,
      "layout": "IPY_MODEL_a0b9c260d696425991f036fa99b951ff",
      "placeholder": "​",
      "style": "IPY_MODEL_e8f998deeeba426d8f52ffbef1060796",
      "value": "<center> <img\nsrc=https://huggingface.co/front/assets/huggingface_logo-noborder.svg\nalt='Hugging Face'> <br> Copy a token from <a\nhref=\"https://huggingface.co/settings/tokens\" target=\"_blank\">your Hugging Face\ntokens page</a> and paste it below. <br> Immediately click login after copying\nyour token or it might be stored in plain text in this notebook file. </center>"
     }
    },
    "8e0ad60cdfba477bb576a11785cf6253": {
     "model_module": "@jupyter-widgets/controls",
     "model_module_version": "1.5.0",
     "model_name": "CheckboxModel",
     "state": {
      "_dom_classes": [],
      "_model_module": "@jupyter-widgets/controls",
      "_model_module_version": "1.5.0",
      "_model_name": "CheckboxModel",
      "_view_count": null,
      "_view_module": "@jupyter-widgets/controls",
      "_view_module_version": "1.5.0",
      "_view_name": "CheckboxView",
      "description": "Add token as git credential?",
      "description_tooltip": null,
      "disabled": false,
      "indent": true,
      "layout": "IPY_MODEL_f62c5993c6384f419b60b8bd19dd1712",
      "style": "IPY_MODEL_a46e22f365bc44708e4027841704a502",
      "value": true
     }
    },
    "91132ba1fa264eaaaa82c0fb826f2bf8": {
     "model_module": "@jupyter-widgets/base",
     "model_module_version": "1.2.0",
     "model_name": "LayoutModel",
     "state": {
      "_model_module": "@jupyter-widgets/base",
      "_model_module_version": "1.2.0",
      "_model_name": "LayoutModel",
      "_view_count": null,
      "_view_module": "@jupyter-widgets/base",
      "_view_module_version": "1.2.0",
      "_view_name": "LayoutView",
      "align_content": null,
      "align_items": null,
      "align_self": null,
      "border": null,
      "bottom": null,
      "display": null,
      "flex": null,
      "flex_flow": null,
      "grid_area": null,
      "grid_auto_columns": null,
      "grid_auto_flow": null,
      "grid_auto_rows": null,
      "grid_column": null,
      "grid_gap": null,
      "grid_row": null,
      "grid_template_areas": null,
      "grid_template_columns": null,
      "grid_template_rows": null,
      "height": null,
      "justify_content": null,
      "justify_items": null,
      "left": null,
      "margin": null,
      "max_height": null,
      "max_width": null,
      "min_height": null,
      "min_width": null,
      "object_fit": null,
      "object_position": null,
      "order": null,
      "overflow": null,
      "overflow_x": null,
      "overflow_y": null,
      "padding": null,
      "right": null,
      "top": null,
      "visibility": null,
      "width": null
     }
    },
    "a0b9c260d696425991f036fa99b951ff": {
     "model_module": "@jupyter-widgets/base",
     "model_module_version": "1.2.0",
     "model_name": "LayoutModel",
     "state": {
      "_model_module": "@jupyter-widgets/base",
      "_model_module_version": "1.2.0",
      "_model_name": "LayoutModel",
      "_view_count": null,
      "_view_module": "@jupyter-widgets/base",
      "_view_module_version": "1.2.0",
      "_view_name": "LayoutView",
      "align_content": null,
      "align_items": null,
      "align_self": null,
      "border": null,
      "bottom": null,
      "display": null,
      "flex": null,
      "flex_flow": null,
      "grid_area": null,
      "grid_auto_columns": null,
      "grid_auto_flow": null,
      "grid_auto_rows": null,
      "grid_column": null,
      "grid_gap": null,
      "grid_row": null,
      "grid_template_areas": null,
      "grid_template_columns": null,
      "grid_template_rows": null,
      "height": null,
      "justify_content": null,
      "justify_items": null,
      "left": null,
      "margin": null,
      "max_height": null,
      "max_width": null,
      "min_height": null,
      "min_width": null,
      "object_fit": null,
      "object_position": null,
      "order": null,
      "overflow": null,
      "overflow_x": null,
      "overflow_y": null,
      "padding": null,
      "right": null,
      "top": null,
      "visibility": null,
      "width": null
     }
    },
    "a46e22f365bc44708e4027841704a502": {
     "model_module": "@jupyter-widgets/controls",
     "model_module_version": "1.5.0",
     "model_name": "DescriptionStyleModel",
     "state": {
      "_model_module": "@jupyter-widgets/controls",
      "_model_module_version": "1.5.0",
      "_model_name": "DescriptionStyleModel",
      "_view_count": null,
      "_view_module": "@jupyter-widgets/base",
      "_view_module_version": "1.2.0",
      "_view_name": "StyleView",
      "description_width": ""
     }
    },
    "b53e3f4b9b2e4dc897a09c62880d6241": {
     "model_module": "@jupyter-widgets/controls",
     "model_module_version": "1.5.0",
     "model_name": "VBoxModel",
     "state": {
      "_dom_classes": [],
      "_model_module": "@jupyter-widgets/controls",
      "_model_module_version": "1.5.0",
      "_model_name": "VBoxModel",
      "_view_count": null,
      "_view_module": "@jupyter-widgets/controls",
      "_view_module_version": "1.5.0",
      "_view_name": "VBoxView",
      "box_style": "",
      "children": [],
      "layout": "IPY_MODEL_dd5ab03e655b43c7ba98bccd419742bb"
     }
    },
    "ba5613e14223472794ec9ad303d7e5b2": {
     "model_module": "@jupyter-widgets/controls",
     "model_module_version": "1.5.0",
     "model_name": "PasswordModel",
     "state": {
      "_dom_classes": [],
      "_model_module": "@jupyter-widgets/controls",
      "_model_module_version": "1.5.0",
      "_model_name": "PasswordModel",
      "_view_count": null,
      "_view_module": "@jupyter-widgets/controls",
      "_view_module_version": "1.5.0",
      "_view_name": "PasswordView",
      "continuous_update": true,
      "description": "Token:",
      "description_tooltip": null,
      "disabled": false,
      "layout": "IPY_MODEL_2f981fe393c24be29d4f58a8ee30fd91",
      "placeholder": "​",
      "style": "IPY_MODEL_3204cc3ef9ea40b2a4376b884d65138c",
      "value": ""
     }
    },
    "bc96ea910ced4d2ab983a9c61c331ad1": {
     "model_module": "@jupyter-widgets/controls",
     "model_module_version": "1.5.0",
     "model_name": "HTMLModel",
     "state": {
      "_dom_classes": [],
      "_model_module": "@jupyter-widgets/controls",
      "_model_module_version": "1.5.0",
      "_model_name": "HTMLModel",
      "_view_count": null,
      "_view_module": "@jupyter-widgets/controls",
      "_view_module_version": "1.5.0",
      "_view_name": "HTMLView",
      "description": "",
      "description_tooltip": null,
      "layout": "IPY_MODEL_fcd9e8d60dd94fa29cd629471308b9d7",
      "placeholder": "​",
      "style": "IPY_MODEL_0692572a202c4ba28efc8ddcb9264fbb",
      "value": "\n<b>Pro Tip:</b> If you don't already have one, you can create a dedicated\n'notebooks' token with 'write' access, that you can then easily reuse for all\nnotebooks. </center>"
     }
    },
    "dd5ab03e655b43c7ba98bccd419742bb": {
     "model_module": "@jupyter-widgets/base",
     "model_module_version": "1.2.0",
     "model_name": "LayoutModel",
     "state": {
      "_model_module": "@jupyter-widgets/base",
      "_model_module_version": "1.2.0",
      "_model_name": "LayoutModel",
      "_view_count": null,
      "_view_module": "@jupyter-widgets/base",
      "_view_module_version": "1.2.0",
      "_view_name": "LayoutView",
      "align_content": null,
      "align_items": "center",
      "align_self": null,
      "border": null,
      "bottom": null,
      "display": "flex",
      "flex": null,
      "flex_flow": "column",
      "grid_area": null,
      "grid_auto_columns": null,
      "grid_auto_flow": null,
      "grid_auto_rows": null,
      "grid_column": null,
      "grid_gap": null,
      "grid_row": null,
      "grid_template_areas": null,
      "grid_template_columns": null,
      "grid_template_rows": null,
      "height": null,
      "justify_content": null,
      "justify_items": null,
      "left": null,
      "margin": null,
      "max_height": null,
      "max_width": null,
      "min_height": null,
      "min_width": null,
      "object_fit": null,
      "object_position": null,
      "order": null,
      "overflow": null,
      "overflow_x": null,
      "overflow_y": null,
      "padding": null,
      "right": null,
      "top": null,
      "visibility": null,
      "width": "50%"
     }
    },
    "e8f998deeeba426d8f52ffbef1060796": {
     "model_module": "@jupyter-widgets/controls",
     "model_module_version": "1.5.0",
     "model_name": "DescriptionStyleModel",
     "state": {
      "_model_module": "@jupyter-widgets/controls",
      "_model_module_version": "1.5.0",
      "_model_name": "DescriptionStyleModel",
      "_view_count": null,
      "_view_module": "@jupyter-widgets/base",
      "_view_module_version": "1.2.0",
      "_view_name": "StyleView",
      "description_width": ""
     }
    },
    "f62c5993c6384f419b60b8bd19dd1712": {
     "model_module": "@jupyter-widgets/base",
     "model_module_version": "1.2.0",
     "model_name": "LayoutModel",
     "state": {
      "_model_module": "@jupyter-widgets/base",
      "_model_module_version": "1.2.0",
      "_model_name": "LayoutModel",
      "_view_count": null,
      "_view_module": "@jupyter-widgets/base",
      "_view_module_version": "1.2.0",
      "_view_name": "LayoutView",
      "align_content": null,
      "align_items": null,
      "align_self": null,
      "border": null,
      "bottom": null,
      "display": null,
      "flex": null,
      "flex_flow": null,
      "grid_area": null,
      "grid_auto_columns": null,
      "grid_auto_flow": null,
      "grid_auto_rows": null,
      "grid_column": null,
      "grid_gap": null,
      "grid_row": null,
      "grid_template_areas": null,
      "grid_template_columns": null,
      "grid_template_rows": null,
      "height": null,
      "justify_content": null,
      "justify_items": null,
      "left": null,
      "margin": null,
      "max_height": null,
      "max_width": null,
      "min_height": null,
      "min_width": null,
      "object_fit": null,
      "object_position": null,
      "order": null,
      "overflow": null,
      "overflow_x": null,
      "overflow_y": null,
      "padding": null,
      "right": null,
      "top": null,
      "visibility": null,
      "width": null
     }
    },
    "fcd9e8d60dd94fa29cd629471308b9d7": {
     "model_module": "@jupyter-widgets/base",
     "model_module_version": "1.2.0",
     "model_name": "LayoutModel",
     "state": {
      "_model_module": "@jupyter-widgets/base",
      "_model_module_version": "1.2.0",
      "_model_name": "LayoutModel",
      "_view_count": null,
      "_view_module": "@jupyter-widgets/base",
      "_view_module_version": "1.2.0",
      "_view_name": "LayoutView",
      "align_content": null,
      "align_items": null,
      "align_self": null,
      "border": null,
      "bottom": null,
      "display": null,
      "flex": null,
      "flex_flow": null,
      "grid_area": null,
      "grid_auto_columns": null,
      "grid_auto_flow": null,
      "grid_auto_rows": null,
      "grid_column": null,
      "grid_gap": null,
      "grid_row": null,
      "grid_template_areas": null,
      "grid_template_columns": null,
      "grid_template_rows": null,
      "height": null,
      "justify_content": null,
      "justify_items": null,
      "left": null,
      "margin": null,
      "max_height": null,
      "max_width": null,
      "min_height": null,
      "min_width": null,
      "object_fit": null,
      "object_position": null,
      "order": null,
      "overflow": null,
      "overflow_x": null,
      "overflow_y": null,
      "padding": null,
      "right": null,
      "top": null,
      "visibility": null,
      "width": null
     }
    }
   }
  }
 },
 "nbformat": 4,
 "nbformat_minor": 5
}
