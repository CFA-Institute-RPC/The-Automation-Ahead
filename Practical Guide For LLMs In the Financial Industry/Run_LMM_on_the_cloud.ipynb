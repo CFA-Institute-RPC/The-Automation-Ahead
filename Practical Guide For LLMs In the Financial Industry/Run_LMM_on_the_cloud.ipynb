{
 "cells": [
  {
   "cell_type": "markdown",
   "id": "1d0c31dd-55c9-4e48-9ea5-b905689fd0d6",
   "metadata": {
    "id": "1d0c31dd-55c9-4e48-9ea5-b905689fd0d6"
   },
   "source": [
    "## Running an LLM on the cloud (i.e. Google Colab or Kaggle)\n",
    "\n",
    "**Open this notebook in Google Colab or Kaggle to leverage free GPU resources in the cloud or  [![Open In Colab](https://colab.research.google.com/assets/colab-badge.svg)](https://colab.research.google.com/drive/1cbOGsTa96las7bT0bG4cCKWPNzIRdQtb?usp=sharing) for a shared version on Google Colab.**"
   ]
  },
  {
   "cell_type": "markdown",
   "id": "befcb104-28dc-4088-bbbc-93d271b76879",
   "metadata": {
    "id": "befcb104-28dc-4088-bbbc-93d271b76879"
   },
   "source": [
    "In this notebook we are going to learn how to run an LLM using the Hugging Face Transformers library on the cloud. Please refer to the README file for more information regarding the python installations you should have on your machine.\n",
    "\n",
    "Pros of HuggingFace Transformers library:\n",
    "* downloads the models automatically\n",
    "* there are snippets of code available to run any model\n",
    "* easily intergratable models to your project\n",
    "\n",
    "Cons:\n",
    "* you need to code the behaviour / user interaction\n",
    "* it's not as fast as other alternatives and fails to run big LLMs (>3-4B parameters)\n",
    "* large computational resources"
   ]
  },
  {
   "cell_type": "markdown",
   "id": "CaUnnkJeVphr",
   "metadata": {
    "id": "CaUnnkJeVphr"
   },
   "source": [
    "### Importing packages and checking GPU access"
   ]
  },
  {
   "cell_type": "code",
   "execution_count": null,
   "id": "wrnumIZxg1Xf",
   "metadata": {
    "colab": {
     "base_uri": "https://localhost:8080/"
    },
    "id": "wrnumIZxg1Xf",
    "outputId": "049f97f7-271c-4a11-b74e-0bbb043a09a7"
   },
   "outputs": [],
   "source": [
    "!pip install datasets\n",
    "!pip install --upgrade transformers\n",
    "!pip install -U langchain langchain-openai\n",
    "!pip install -U langchain-community"
   ]
  },
  {
   "cell_type": "code",
   "execution_count": 2,
   "id": "8e9e667d-e3c2-4576-8c26-6d33edc13bc1",
   "metadata": {
    "id": "8e9e667d-e3c2-4576-8c26-6d33edc13bc1"
   },
   "outputs": [],
   "source": [
    "# Import some basic packages\n",
    "import os\n",
    "import torch\n",
    "import torchvision\n",
    "import tensorflow as tf\n",
    "import pandas as pd\n",
    "\n",
    "from transformers import pipeline\n",
    "from transformers import AutoTokenizer, AutoModelForTokenClassification, AutoModelForCausalLM\n",
    "\n",
    "from huggingface_hub import hf_hub_download\n",
    "from huggingface_hub import login"
   ]
  },
  {
   "cell_type": "code",
   "execution_count": null,
   "id": "697ccc8c-66a5-425f-b245-feec26557a2b",
   "metadata": {
    "colab": {
     "base_uri": "https://localhost:8080/"
    },
    "id": "697ccc8c-66a5-425f-b245-feec26557a2b",
    "outputId": "f70c748b-b161-4bd2-8c5d-8db398f4580f"
   },
   "outputs": [],
   "source": [
    "# make sure you have an updated transformers version (>4.43)\n",
    "import transformers\n",
    "print(transformers.__version__)"
   ]
  },
  {
   "cell_type": "code",
   "execution_count": null,
   "id": "b7acc82c-3704-4018-855b-09c17afff5e5",
   "metadata": {
    "colab": {
     "base_uri": "https://localhost:8080/"
    },
    "id": "b7acc82c-3704-4018-855b-09c17afff5e5",
    "outputId": "06bebc01-7d05-4085-98ab-1ad0b615a952"
   },
   "outputs": [],
   "source": [
    "# Both should return 'True' if on MacOs machine, 'False' if running on cloud\n",
    "print(torch.backends.mps.is_available())\n",
    "print(torch.backends.mps.is_built())\n",
    "# Should recognize 1 GPU. If not, got to Runtime --> Change runtime type --> select a GPU for this session\n",
    "print(\"Num GPUs Available: \", len(tf.config.experimental.list_physical_devices('GPU')))"
   ]
  },
  {
   "cell_type": "code",
   "execution_count": 5,
   "id": "HG0Iv_aBW7Z5",
   "metadata": {
    "colab": {
     "base_uri": "https://localhost:8080/"
    },
    "id": "HG0Iv_aBW7Z5",
    "outputId": "881a51f8-a78b-464e-846d-27249adfa90f"
   },
   "outputs": [
    {
     "data": {
      "text/plain": [
       "device(type='cpu')"
      ]
     },
     "execution_count": 5,
     "metadata": {},
     "output_type": "execute_result"
    }
   ],
   "source": [
    "# Run locally\n",
    "# device = \"mps\" if torch.backends.mps.is_available() else \"cpu\"\n",
    "\n",
    "# For Colab\n",
    "if torch.cuda.is_available():\n",
    "    device = \"cuda:0\"\n",
    "else:\n",
    "    device = \"cpu\"\n",
    "\n",
    "device = torch.device(device)\n",
    "\n",
    "DEVICE = device\n",
    "DEVICE"
   ]
  },
  {
   "cell_type": "markdown",
   "id": "495bcd85-8ca9-4ca5-a56e-491c6905a3e5",
   "metadata": {
    "id": "495bcd85-8ca9-4ca5-a56e-491c6905a3e5"
   },
   "source": [
    "### Authenticate through HuggingFace"
   ]
  },
  {
   "cell_type": "markdown",
   "id": "nZmZ-3d6WoUk",
   "metadata": {
    "id": "nZmZ-3d6WoUk"
   },
   "source": [
    "HuggingFace requires to login and use a specialised token to use most of their models and datasets. We suggest creating a HuggingFace account and going to settings to create an access token. Use a name of your prefrerence and create either a read or a write token. Useful video walkthrough on how to generate tokens:https://www.youtube.com/watch?v=Br7AcznvzSA . Try to not share your token when sharing this notebook."
   ]
  },
  {
   "cell_type": "code",
   "execution_count": null,
   "id": "miIsVTWQWzxM",
   "metadata": {
    "colab": {
     "base_uri": "https://localhost:8080/",
     "height": 17,
     "referenced_widgets": [
      "b53e3f4b9b2e4dc897a09c62880d6241",
      "5c37d81d7be14c18852dc8eb2191e3cc",
      "ba5613e14223472794ec9ad303d7e5b2",
      "8e0ad60cdfba477bb576a11785cf6253",
      "1381853576c042edaa77ee735a62c77d",
      "bc96ea910ced4d2ab983a9c61c331ad1",
      "dd5ab03e655b43c7ba98bccd419742bb",
      "a0b9c260d696425991f036fa99b951ff",
      "e8f998deeeba426d8f52ffbef1060796",
      "2f981fe393c24be29d4f58a8ee30fd91",
      "3204cc3ef9ea40b2a4376b884d65138c",
      "f62c5993c6384f419b60b8bd19dd1712",
      "a46e22f365bc44708e4027841704a502",
      "91132ba1fa264eaaaa82c0fb826f2bf8",
      "54bada4147f447fb81c0f829a3e02a0d",
      "fcd9e8d60dd94fa29cd629471308b9d7",
      "0692572a202c4ba28efc8ddcb9264fbb",
      "1cb0b285320d4b77ba9b04a26fd3fd6a",
      "0be11a657e1b44a8a83719c3982d2c59",
      "282b40833dd74adcb1b940c15c7919fd"
     ]
    },
    "id": "miIsVTWQWzxM",
    "outputId": "2cc36acd-11f2-4e32-ce35-a52fc5831f96"
   },
   "outputs": [],
   "source": [
    "# Login to HuggingFace with your token\n",
    "from huggingface_hub import notebook_login\n",
    "notebook_login()\n",
    "\n",
    "# Alternatively, you can login via terminal with this command: huggingface-cli login\n",
    "# Add your token and hit Y when prompted to add token as git credentials"
   ]
  },
  {
   "cell_type": "markdown",
   "id": "nu5CoT4GXZSO",
   "metadata": {
    "id": "nu5CoT4GXZSO"
   },
   "source": [
    "#### Load and run HuggingFace models (non-LLMs)"
   ]
  },
  {
   "cell_type": "markdown",
   "id": "iDvIjuu4XW-O",
   "metadata": {
    "id": "iDvIjuu4XW-O"
   },
   "source": [
    "You need to find a model you'd like to use in HuggingFace and click on the right top corner to use it with HuggingFace. Copy and paste that code block here. Make sure you include a pipeline, an input_text and an output argument to call the model. Some useful examples are provided below.\n",
    "\n",
    "The model name or model_id can be copied from the top part of the page, it will be somethng like 'meta-llama/Llama-2-7b-chat-hf'"
   ]
  },
  {
   "cell_type": "code",
   "execution_count": null,
   "id": "3c3aec37-24bc-457c-a778-86cfd052f914",
   "metadata": {
    "colab": {
     "base_uri": "https://localhost:8080/"
    },
    "id": "3c3aec37-24bc-457c-a778-86cfd052f914",
    "outputId": "482983e0-7f31-4989-c07a-ec0ee474dde5"
   },
   "outputs": [],
   "source": [
    "# EXAMPLES of HuggingFace transformer-based models for different NLP tasks.\n",
    "\n",
    "\n",
    "## Sentiment Analyser\n",
    "classifier = pipeline(\"sentiment-analysis\",\n",
    "                      model=\"cardiffnlp/twitter-roberta-base-sentiment\",\n",
    "                      tokenizer=\"cardiffnlp/twitter-roberta-base-sentiment\", device = DEVICE)\n",
    "results = classifier(\"We are very happy to show you the 🤗 Transformers library.\")\n",
    "print(f\"{results[0]['label']} with score {results[0]['score']}\")\n",
    "\n",
    "\n",
    "## Named Entity Recognition\n",
    "\n",
    "tokenizer = AutoTokenizer.from_pretrained(\"dslim/bert-base-NER\")\n",
    "model = AutoModelForTokenClassification.from_pretrained(\"dslim/bert-base-NER\")\n",
    "\n",
    "nlp = pipeline(\"ner\", model=model, tokenizer=tokenizer)\n",
    "example = \"My name is Wolfgang and I live in Berlin\"\n",
    "\n",
    "ner_results = nlp(example)\n",
    "print(ner_results)\n",
    "\n",
    "\n"
   ]
  },
  {
   "cell_type": "markdown",
   "id": "srw2PpV9XhhH",
   "metadata": {
    "id": "srw2PpV9XhhH"
   },
   "source": [
    "#### Load and run HuggingFace models (LLMs)"
   ]
  },
  {
   "cell_type": "markdown",
   "id": "tYLF_y4goVtt",
   "metadata": {
    "id": "tYLF_y4goVtt"
   },
   "source": [
    "We are going to see some examples of running LLMs using HuggingFace and Langchain below."
   ]
  },
  {
   "cell_type": "code",
   "execution_count": 8,
   "id": "pTiKN-x-oa92",
   "metadata": {
    "colab": {
     "base_uri": "https://localhost:8080/"
    },
    "id": "pTiKN-x-oa92",
    "outputId": "c07cefdc-2f53-4f88-ebcf-bce4f97b5438"
   },
   "outputs": [],
   "source": [
    "# check the type of GPU allocated to our notebook\n",
    "!nvidia-smi\n"
   ]
  },
  {
   "cell_type": "code",
   "execution_count": 9,
   "id": "yjkwR6cTwSFL",
   "metadata": {
    "id": "yjkwR6cTwSFL"
   },
   "outputs": [],
   "source": [
    "torch.cuda.empty_cache() # free up unused memory"
   ]
  },
  {
   "cell_type": "code",
   "execution_count": 10,
   "id": "dht_ORRTyPXX",
   "metadata": {
    "id": "dht_ORRTyPXX"
   },
   "outputs": [],
   "source": [
    "import os\n",
    "os.environ['PYTORCH_CUDA_ALLOC_CONF'] = 'expandable_segments:True'\n",
    "os.environ['CUDA_VISIBLE_DEVICES'] = '0'"
   ]
  },
  {
   "cell_type": "markdown",
   "id": "_8Js-GPmmXTD",
   "metadata": {
    "id": "_8Js-GPmmXTD"
   },
   "source": [
    "Example 1: In the below snippet you will find a sample run of a relatively small LLM. To run an LLM of your choice you need to adapt the code for the tokenizer and model. Also, you need to adjust the\n",
    "pipeline to the task. Some key tasks:\n",
    "* \"text-generation\"\n",
    "* \"text-classification\"\n",
    "* \"summarization\"\n",
    "* \"question-answering\"\n",
    "* \"sentiment-analysis\" and more."
   ]
  },
  {
   "cell_type": "code",
   "execution_count": null,
   "id": "AM-4S0SmnN5V",
   "metadata": {
    "colab": {
     "base_uri": "https://localhost:8080/"
    },
    "id": "AM-4S0SmnN5V",
    "outputId": "6f9c4867-1f2d-4621-a4f7-2e6ef3dba3a7"
   },
   "outputs": [],
   "source": [
    "%%time\n",
    "from transformers import AutoTokenizer, AutoModelForCausalLM\n",
    "\n",
    "tokenizer = AutoTokenizer.from_pretrained(\"meta-llama/Llama-3.2-1B\")\n",
    "model = AutoModelForCausalLM.from_pretrained(\"meta-llama/Llama-3.2-1B\")\n",
    "\n",
    "# Set pad_token_id if it’s not already set\n",
    "if model.generation_config.pad_token_id is None:\n",
    "    model.generation_config.pad_token_id = tokenizer.eos_token_id\n",
    "print(f\"Pad token ID set to: {model.generation_config.pad_token_id}\")\n",
    "\n",
    "\n",
    "text_gen_pipeline = pipeline(\"text-generation\", model=model, tokenizer=tokenizer, device=DEVICE, batch_size = 1) #batch_size, device = DEVICE, device_map = 'auto', load_in_8bit=True,\n",
    "\n",
    "# Provide an input prompt for text generation\n",
    "input_text = \"Some of the challenges in current financial markets\" #\"The global financial markets are currently experiencing\"\n",
    "\n",
    "# Generate text\n",
    "generated_text = text_gen_pipeline(input_text, max_length=150, num_return_sequences=1, truncation=True) #max_length=150, temperature=0.7, top_k=50, top_p=0.95, num_return_sequences=1\n",
    "\n",
    "# Print the result\n",
    "print(generated_text[0]['generated_text'])"
   ]
  },
  {
   "cell_type": "markdown",
   "id": "IjteBnipY9cy",
   "metadata": {
    "id": "IjteBnipY9cy"
   },
   "source": [
    "Example 2: CAUTION! The following is an example that will run OOM (out-of-memory) on Colab/Kaggle if there is no Pro access to powerful GPUs. We do not advise to run it."
   ]
  },
  {
   "cell_type": "code",
   "execution_count": null,
   "id": "520a4ed3-f125-41c3-919e-347ed27799cb",
   "metadata": {
    "id": "520a4ed3-f125-41c3-919e-347ed27799cb"
   },
   "outputs": [],
   "source": [
    "# ## This piece of code runs out of memory on Colab/Kaggle\n",
    "\n",
    "# %%time\n",
    "\n",
    "# # finma-7b-full\n",
    "# model_id = \"TheFinAI/finma-7b-full\"\n",
    "# tokenizer = AutoTokenizer.from_pretrained(\"TheFinAI/finma-7b-full\", legacy = True)\n",
    "# # tokenizer.save_pretrained(f\"cache/tokenizer/{model_id}\")\n",
    "# model = AutoModelForCausalLM.from_pretrained(\"TheFinAI/finma-7b-full\")\n",
    "# # model.save_pretrained(f\"cache/model/{model_id}\")\n",
    "\n",
    "# # Set pad_token_id if it’s not already set\n",
    "# if model.generation_config.pad_token_id is None:\n",
    "#     model.generation_config.pad_token_id = tokenizer.eos_token_id\n",
    "# print(f\"Pad token ID set to: {model.generation_config.pad_token_id}\")\n",
    "\n",
    "# text_gen_pipeline = pipeline(\"text-generation\", model=model, tokenizer=tokenizer, load_in_8bit=True, device=DEVICE, batch_size = 1) #batch_size, device = DEVICE, device_map = 'auto', load_in_8bit=True,\n",
    "\n",
    "# # Provide an input prompt for text generation\n",
    "# input_text = \"The global financial markets are currently experiencing\"\n",
    "\n",
    "# # Generate text\n",
    "# generated_text = text_gen_pipeline(input_text, max_length=100, num_return_sequences=1, truncation=True)\n",
    "\n",
    "# # Print the result\n",
    "# print(generated_text[0]['generated_text'])\n"
   ]
  },
  {
   "cell_type": "markdown",
   "id": "ChZ61wujo6KQ",
   "metadata": {
    "id": "ChZ61wujo6KQ"
   },
   "source": [
    "#### Run a model with Langchain\n",
    "LangChain is a framework designed to simplify the development of applications powered by large language models (LLMs). It provides a suite of open-source tools and integrations that streamline the entire LLM application lifecycle, from development to deployment. Developers can utilize LangChain’s components to build applications such as chatbots, document summarizers, and code analysis tools."
   ]
  },
  {
   "cell_type": "code",
   "execution_count": null,
   "id": "59L2uTVmZp7X",
   "metadata": {
    "colab": {
     "base_uri": "https://localhost:8080/"
    },
    "id": "59L2uTVmZp7X",
    "outputId": "c9d4f610-ffff-4e4e-c0b3-91d2ddd35043"
   },
   "outputs": [],
   "source": [
    "!pip install -U langchain-community"
   ]
  },
  {
   "cell_type": "code",
   "execution_count": null,
   "id": "Oad1DfOJkEGa",
   "metadata": {
    "colab": {
     "base_uri": "https://localhost:8080/"
    },
    "id": "Oad1DfOJkEGa",
    "outputId": "47691283-41bf-4490-b9a5-4a6b5f5887b1"
   },
   "outputs": [],
   "source": [
    "# Example of running an LLM with Langchain\n",
    "from langchain.llms.huggingface_pipeline import HuggingFacePipeline\n",
    "\n",
    "hf = HuggingFacePipeline.from_model_id(\n",
    "    model_id=\"microsoft/DialoGPT-medium\", task=\"text-generation\", pipeline_kwargs={\"max_new_tokens\": 200, \"pad_token_id\": 50256},\n",
    ")\n",
    "\n",
    "from langchain.prompts import PromptTemplate\n",
    "\n",
    "template = \"\"\"Question: {question}\n",
    "\n",
    "Answer: Let's think step by step.\"\"\"\n",
    "prompt = PromptTemplate.from_template(template)\n",
    "\n",
    "chain = prompt | hf\n",
    "\n",
    "question = \"What is electroencephalography?\"\n",
    "\n",
    "print(chain.invoke({\"question\": question}))"
   ]
  },
  {
   "cell_type": "markdown",
   "id": "8xV1VWSwYcGw",
   "metadata": {
    "id": "8xV1VWSwYcGw"
   },
   "source": [
    "### Saving the model\n",
    "If you need to save the models locally (for fine-tuning, working offline\n",
    "etc). Save them and Reload them like this:\n"
   ]
  },
  {
   "cell_type": "code",
   "execution_count": null,
   "id": "Lr34_na2Yhxq",
   "metadata": {
    "id": "Lr34_na2Yhxq"
   },
   "outputs": [],
   "source": [
    "# model_id = \"TheFinAI/finma-7b-full\"\n",
    "# tokenizer = AutoTokenizer.from_pretrained(f\"{model_id}\", legacy = True)\n",
    "# tokenizer.save_pretrained(f\"cache/tokenizer/{model_id}\")\n",
    "# model = AutoModelForCausalLM.from_pretrained(f\"{model_id}\")\n",
    "# model.save_pretrained(f\"cache/model/{model_id}\")\n",
    "# # tokenizer = AutoTokenizer.from_pretrained(f\"./{model_id}\", legacy=True)\n",
    "# # model = AutoModelForCausalLM.from_pretrained(f\"./{model_id}\")"
   ]
  },
  {
   "cell_type": "markdown",
   "id": "Z11ORJ6CYpBv",
   "metadata": {
    "id": "Z11ORJ6CYpBv"
   },
   "source": [
    "You can fine-tune the behavior of the generation by adjusting parameters such as:\n",
    "\n",
    "* max_length: The maximum length of the generated response.\n",
    "* temperature: Affects randomness in the output (lower values make output more deterministic).\n",
    "* top_k and top_p: Sampling strategies that control diversity in generation.\n"
   ]
  },
  {
   "cell_type": "markdown",
   "id": "6ac486a9-8d58-484e-ae96-5b716f42d758",
   "metadata": {
    "id": "6ac486a9-8d58-484e-ae96-5b716f42d758"
   },
   "source": [
    "### Load HuggingFace dataset\n",
    "Load the dataset (e.g., CICM for stock movement prediction)\n",
    "Other datasets:\n",
    "* Sentiment Analysis:\n",
    "* Question-Answering:\n",
    "* Summarisation:\n",
    "* Stock Movement Prediction: 'TheFinAI/flare-sm-cikm', 'TheFinAI/en-fpb', 'TheFinAI/flare-sm-bigdata', 'TheFinAI/flare-ectsum', 'TheFinAI/flare-edtsum'"
   ]
  },
  {
   "cell_type": "code",
   "execution_count": null,
   "id": "fUN0E-zEbAn6",
   "metadata": {
    "colab": {
     "base_uri": "https://localhost:8080/"
    },
    "id": "fUN0E-zEbAn6",
    "outputId": "4ca54882-6071-4d2a-e625-8c37d771df5c"
   },
   "outputs": [
    {
     "name": "stdout",
     "output_type": "stream",
     "text": [
      "Requirement already satisfied: datasets in /usr/local/lib/python3.10/dist-packages (3.1.0)\n",
      "Requirement already satisfied: filelock in /usr/local/lib/python3.10/dist-packages (from datasets) (3.16.1)\n",
      "Requirement already satisfied: numpy>=1.17 in /usr/local/lib/python3.10/dist-packages (from datasets) (1.26.4)\n",
      "Requirement already satisfied: pyarrow>=15.0.0 in /usr/local/lib/python3.10/dist-packages (from datasets) (17.0.0)\n",
      "Requirement already satisfied: dill<0.3.9,>=0.3.0 in /usr/local/lib/python3.10/dist-packages (from datasets) (0.3.8)\n",
      "Requirement already satisfied: pandas in /usr/local/lib/python3.10/dist-packages (from datasets) (2.2.2)\n",
      "Requirement already satisfied: requests>=2.32.2 in /usr/local/lib/python3.10/dist-packages (from datasets) (2.32.3)\n",
      "Requirement already satisfied: tqdm>=4.66.3 in /usr/local/lib/python3.10/dist-packages (from datasets) (4.66.6)\n",
      "Requirement already satisfied: xxhash in /usr/local/lib/python3.10/dist-packages (from datasets) (3.5.0)\n",
      "Requirement already satisfied: multiprocess<0.70.17 in /usr/local/lib/python3.10/dist-packages (from datasets) (0.70.16)\n",
      "Requirement already satisfied: fsspec<=2024.9.0,>=2023.1.0 in /usr/local/lib/python3.10/dist-packages (from fsspec[http]<=2024.9.0,>=2023.1.0->datasets) (2024.9.0)\n",
      "Requirement already satisfied: aiohttp in /usr/local/lib/python3.10/dist-packages (from datasets) (3.11.2)\n",
      "Requirement already satisfied: huggingface-hub>=0.23.0 in /usr/local/lib/python3.10/dist-packages (from datasets) (0.26.2)\n",
      "Requirement already satisfied: packaging in /usr/local/lib/python3.10/dist-packages (from datasets) (24.2)\n",
      "Requirement already satisfied: pyyaml>=5.1 in /usr/local/lib/python3.10/dist-packages (from datasets) (6.0.2)\n",
      "Requirement already satisfied: aiohappyeyeballs>=2.3.0 in /usr/local/lib/python3.10/dist-packages (from aiohttp->datasets) (2.4.3)\n",
      "Requirement already satisfied: aiosignal>=1.1.2 in /usr/local/lib/python3.10/dist-packages (from aiohttp->datasets) (1.3.1)\n",
      "Requirement already satisfied: attrs>=17.3.0 in /usr/local/lib/python3.10/dist-packages (from aiohttp->datasets) (24.2.0)\n",
      "Requirement already satisfied: frozenlist>=1.1.1 in /usr/local/lib/python3.10/dist-packages (from aiohttp->datasets) (1.5.0)\n",
      "Requirement already satisfied: multidict<7.0,>=4.5 in /usr/local/lib/python3.10/dist-packages (from aiohttp->datasets) (6.1.0)\n",
      "Requirement already satisfied: propcache>=0.2.0 in /usr/local/lib/python3.10/dist-packages (from aiohttp->datasets) (0.2.0)\n",
      "Requirement already satisfied: yarl<2.0,>=1.17.0 in /usr/local/lib/python3.10/dist-packages (from aiohttp->datasets) (1.17.2)\n",
      "Requirement already satisfied: async-timeout<6.0,>=4.0 in /usr/local/lib/python3.10/dist-packages (from aiohttp->datasets) (4.0.3)\n",
      "Requirement already satisfied: typing-extensions>=3.7.4.3 in /usr/local/lib/python3.10/dist-packages (from huggingface-hub>=0.23.0->datasets) (4.12.2)\n",
      "Requirement already satisfied: charset-normalizer<4,>=2 in /usr/local/lib/python3.10/dist-packages (from requests>=2.32.2->datasets) (3.4.0)\n",
      "Requirement already satisfied: idna<4,>=2.5 in /usr/local/lib/python3.10/dist-packages (from requests>=2.32.2->datasets) (3.10)\n",
      "Requirement already satisfied: urllib3<3,>=1.21.1 in /usr/local/lib/python3.10/dist-packages (from requests>=2.32.2->datasets) (2.2.3)\n",
      "Requirement already satisfied: certifi>=2017.4.17 in /usr/local/lib/python3.10/dist-packages (from requests>=2.32.2->datasets) (2024.8.30)\n",
      "Requirement already satisfied: python-dateutil>=2.8.2 in /usr/local/lib/python3.10/dist-packages (from pandas->datasets) (2.8.2)\n",
      "Requirement already satisfied: pytz>=2020.1 in /usr/local/lib/python3.10/dist-packages (from pandas->datasets) (2024.2)\n",
      "Requirement already satisfied: tzdata>=2022.7 in /usr/local/lib/python3.10/dist-packages (from pandas->datasets) (2024.2)\n",
      "Requirement already satisfied: six>=1.5 in /usr/local/lib/python3.10/dist-packages (from python-dateutil>=2.8.2->pandas->datasets) (1.16.0)\n"
     ]
    }
   ],
   "source": [
    "!pip install datasets"
   ]
  },
  {
   "cell_type": "code",
   "execution_count": null,
   "id": "66888909-4e23-4a42-84a9-98536bf80f0e",
   "metadata": {
    "id": "66888909-4e23-4a42-84a9-98536bf80f0e"
   },
   "outputs": [],
   "source": [
    "from datasets import load_dataset\n",
    "dataset = load_dataset('TheFinAI/flare-sm-cikm')"
   ]
  },
  {
   "cell_type": "code",
   "execution_count": null,
   "id": "abQj6nJ0KwWQ",
   "metadata": {
    "colab": {
     "base_uri": "https://localhost:8080/"
    },
    "id": "abQj6nJ0KwWQ",
    "outputId": "af5b0e3e-88b9-4c7c-f47a-711a0249bc0e"
   },
   "outputs": [
    {
     "name": "stdout",
     "output_type": "stream",
     "text": [
      "DatasetDict({\n",
      "    train: Dataset({\n",
      "        features: ['id', 'query', 'answer', 'text', 'choices', 'gold'],\n",
      "        num_rows: 3396\n",
      "    })\n",
      "    test: Dataset({\n",
      "        features: ['id', 'query', 'answer', 'text', 'choices', 'gold'],\n",
      "        num_rows: 1143\n",
      "    })\n",
      "    valid: Dataset({\n",
      "        features: ['id', 'query', 'answer', 'text', 'choices', 'gold'],\n",
      "        num_rows: 431\n",
      "    })\n",
      "})\n"
     ]
    }
   ],
   "source": [
    "# Display the dataset info and a sample\n",
    "print(dataset)"
   ]
  },
  {
   "cell_type": "code",
   "execution_count": null,
   "id": "5q3yfoBRKydQ",
   "metadata": {
    "colab": {
     "base_uri": "https://localhost:8080/",
     "height": 206
    },
    "id": "5q3yfoBRKydQ",
    "outputId": "3e2eef5a-58e0-4796-b9e5-fd255a825a07"
   },
   "outputs": [
    {
     "data": {
      "application/vnd.google.colaboratory.intrinsic+json": {
       "summary": "{\n  \"name\": \"df\",\n  \"rows\": 1143,\n  \"fields\": [\n    {\n      \"column\": \"id\",\n      \"properties\": {\n        \"dtype\": \"string\",\n        \"num_unique_values\": 1143,\n        \"samples\": [\n          \"cikmsm3985\",\n          \"cikmsm4908\",\n          \"cikmsm4118\"\n        ],\n        \"semantic_type\": \"\",\n        \"description\": \"\"\n      }\n    },\n    {\n      \"column\": \"query\",\n      \"properties\": {\n        \"dtype\": \"string\",\n        \"num_unique_values\": 1143,\n        \"samples\": [\n          \"Contemplate the data and tweets to guess whether the closing price of $bac will surge or decline at 2017-11-14. Please declare either Rise or Fall.\\nContext: date,open,high,low,close,adj-close,inc-5,inc-10,inc-15,inc-20,inc-25,inc-30\\n2017-10-31,0.9,1.2,-0.2,-0.8,-0.8,0.9,-0.2,-2.0,-2.8,-3.6,-4.5\\n2017-11-01,0.4,0.7,-0.6,0.5,0.5,0.3,-0.4,-2.1,-2.9,-3.8,-4.6\\n2017-11-02,-1.3,0.3,-2.1,1.2,1.2,-0.8,-1.1,-2.7,-3.8,-4.6,-5.5\\n2017-11-03,-0.3,0.0,-0.7,-0.2,-0.2,-0.6,-0.7,-2.0,-3.3,-4.1,-5.0\\n2017-11-06,-0.0,0.3,-0.5,-0.3,-0.3,-0.3,-0.2,-1.4,-2.8,-3.5,-4.4\\n2017-11-07,2.1,2.2,-0.6,-2.1,-2.1,1.7,1.7,0.9,-0.5,-1.3,-2.1\\n2017-11-08,0.6,0.6,-1.1,-1.4,-1.4,2.6,2.8,2.4,1.1,0.3,-0.5\\n2017-11-09,0.0,0.6,-1.4,-1.1,-1.1,2.7,3.5,3.6,2.5,1.5,0.8\\n2017-11-10,0.3,0.9,-0.2,0.1,0.1,1.6,3.0,3.3,2.5,1.5,0.8\\n2017-11-13,-0.5,0.3,-1.0,-0.4,-0.4,1.0,2.9,3.6,3.0,2.0,1.4\\n\\n2017-10-31: go read: $chd $pg $v $csco $intc $ge $ul $bac $c $jpm $ms $gs $aapl $googl $msft #nflx $amzn $fb $v $f $gm $uaa $spy |$bac broke up and away, +8.1% to $27.39. next target: the $33s. fpe 12s. this stoc\\n2017-11-01: get #nasdaq and #nyse buy and sell signals  $ibm, $ebay, $td, $bac, $cmg, $ge, $jpm, $tsla|$cg $bac heres what you need to know about powells fed chair selection via |#allergan equity declines $4b in \\n2017-11-02: rt AT_USER as even the boe are raising rates, $bac settled +1.2% at $27.87. m/t bullish to the $33s in 2018. quality financial.  AT_USER|rt AT_USER as even the boe are raising rates, $bac settled +1.2\\n2017-11-03: get #nasdaq and #nyse buy and sell signals  $ibm, $ebay, $td, $bac, $cmg, $ge, $jpm, $tsla|$ry $bac broadcom analysts noted perks of moving hq, then got validation via |$bac bank of america corporatio\\n2017-11-04:  $aapl $aig $amzn $bac $c $fb $fitb $fmcc $fnma $ge $googl $gs $jpm $ms $nflx $wfc $spy $dia $qqq $sh|dragonfly capital - 5 trade ideas for monday: $bac $cost $nke $pfe $ppg  $spy|dragonfly capital - \\n2017-11-05: rt AT_USER nasdaq 2017 ytd @ 25.66% by nov3. how about u? $aapl $amzn $amd $baba $ba $bac $c $fb $googl $gs $intc $iwm $msft $mu $\\u00a1\\u00ad|#breaking broadcom $avgo offer to buy qualcomm $qcom at $70 per sha\\n2017-11-06: free video with setups for nov 7 \\\"as long as you do this\\\" $bac $fb $sbux $nflx $lvs $pcln |price returns vs expected daily move $unit $pypl $rlgy $aig $afl $v $bac $wfc $c $gs $jpm $mbi\\u00a1\\u00ad |rt AT_USER \\n2017-11-07: also my weekly plays are in $bac and $fb  bac 27.50s AT_USER and $fb 182.50s AT_USER|if you are a #daytrader you need to check out this service  - just $50/usd per month, $bac, $mon, $wfc, $gs, $fb|#o\\n2017-11-08: if you are a #daytrader you need to check out this service  - just $50/usd per month, $bac, $mon, $wfc, $gs, $fb|whoa! tu AT_USER i hadn't seen this 2012 AT_USER legal analysis on #mortgage assignment\\n2017-11-09: podcast:AT_USER q&amp;a $dis $bac $c $nflx $sig larry fink bitcoin  via AT_USER|AT_USER of course. been long $aapl for a while now. just went long $bac today on the 3 day weakness but i like\\u00a1\\u00ad | $bac \\n2017-11-10: in the market: poor weekly showing for major #bank #stocks. will $bac $c $jpm continue to gain buying support at 10-week ma? #investing|big call buyers  $cvs $bac $esrx $cah $panw $ebay $clvs $mnst $c\\n2017-11-11:  $aapl $aig $amzn $bac $c $fb $fitb $fmcc $fnma $ge $googl $gs $jpm $ms $nflx $wfc $spy $dia $qqq $sh\\n2017-11-12: free video with setups for nov 13 \\\"it's been quite a run\\\" $bac $fb $nflx $tsla $nvda |$sne #sony's #stock could rise 20 percent on #gaming and camera #chips #sales: #barron's  \\n2017-11-13: rt AT_USER $xlf doing 3 waves as a flat structure from the peak and 3 waves bounce is expected to happen at least #elliottwave $b\\u00a1\\u00ad|price returns vs expected daily move $ggp $mbi $afl $jpm $pypl $gs $\\nAnswer:\",\n          \"Utilize the data and tweets at hand to foresee if the closing price of $ba will elevate or diminish at 2018-01-19. Only answer with Rise or Fall.\\nContext: date,open,high,low,close,adj-close,inc-5,inc-10,inc-15,inc-20,inc-25,inc-30\\n2018-01-04,0.4,0.6,-0.4,-0.4,-0.4,-0.1,-0.2,-0.3,-1.3,-2.6,-3.9\\n2018-01-05,-3.9,0.0,-3.9,4.1,4.1,-3.2,-3.8,-3.9,-4.7,-5.9,-7.2\\n2018-01-08,-0.5,0.2,-1.4,0.4,0.4,-2.6,-3.7,-4.0,-4.7,-5.9,-7.1\\n2018-01-09,-2.5,0.5,-2.5,2.7,2.7,-3.8,-5.4,-5.9,-6.6,-7.7,-9.0\\n2018-01-10,-0.9,0.6,-1.5,0.6,0.6,-2.9,-5.2,-6.0,-6.6,-7.7,-8.9\\n2018-01-11,-1.8,0.1,-2.1,2.5,2.5,-3.3,-6.5,-7.6,-8.3,-9.3,-10.5\\n2018-01-12,-1.7,0.2,-1.7,2.5,2.5,-4.0,-7.6,-9.1,-9.8,-10.8,-12.0\\n2018-01-16,1.4,3.8,-1.1,-0.3,-0.3,-2.2,-6.1,-8.0,-8.9,-9.9,-11.1\\n2018-01-17,-3.8,0.3,-4.2,4.7,4.7,-4.8,-8.8,-11.1,-12.2,-13.2,-14.4\\n2018-01-18,3.1,3.1,-0.3,-3.1,-3.1,-0.6,-4.6,-7.4,-8.8,-9.8,-11.0\\n\\n2018-01-04: rt AT_USER $djia crosses 25,000 1st first time (25075); from the 1/25/17, 20,068 close, $ba has accounted for 17.77% of the$djia's retur\\u00a1\\u00ad|rt AT_USER $djia crosses 25,000 1st first time (25075); from \\n2018-01-05: $stz $jd $db $fdx $sq $mat $x $txt $amzn $igt $vale $orcl $urbn $hes $calm $ms $gm $tsco $ba $vrx $tds $snap $gg $x\\u00a1\\u00ad |stocks close at another weekly high!!! funny anybody else notice those \\\"real esta\\n2018-01-06: $ba max pain=292.50. maturity=01/12/2018. #maxpain #options  |hudson valley investment advisors has lifted holding in boeing co $ba by $1.26 million as stock value rose ...|rt AT_USER here are charts \\n2018-01-08: rt AT_USER $ba over $310  new all time highs |#imagination and #creativity will grow $nflx $ba $c $amzn $wfc -  $aapl $low $oxy $wynn $x #ai #ces2018 #ces2019|AT_USER also 4 contracts of $ba jan 220c \\n2018-01-09: $btc $spx $nasdaq $djia $cac $dax $ftse $jpm $tsla $es_f $cl_f $gc_f $tlt $wmt $jnj $fb $googl $msft $intc $amd\\u00a1\\u00ad |rt AT_USER freakin' $ba |ge stock is a better bet on aircraft demand than boeing AT_U\\n2018-01-10: rt AT_USER many do not like the stockbookie will enjoy my live stream tonight as he was massively wrong $spy $ba  i explain the trut\\u00a1\\u00ad|rt AT_USER many do not like the stockbookie will enjoy my live st\\n2018-01-11: rt AT_USER $ba update. whata beast! |$ba two year performance - from $96 to $328.. seems unreal for a behemoth like boeing. |rt AT_USER this is what i wanted to show about the stockbookie super wrong \\n2018-01-12: i believe $ba will pay $36.15 for $erj. $28 too low for government to approve. money talks...$fb $aapl $amzn|rt AT_USER stockbookie looking like a stock clown with  the $spy and $ba being massively wr\\n2018-01-13: $mon $ba $cvx options have the largest change in open interest. free options screener. |rt AT_USER vista partners quote of the day via conrad hilton! #success #persistence #investing stay informed! st\\n2018-01-14: talk about your abc's this week! honestly the rest of the year is setting up to be and incredible opportunity for t\\u00a1\\u00ad |futures very green vs fair value. dow up over 100 meaning $ba will probably be up\\n2018-01-15: rt AT_USER $btc $spx $nasdaq $ftse $dax $cac $djia $c $xom $amzn $googl $avgo $aapl $wfm $cvs $bac $wmt $cost $wfc $jnj $ge $gs $tsla\\u00a1\\u00ad|watching $ba $orcl $cost for earnings this quarter.|rt AT_USER $\\n2018-01-16: $ba, $adnt launch new company to design and build airplane seats |rt AT_USER i still have every intention of initiating at least a 1/2 position in $ba puts pretty close to tomorrows open, assuming it \\n2018-01-17: mcd dis and wmt, all on the menu for tomorrow working of buy signal confirmations...all three working on making new\\u00a1\\u00ad |stopped out 4.20 booked loss $ba |i enjoyed rich ross give dan downer the busines\\n2018-01-18: rt AT_USER [#stockmarket rundown] today was only #dowjones 4th losing day of the year, down 98pts. 3rd losing day for #nasdaq, down\\u00a1\\u00ad|AT_USER AT_USER caught my self pok\\u00a8\\u00a8-trading...you know, trying to\\nAnswer:\",\n          \"Contemplate the data and tweets to guess whether the closing price of $intc will surge or decline at 2017-11-22. Please declare either Rise or Fall.\\nContext: date,open,high,low,close,adj-close,inc-5,inc-10,inc-15,inc-20,inc-25,inc-30\\n2017-11-08,-0.2,0.0,-0.9,-0.2,-0.2,-0.2,-2.8,-6.4,-8.6,-10.0,-11.3\\n2017-11-09,-0.5,0.2,-1.4,-0.9,-0.9,0.5,-0.8,-4.6,-7.0,-8.7,-9.9\\n2017-11-10,1.0,1.1,-0.4,-1.6,-1.6,1.8,1.1,-2.3,-4.9,-6.7,-7.9\\n2017-11-13,-1.1,0.4,-1.1,0.4,0.4,1.0,1.1,-1.9,-4.6,-6.5,-7.7\\n2017-11-14,-0.3,0.1,-1.2,0.2,0.2,0.4,1.0,-1.4,-4.1,-6.1,-7.5\\n2017-11-15,-0.2,0.8,-0.6,-0.9,-0.9,0.7,1.6,0.2,-2.7,-4.8,-6.2\\n2017-11-16,-0.0,0.9,-0.4,0.4,0.4,0.0,1.0,0.4,-2.4,-4.6,-6.1\\n2017-11-17,1.9,2.2,-0.0,-2.2,-2.2,1.9,2.9,2.8,0.3,-1.9,-3.6\\n2017-11-20,0.2,1.1,-0.3,-0.0,-0.0,1.4,2.5,2.9,0.8,-1.4,-3.2\\n2017-11-21,-0.5,0.6,-0.5,0.7,0.7,0.3,1.4,2.1,0.5,-1.7,-3.5\\n\\n2017-11-10: big call buyers  $dpz $gps $jpm $hes $betr $cpb $aaba $googl $jd $gww $pypl $pbi $sq $fcx $intc $gild $sig $immu|$nvda $baba $intc $tsla i am looking for tweets from skeptics and negatives|notable upg\\n2017-11-13: $amd remains broadly choppy, -1.5% at $11.09. considering main market, decreasing threat of $10.00. an eventual bre\\u00a1\\u00ad |price moves vs expected moves $jd $qcom $mu $intc $fb $msft $csco $t $twtr $amd $\\n2017-11-14: rt AT_USER $amd loved by negative press, $intc gets an $amd team member - mentioned everywhere, mention the fact former $mu ceo join\\u00a1\\u00ad|$amd loved by negative press, $intc gets an $amd team member - me\\n2017-11-15: AT_USER AT_USER hoping it busts out like $intc|are you bullish or bearish on #intel? start #trading $intc with #bitcoin! #xbt $xbt $btc #btcusd #cryptocurrency\\u00a1\\u00ad |are you bullish or bearish on #intel?\\n2017-11-16: $amd settled +1.6% at $11.25. due a bullish macd cross at the friday open, which will offer gap resistance of the 1\\u00a1\\u00ad |rt AT_USER big bullish unusual option activity detected: $ko, $twx, $twtr, $mu - \\n2017-11-17: AT_USER gary any comment on $intc $msft. $msft doing $ibm and trying to fill gap i think. $intc at 21dma.|$intc down big with big volume |top shorted stocks 11/17/17... 10. $pgx 78.33% 11. $rgc 76.60%\\n2017-11-18: rt AT_USER $amd remains messy, seeing a recent low of $10.66... around key price threshold, that stretches back to 2010. yet to prov\\u00a1\\u00ad|$amd remains messy, seeing a recent low of $10.66... around key p\\n2017-11-19: rt AT_USER how intel, nvidia, xilinx, and amd stack up in #ai  $intc $nvda $xlnx $amd via AT_USER|how intel, nvidia, xilinx, and amd stack up in #ai  $intc $nvda $xlnx $amd via AT_USER|$intc has a ret\\n2017-11-20: $intc d1 - gap support/w1 8ema low 43s ideal place to try long   via |going deep, looking for a potential trigger on $intc. |AT_USER pete, what's going on with $intc.. looks like it's out of gas?|rt A\\n2017-11-21: $intc intel corporation sec filing: form 4 |$0.86 earnings per share expected for intel corporation $intc this quarter |$intc $44.94 (+0.72%) being heavily traded.  our #sentiment analysis tool gives \\nAnswer:\"\n        ],\n        \"semantic_type\": \"\",\n        \"description\": \"\"\n      }\n    },\n    {\n      \"column\": \"answer\",\n      \"properties\": {\n        \"dtype\": \"category\",\n        \"num_unique_values\": 2,\n        \"samples\": [\n          \"Rise\",\n          \"Fall\"\n        ],\n        \"semantic_type\": \"\",\n        \"description\": \"\"\n      }\n    },\n    {\n      \"column\": \"text\",\n      \"properties\": {\n        \"dtype\": \"string\",\n        \"num_unique_values\": 1143,\n        \"samples\": [\n          \"date,open,high,low,close,adj-close,inc-5,inc-10,inc-15,inc-20,inc-25,inc-30\\n2017-10-31,0.9,1.2,-0.2,-0.8,-0.8,0.9,-0.2,-2.0,-2.8,-3.6,-4.5\\n2017-11-01,0.4,0.7,-0.6,0.5,0.5,0.3,-0.4,-2.1,-2.9,-3.8,-4.6\\n2017-11-02,-1.3,0.3,-2.1,1.2,1.2,-0.8,-1.1,-2.7,-3.8,-4.6,-5.5\\n2017-11-03,-0.3,0.0,-0.7,-0.2,-0.2,-0.6,-0.7,-2.0,-3.3,-4.1,-5.0\\n2017-11-06,-0.0,0.3,-0.5,-0.3,-0.3,-0.3,-0.2,-1.4,-2.8,-3.5,-4.4\\n2017-11-07,2.1,2.2,-0.6,-2.1,-2.1,1.7,1.7,0.9,-0.5,-1.3,-2.1\\n2017-11-08,0.6,0.6,-1.1,-1.4,-1.4,2.6,2.8,2.4,1.1,0.3,-0.5\\n2017-11-09,0.0,0.6,-1.4,-1.1,-1.1,2.7,3.5,3.6,2.5,1.5,0.8\\n2017-11-10,0.3,0.9,-0.2,0.1,0.1,1.6,3.0,3.3,2.5,1.5,0.8\\n2017-11-13,-0.5,0.3,-1.0,-0.4,-0.4,1.0,2.9,3.6,3.0,2.0,1.4\\n\\n2017-10-31: go read: $chd $pg $v $csco $intc $ge $ul $bac $c $jpm $ms $gs $aapl $googl $msft #nflx $amzn $fb $v $f $gm $uaa $spy |$bac broke up and away, +8.1% to $27.39. next target: the $33s. fpe 12s. this stoc\\n2017-11-01: get #nasdaq and #nyse buy and sell signals  $ibm, $ebay, $td, $bac, $cmg, $ge, $jpm, $tsla|$cg $bac heres what you need to know about powells fed chair selection via |#allergan equity declines $4b in \\n2017-11-02: rt AT_USER as even the boe are raising rates, $bac settled +1.2% at $27.87. m/t bullish to the $33s in 2018. quality financial.  AT_USER|rt AT_USER as even the boe are raising rates, $bac settled +1.2\\n2017-11-03: get #nasdaq and #nyse buy and sell signals  $ibm, $ebay, $td, $bac, $cmg, $ge, $jpm, $tsla|$ry $bac broadcom analysts noted perks of moving hq, then got validation via |$bac bank of america corporatio\\n2017-11-04:  $aapl $aig $amzn $bac $c $fb $fitb $fmcc $fnma $ge $googl $gs $jpm $ms $nflx $wfc $spy $dia $qqq $sh|dragonfly capital - 5 trade ideas for monday: $bac $cost $nke $pfe $ppg  $spy|dragonfly capital - \\n2017-11-05: rt AT_USER nasdaq 2017 ytd @ 25.66% by nov3. how about u? $aapl $amzn $amd $baba $ba $bac $c $fb $googl $gs $intc $iwm $msft $mu $\\u00a1\\u00ad|#breaking broadcom $avgo offer to buy qualcomm $qcom at $70 per sha\\n2017-11-06: free video with setups for nov 7 \\\"as long as you do this\\\" $bac $fb $sbux $nflx $lvs $pcln |price returns vs expected daily move $unit $pypl $rlgy $aig $afl $v $bac $wfc $c $gs $jpm $mbi\\u00a1\\u00ad |rt AT_USER \\n2017-11-07: also my weekly plays are in $bac and $fb  bac 27.50s AT_USER and $fb 182.50s AT_USER|if you are a #daytrader you need to check out this service  - just $50/usd per month, $bac, $mon, $wfc, $gs, $fb|#o\\n2017-11-08: if you are a #daytrader you need to check out this service  - just $50/usd per month, $bac, $mon, $wfc, $gs, $fb|whoa! tu AT_USER i hadn't seen this 2012 AT_USER legal analysis on #mortgage assignment\\n2017-11-09: podcast:AT_USER q&amp;a $dis $bac $c $nflx $sig larry fink bitcoin  via AT_USER|AT_USER of course. been long $aapl for a while now. just went long $bac today on the 3 day weakness but i like\\u00a1\\u00ad | $bac \\n2017-11-10: in the market: poor weekly showing for major #bank #stocks. will $bac $c $jpm continue to gain buying support at 10-week ma? #investing|big call buyers  $cvs $bac $esrx $cah $panw $ebay $clvs $mnst $c\\n2017-11-11:  $aapl $aig $amzn $bac $c $fb $fitb $fmcc $fnma $ge $googl $gs $jpm $ms $nflx $wfc $spy $dia $qqq $sh\\n2017-11-12: free video with setups for nov 13 \\\"it's been quite a run\\\" $bac $fb $nflx $tsla $nvda |$sne #sony's #stock could rise 20 percent on #gaming and camera #chips #sales: #barron's  \\n2017-11-13: rt AT_USER $xlf doing 3 waves as a flat structure from the peak and 3 waves bounce is expected to happen at least #elliottwave $b\\u00a1\\u00ad|price returns vs expected daily move $ggp $mbi $afl $jpm $pypl $gs $\",\n          \"date,open,high,low,close,adj-close,inc-5,inc-10,inc-15,inc-20,inc-25,inc-30\\n2018-01-04,0.4,0.6,-0.4,-0.4,-0.4,-0.1,-0.2,-0.3,-1.3,-2.6,-3.9\\n2018-01-05,-3.9,0.0,-3.9,4.1,4.1,-3.2,-3.8,-3.9,-4.7,-5.9,-7.2\\n2018-01-08,-0.5,0.2,-1.4,0.4,0.4,-2.6,-3.7,-4.0,-4.7,-5.9,-7.1\\n2018-01-09,-2.5,0.5,-2.5,2.7,2.7,-3.8,-5.4,-5.9,-6.6,-7.7,-9.0\\n2018-01-10,-0.9,0.6,-1.5,0.6,0.6,-2.9,-5.2,-6.0,-6.6,-7.7,-8.9\\n2018-01-11,-1.8,0.1,-2.1,2.5,2.5,-3.3,-6.5,-7.6,-8.3,-9.3,-10.5\\n2018-01-12,-1.7,0.2,-1.7,2.5,2.5,-4.0,-7.6,-9.1,-9.8,-10.8,-12.0\\n2018-01-16,1.4,3.8,-1.1,-0.3,-0.3,-2.2,-6.1,-8.0,-8.9,-9.9,-11.1\\n2018-01-17,-3.8,0.3,-4.2,4.7,4.7,-4.8,-8.8,-11.1,-12.2,-13.2,-14.4\\n2018-01-18,3.1,3.1,-0.3,-3.1,-3.1,-0.6,-4.6,-7.4,-8.8,-9.8,-11.0\\n\\n2018-01-04: rt AT_USER $djia crosses 25,000 1st first time (25075); from the 1/25/17, 20,068 close, $ba has accounted for 17.77% of the$djia's retur\\u00a1\\u00ad|rt AT_USER $djia crosses 25,000 1st first time (25075); from \\n2018-01-05: $stz $jd $db $fdx $sq $mat $x $txt $amzn $igt $vale $orcl $urbn $hes $calm $ms $gm $tsco $ba $vrx $tds $snap $gg $x\\u00a1\\u00ad |stocks close at another weekly high!!! funny anybody else notice those \\\"real esta\\n2018-01-06: $ba max pain=292.50. maturity=01/12/2018. #maxpain #options  |hudson valley investment advisors has lifted holding in boeing co $ba by $1.26 million as stock value rose ...|rt AT_USER here are charts \\n2018-01-08: rt AT_USER $ba over $310  new all time highs |#imagination and #creativity will grow $nflx $ba $c $amzn $wfc -  $aapl $low $oxy $wynn $x #ai #ces2018 #ces2019|AT_USER also 4 contracts of $ba jan 220c \\n2018-01-09: $btc $spx $nasdaq $djia $cac $dax $ftse $jpm $tsla $es_f $cl_f $gc_f $tlt $wmt $jnj $fb $googl $msft $intc $amd\\u00a1\\u00ad |rt AT_USER freakin' $ba |ge stock is a better bet on aircraft demand than boeing AT_U\\n2018-01-10: rt AT_USER many do not like the stockbookie will enjoy my live stream tonight as he was massively wrong $spy $ba  i explain the trut\\u00a1\\u00ad|rt AT_USER many do not like the stockbookie will enjoy my live st\\n2018-01-11: rt AT_USER $ba update. whata beast! |$ba two year performance - from $96 to $328.. seems unreal for a behemoth like boeing. |rt AT_USER this is what i wanted to show about the stockbookie super wrong \\n2018-01-12: i believe $ba will pay $36.15 for $erj. $28 too low for government to approve. money talks...$fb $aapl $amzn|rt AT_USER stockbookie looking like a stock clown with  the $spy and $ba being massively wr\\n2018-01-13: $mon $ba $cvx options have the largest change in open interest. free options screener. |rt AT_USER vista partners quote of the day via conrad hilton! #success #persistence #investing stay informed! st\\n2018-01-14: talk about your abc's this week! honestly the rest of the year is setting up to be and incredible opportunity for t\\u00a1\\u00ad |futures very green vs fair value. dow up over 100 meaning $ba will probably be up\\n2018-01-15: rt AT_USER $btc $spx $nasdaq $ftse $dax $cac $djia $c $xom $amzn $googl $avgo $aapl $wfm $cvs $bac $wmt $cost $wfc $jnj $ge $gs $tsla\\u00a1\\u00ad|watching $ba $orcl $cost for earnings this quarter.|rt AT_USER $\\n2018-01-16: $ba, $adnt launch new company to design and build airplane seats |rt AT_USER i still have every intention of initiating at least a 1/2 position in $ba puts pretty close to tomorrows open, assuming it \\n2018-01-17: mcd dis and wmt, all on the menu for tomorrow working of buy signal confirmations...all three working on making new\\u00a1\\u00ad |stopped out 4.20 booked loss $ba |i enjoyed rich ross give dan downer the busines\\n2018-01-18: rt AT_USER [#stockmarket rundown] today was only #dowjones 4th losing day of the year, down 98pts. 3rd losing day for #nasdaq, down\\u00a1\\u00ad|AT_USER AT_USER caught my self pok\\u00a8\\u00a8-trading...you know, trying to\"\n        ],\n        \"semantic_type\": \"\",\n        \"description\": \"\"\n      }\n    },\n    {\n      \"column\": \"choices\",\n      \"properties\": {\n        \"dtype\": \"object\",\n        \"semantic_type\": \"\",\n        \"description\": \"\"\n      }\n    },\n    {\n      \"column\": \"gold\",\n      \"properties\": {\n        \"dtype\": \"number\",\n        \"std\": 0,\n        \"min\": 0,\n        \"max\": 1,\n        \"num_unique_values\": 2,\n        \"samples\": [\n          0,\n          1\n        ],\n        \"semantic_type\": \"\",\n        \"description\": \"\"\n      }\n    }\n  ]\n}",
       "type": "dataframe",
       "variable_name": "df"
      },
      "text/html": [
       "\n",
       "  <div id=\"df-bd0cab07-de4c-4f25-8b87-83cf89bdafe7\" class=\"colab-df-container\">\n",
       "    <div>\n",
       "<style scoped>\n",
       "    .dataframe tbody tr th:only-of-type {\n",
       "        vertical-align: middle;\n",
       "    }\n",
       "\n",
       "    .dataframe tbody tr th {\n",
       "        vertical-align: top;\n",
       "    }\n",
       "\n",
       "    .dataframe thead th {\n",
       "        text-align: right;\n",
       "    }\n",
       "</style>\n",
       "<table border=\"1\" class=\"dataframe\">\n",
       "  <thead>\n",
       "    <tr style=\"text-align: right;\">\n",
       "      <th></th>\n",
       "      <th>id</th>\n",
       "      <th>query</th>\n",
       "      <th>answer</th>\n",
       "      <th>text</th>\n",
       "      <th>choices</th>\n",
       "      <th>gold</th>\n",
       "    </tr>\n",
       "  </thead>\n",
       "  <tbody>\n",
       "    <tr>\n",
       "      <th>0</th>\n",
       "      <td>cikmsm3827</td>\n",
       "      <td>Assess the data and tweets to estimate whether...</td>\n",
       "      <td>Fall</td>\n",
       "      <td>date,open,high,low,close,adj-close,inc-5,inc-1...</td>\n",
       "      <td>[Rise, Fall]</td>\n",
       "      <td>1</td>\n",
       "    </tr>\n",
       "    <tr>\n",
       "      <th>1</th>\n",
       "      <td>cikmsm3828</td>\n",
       "      <td>Analyze the information and social media posts...</td>\n",
       "      <td>Rise</td>\n",
       "      <td>date,open,high,low,close,adj-close,inc-5,inc-1...</td>\n",
       "      <td>[Rise, Fall]</td>\n",
       "      <td>0</td>\n",
       "    </tr>\n",
       "    <tr>\n",
       "      <th>2</th>\n",
       "      <td>cikmsm3829</td>\n",
       "      <td>Examine the data and tweets to deduce if the c...</td>\n",
       "      <td>Fall</td>\n",
       "      <td>date,open,high,low,close,adj-close,inc-5,inc-1...</td>\n",
       "      <td>[Rise, Fall]</td>\n",
       "      <td>1</td>\n",
       "    </tr>\n",
       "    <tr>\n",
       "      <th>3</th>\n",
       "      <td>cikmsm3830</td>\n",
       "      <td>Assess the data and tweets to estimate whether...</td>\n",
       "      <td>Rise</td>\n",
       "      <td>date,open,high,low,close,adj-close,inc-5,inc-1...</td>\n",
       "      <td>[Rise, Fall]</td>\n",
       "      <td>0</td>\n",
       "    </tr>\n",
       "    <tr>\n",
       "      <th>4</th>\n",
       "      <td>cikmsm3831</td>\n",
       "      <td>Assess the data and tweets to estimate whether...</td>\n",
       "      <td>Fall</td>\n",
       "      <td>date,open,high,low,close,adj-close,inc-5,inc-1...</td>\n",
       "      <td>[Rise, Fall]</td>\n",
       "      <td>1</td>\n",
       "    </tr>\n",
       "  </tbody>\n",
       "</table>\n",
       "</div>\n",
       "    <div class=\"colab-df-buttons\">\n",
       "\n",
       "  <div class=\"colab-df-container\">\n",
       "    <button class=\"colab-df-convert\" onclick=\"convertToInteractive('df-bd0cab07-de4c-4f25-8b87-83cf89bdafe7')\"\n",
       "            title=\"Convert this dataframe to an interactive table.\"\n",
       "            style=\"display:none;\">\n",
       "\n",
       "  <svg xmlns=\"http://www.w3.org/2000/svg\" height=\"24px\" viewBox=\"0 -960 960 960\">\n",
       "    <path d=\"M120-120v-720h720v720H120Zm60-500h600v-160H180v160Zm220 220h160v-160H400v160Zm0 220h160v-160H400v160ZM180-400h160v-160H180v160Zm440 0h160v-160H620v160ZM180-180h160v-160H180v160Zm440 0h160v-160H620v160Z\"/>\n",
       "  </svg>\n",
       "    </button>\n",
       "\n",
       "  <style>\n",
       "    .colab-df-container {\n",
       "      display:flex;\n",
       "      gap: 12px;\n",
       "    }\n",
       "\n",
       "    .colab-df-convert {\n",
       "      background-color: #E8F0FE;\n",
       "      border: none;\n",
       "      border-radius: 50%;\n",
       "      cursor: pointer;\n",
       "      display: none;\n",
       "      fill: #1967D2;\n",
       "      height: 32px;\n",
       "      padding: 0 0 0 0;\n",
       "      width: 32px;\n",
       "    }\n",
       "\n",
       "    .colab-df-convert:hover {\n",
       "      background-color: #E2EBFA;\n",
       "      box-shadow: 0px 1px 2px rgba(60, 64, 67, 0.3), 0px 1px 3px 1px rgba(60, 64, 67, 0.15);\n",
       "      fill: #174EA6;\n",
       "    }\n",
       "\n",
       "    .colab-df-buttons div {\n",
       "      margin-bottom: 4px;\n",
       "    }\n",
       "\n",
       "    [theme=dark] .colab-df-convert {\n",
       "      background-color: #3B4455;\n",
       "      fill: #D2E3FC;\n",
       "    }\n",
       "\n",
       "    [theme=dark] .colab-df-convert:hover {\n",
       "      background-color: #434B5C;\n",
       "      box-shadow: 0px 1px 3px 1px rgba(0, 0, 0, 0.15);\n",
       "      filter: drop-shadow(0px 1px 2px rgba(0, 0, 0, 0.3));\n",
       "      fill: #FFFFFF;\n",
       "    }\n",
       "  </style>\n",
       "\n",
       "    <script>\n",
       "      const buttonEl =\n",
       "        document.querySelector('#df-bd0cab07-de4c-4f25-8b87-83cf89bdafe7 button.colab-df-convert');\n",
       "      buttonEl.style.display =\n",
       "        google.colab.kernel.accessAllowed ? 'block' : 'none';\n",
       "\n",
       "      async function convertToInteractive(key) {\n",
       "        const element = document.querySelector('#df-bd0cab07-de4c-4f25-8b87-83cf89bdafe7');\n",
       "        const dataTable =\n",
       "          await google.colab.kernel.invokeFunction('convertToInteractive',\n",
       "                                                    [key], {});\n",
       "        if (!dataTable) return;\n",
       "\n",
       "        const docLinkHtml = 'Like what you see? Visit the ' +\n",
       "          '<a target=\"_blank\" href=https://colab.research.google.com/notebooks/data_table.ipynb>data table notebook</a>'\n",
       "          + ' to learn more about interactive tables.';\n",
       "        element.innerHTML = '';\n",
       "        dataTable['output_type'] = 'display_data';\n",
       "        await google.colab.output.renderOutput(dataTable, element);\n",
       "        const docLink = document.createElement('div');\n",
       "        docLink.innerHTML = docLinkHtml;\n",
       "        element.appendChild(docLink);\n",
       "      }\n",
       "    </script>\n",
       "  </div>\n",
       "\n",
       "\n",
       "<div id=\"df-f3f472fb-6ba5-4c64-b401-151778763545\">\n",
       "  <button class=\"colab-df-quickchart\" onclick=\"quickchart('df-f3f472fb-6ba5-4c64-b401-151778763545')\"\n",
       "            title=\"Suggest charts\"\n",
       "            style=\"display:none;\">\n",
       "\n",
       "<svg xmlns=\"http://www.w3.org/2000/svg\" height=\"24px\"viewBox=\"0 0 24 24\"\n",
       "     width=\"24px\">\n",
       "    <g>\n",
       "        <path d=\"M19 3H5c-1.1 0-2 .9-2 2v14c0 1.1.9 2 2 2h14c1.1 0 2-.9 2-2V5c0-1.1-.9-2-2-2zM9 17H7v-7h2v7zm4 0h-2V7h2v10zm4 0h-2v-4h2v4z\"/>\n",
       "    </g>\n",
       "</svg>\n",
       "  </button>\n",
       "\n",
       "<style>\n",
       "  .colab-df-quickchart {\n",
       "      --bg-color: #E8F0FE;\n",
       "      --fill-color: #1967D2;\n",
       "      --hover-bg-color: #E2EBFA;\n",
       "      --hover-fill-color: #174EA6;\n",
       "      --disabled-fill-color: #AAA;\n",
       "      --disabled-bg-color: #DDD;\n",
       "  }\n",
       "\n",
       "  [theme=dark] .colab-df-quickchart {\n",
       "      --bg-color: #3B4455;\n",
       "      --fill-color: #D2E3FC;\n",
       "      --hover-bg-color: #434B5C;\n",
       "      --hover-fill-color: #FFFFFF;\n",
       "      --disabled-bg-color: #3B4455;\n",
       "      --disabled-fill-color: #666;\n",
       "  }\n",
       "\n",
       "  .colab-df-quickchart {\n",
       "    background-color: var(--bg-color);\n",
       "    border: none;\n",
       "    border-radius: 50%;\n",
       "    cursor: pointer;\n",
       "    display: none;\n",
       "    fill: var(--fill-color);\n",
       "    height: 32px;\n",
       "    padding: 0;\n",
       "    width: 32px;\n",
       "  }\n",
       "\n",
       "  .colab-df-quickchart:hover {\n",
       "    background-color: var(--hover-bg-color);\n",
       "    box-shadow: 0 1px 2px rgba(60, 64, 67, 0.3), 0 1px 3px 1px rgba(60, 64, 67, 0.15);\n",
       "    fill: var(--button-hover-fill-color);\n",
       "  }\n",
       "\n",
       "  .colab-df-quickchart-complete:disabled,\n",
       "  .colab-df-quickchart-complete:disabled:hover {\n",
       "    background-color: var(--disabled-bg-color);\n",
       "    fill: var(--disabled-fill-color);\n",
       "    box-shadow: none;\n",
       "  }\n",
       "\n",
       "  .colab-df-spinner {\n",
       "    border: 2px solid var(--fill-color);\n",
       "    border-color: transparent;\n",
       "    border-bottom-color: var(--fill-color);\n",
       "    animation:\n",
       "      spin 1s steps(1) infinite;\n",
       "  }\n",
       "\n",
       "  @keyframes spin {\n",
       "    0% {\n",
       "      border-color: transparent;\n",
       "      border-bottom-color: var(--fill-color);\n",
       "      border-left-color: var(--fill-color);\n",
       "    }\n",
       "    20% {\n",
       "      border-color: transparent;\n",
       "      border-left-color: var(--fill-color);\n",
       "      border-top-color: var(--fill-color);\n",
       "    }\n",
       "    30% {\n",
       "      border-color: transparent;\n",
       "      border-left-color: var(--fill-color);\n",
       "      border-top-color: var(--fill-color);\n",
       "      border-right-color: var(--fill-color);\n",
       "    }\n",
       "    40% {\n",
       "      border-color: transparent;\n",
       "      border-right-color: var(--fill-color);\n",
       "      border-top-color: var(--fill-color);\n",
       "    }\n",
       "    60% {\n",
       "      border-color: transparent;\n",
       "      border-right-color: var(--fill-color);\n",
       "    }\n",
       "    80% {\n",
       "      border-color: transparent;\n",
       "      border-right-color: var(--fill-color);\n",
       "      border-bottom-color: var(--fill-color);\n",
       "    }\n",
       "    90% {\n",
       "      border-color: transparent;\n",
       "      border-bottom-color: var(--fill-color);\n",
       "    }\n",
       "  }\n",
       "</style>\n",
       "\n",
       "  <script>\n",
       "    async function quickchart(key) {\n",
       "      const quickchartButtonEl =\n",
       "        document.querySelector('#' + key + ' button');\n",
       "      quickchartButtonEl.disabled = true;  // To prevent multiple clicks.\n",
       "      quickchartButtonEl.classList.add('colab-df-spinner');\n",
       "      try {\n",
       "        const charts = await google.colab.kernel.invokeFunction(\n",
       "            'suggestCharts', [key], {});\n",
       "      } catch (error) {\n",
       "        console.error('Error during call to suggestCharts:', error);\n",
       "      }\n",
       "      quickchartButtonEl.classList.remove('colab-df-spinner');\n",
       "      quickchartButtonEl.classList.add('colab-df-quickchart-complete');\n",
       "    }\n",
       "    (() => {\n",
       "      let quickchartButtonEl =\n",
       "        document.querySelector('#df-f3f472fb-6ba5-4c64-b401-151778763545 button');\n",
       "      quickchartButtonEl.style.display =\n",
       "        google.colab.kernel.accessAllowed ? 'block' : 'none';\n",
       "    })();\n",
       "  </script>\n",
       "</div>\n",
       "\n",
       "    </div>\n",
       "  </div>\n"
      ],
      "text/plain": [
       "           id                                              query answer  \\\n",
       "0  cikmsm3827  Assess the data and tweets to estimate whether...   Fall   \n",
       "1  cikmsm3828  Analyze the information and social media posts...   Rise   \n",
       "2  cikmsm3829  Examine the data and tweets to deduce if the c...   Fall   \n",
       "3  cikmsm3830  Assess the data and tweets to estimate whether...   Rise   \n",
       "4  cikmsm3831  Assess the data and tweets to estimate whether...   Fall   \n",
       "\n",
       "                                                text       choices  gold  \n",
       "0  date,open,high,low,close,adj-close,inc-5,inc-1...  [Rise, Fall]     1  \n",
       "1  date,open,high,low,close,adj-close,inc-5,inc-1...  [Rise, Fall]     0  \n",
       "2  date,open,high,low,close,adj-close,inc-5,inc-1...  [Rise, Fall]     1  \n",
       "3  date,open,high,low,close,adj-close,inc-5,inc-1...  [Rise, Fall]     0  \n",
       "4  date,open,high,low,close,adj-close,inc-5,inc-1...  [Rise, Fall]     1  "
      ]
     },
     "execution_count": 41,
     "metadata": {},
     "output_type": "execute_result"
    }
   ],
   "source": [
    "import pandas as pd\n",
    "\n",
    "df = pd.DataFrame(dataset['test'])\n",
    "df.head()\n"
   ]
  }
 ],
 "metadata": {
  "accelerator": "GPU",
  "colab": {
   "gpuType": "T4",
   "provenance": []
  },
  "kernelspec": {
   "display_name": "conda-env",
   "language": "python",
   "name": "python3"
  },
  "language_info": {
   "codemirror_mode": {
    "name": "ipython",
    "version": 3
   },
   "file_extension": ".py",
   "mimetype": "text/x-python",
   "name": "python",
   "nbconvert_exporter": "python",
   "pygments_lexer": "ipython3",
   "version": "3.12.7"
  },
  "widgets": {
   "application/vnd.jupyter.widget-state+json": {
    "0692572a202c4ba28efc8ddcb9264fbb": {
     "model_module": "@jupyter-widgets/controls",
     "model_module_version": "1.5.0",
     "model_name": "DescriptionStyleModel",
     "state": {
      "_model_module": "@jupyter-widgets/controls",
      "_model_module_version": "1.5.0",
      "_model_name": "DescriptionStyleModel",
      "_view_count": null,
      "_view_module": "@jupyter-widgets/base",
      "_view_module_version": "1.2.0",
      "_view_name": "StyleView",
      "description_width": ""
     }
    },
    "0be11a657e1b44a8a83719c3982d2c59": {
     "model_module": "@jupyter-widgets/base",
     "model_module_version": "1.2.0",
     "model_name": "LayoutModel",
     "state": {
      "_model_module": "@jupyter-widgets/base",
      "_model_module_version": "1.2.0",
      "_model_name": "LayoutModel",
      "_view_count": null,
      "_view_module": "@jupyter-widgets/base",
      "_view_module_version": "1.2.0",
      "_view_name": "LayoutView",
      "align_content": null,
      "align_items": null,
      "align_self": null,
      "border": null,
      "bottom": null,
      "display": null,
      "flex": null,
      "flex_flow": null,
      "grid_area": null,
      "grid_auto_columns": null,
      "grid_auto_flow": null,
      "grid_auto_rows": null,
      "grid_column": null,
      "grid_gap": null,
      "grid_row": null,
      "grid_template_areas": null,
      "grid_template_columns": null,
      "grid_template_rows": null,
      "height": null,
      "justify_content": null,
      "justify_items": null,
      "left": null,
      "margin": null,
      "max_height": null,
      "max_width": null,
      "min_height": null,
      "min_width": null,
      "object_fit": null,
      "object_position": null,
      "order": null,
      "overflow": null,
      "overflow_x": null,
      "overflow_y": null,
      "padding": null,
      "right": null,
      "top": null,
      "visibility": null,
      "width": null
     }
    },
    "1381853576c042edaa77ee735a62c77d": {
     "model_module": "@jupyter-widgets/controls",
     "model_module_version": "1.5.0",
     "model_name": "ButtonModel",
     "state": {
      "_dom_classes": [],
      "_model_module": "@jupyter-widgets/controls",
      "_model_module_version": "1.5.0",
      "_model_name": "ButtonModel",
      "_view_count": null,
      "_view_module": "@jupyter-widgets/controls",
      "_view_module_version": "1.5.0",
      "_view_name": "ButtonView",
      "button_style": "",
      "description": "Login",
      "disabled": false,
      "icon": "",
      "layout": "IPY_MODEL_91132ba1fa264eaaaa82c0fb826f2bf8",
      "style": "IPY_MODEL_54bada4147f447fb81c0f829a3e02a0d",
      "tooltip": ""
     }
    },
    "1cb0b285320d4b77ba9b04a26fd3fd6a": {
     "model_module": "@jupyter-widgets/controls",
     "model_module_version": "1.5.0",
     "model_name": "LabelModel",
     "state": {
      "_dom_classes": [],
      "_model_module": "@jupyter-widgets/controls",
      "_model_module_version": "1.5.0",
      "_model_name": "LabelModel",
      "_view_count": null,
      "_view_module": "@jupyter-widgets/controls",
      "_view_module_version": "1.5.0",
      "_view_name": "LabelView",
      "description": "",
      "description_tooltip": null,
      "layout": "IPY_MODEL_0be11a657e1b44a8a83719c3982d2c59",
      "placeholder": "​",
      "style": "IPY_MODEL_282b40833dd74adcb1b940c15c7919fd",
      "value": "Connecting..."
     }
    },
    "282b40833dd74adcb1b940c15c7919fd": {
     "model_module": "@jupyter-widgets/controls",
     "model_module_version": "1.5.0",
     "model_name": "DescriptionStyleModel",
     "state": {
      "_model_module": "@jupyter-widgets/controls",
      "_model_module_version": "1.5.0",
      "_model_name": "DescriptionStyleModel",
      "_view_count": null,
      "_view_module": "@jupyter-widgets/base",
      "_view_module_version": "1.2.0",
      "_view_name": "StyleView",
      "description_width": ""
     }
    },
    "2f981fe393c24be29d4f58a8ee30fd91": {
     "model_module": "@jupyter-widgets/base",
     "model_module_version": "1.2.0",
     "model_name": "LayoutModel",
     "state": {
      "_model_module": "@jupyter-widgets/base",
      "_model_module_version": "1.2.0",
      "_model_name": "LayoutModel",
      "_view_count": null,
      "_view_module": "@jupyter-widgets/base",
      "_view_module_version": "1.2.0",
      "_view_name": "LayoutView",
      "align_content": null,
      "align_items": null,
      "align_self": null,
      "border": null,
      "bottom": null,
      "display": null,
      "flex": null,
      "flex_flow": null,
      "grid_area": null,
      "grid_auto_columns": null,
      "grid_auto_flow": null,
      "grid_auto_rows": null,
      "grid_column": null,
      "grid_gap": null,
      "grid_row": null,
      "grid_template_areas": null,
      "grid_template_columns": null,
      "grid_template_rows": null,
      "height": null,
      "justify_content": null,
      "justify_items": null,
      "left": null,
      "margin": null,
      "max_height": null,
      "max_width": null,
      "min_height": null,
      "min_width": null,
      "object_fit": null,
      "object_position": null,
      "order": null,
      "overflow": null,
      "overflow_x": null,
      "overflow_y": null,
      "padding": null,
      "right": null,
      "top": null,
      "visibility": null,
      "width": null
     }
    },
    "3204cc3ef9ea40b2a4376b884d65138c": {
     "model_module": "@jupyter-widgets/controls",
     "model_module_version": "1.5.0",
     "model_name": "DescriptionStyleModel",
     "state": {
      "_model_module": "@jupyter-widgets/controls",
      "_model_module_version": "1.5.0",
      "_model_name": "DescriptionStyleModel",
      "_view_count": null,
      "_view_module": "@jupyter-widgets/base",
      "_view_module_version": "1.2.0",
      "_view_name": "StyleView",
      "description_width": ""
     }
    },
    "54bada4147f447fb81c0f829a3e02a0d": {
     "model_module": "@jupyter-widgets/controls",
     "model_module_version": "1.5.0",
     "model_name": "ButtonStyleModel",
     "state": {
      "_model_module": "@jupyter-widgets/controls",
      "_model_module_version": "1.5.0",
      "_model_name": "ButtonStyleModel",
      "_view_count": null,
      "_view_module": "@jupyter-widgets/base",
      "_view_module_version": "1.2.0",
      "_view_name": "StyleView",
      "button_color": null,
      "font_weight": ""
     }
    },
    "5c37d81d7be14c18852dc8eb2191e3cc": {
     "model_module": "@jupyter-widgets/controls",
     "model_module_version": "1.5.0",
     "model_name": "HTMLModel",
     "state": {
      "_dom_classes": [],
      "_model_module": "@jupyter-widgets/controls",
      "_model_module_version": "1.5.0",
      "_model_name": "HTMLModel",
      "_view_count": null,
      "_view_module": "@jupyter-widgets/controls",
      "_view_module_version": "1.5.0",
      "_view_name": "HTMLView",
      "description": "",
      "description_tooltip": null,
      "layout": "IPY_MODEL_a0b9c260d696425991f036fa99b951ff",
      "placeholder": "​",
      "style": "IPY_MODEL_e8f998deeeba426d8f52ffbef1060796",
      "value": "<center> <img\nsrc=https://huggingface.co/front/assets/huggingface_logo-noborder.svg\nalt='Hugging Face'> <br> Copy a token from <a\nhref=\"https://huggingface.co/settings/tokens\" target=\"_blank\">your Hugging Face\ntokens page</a> and paste it below. <br> Immediately click login after copying\nyour token or it might be stored in plain text in this notebook file. </center>"
     }
    },
    "8e0ad60cdfba477bb576a11785cf6253": {
     "model_module": "@jupyter-widgets/controls",
     "model_module_version": "1.5.0",
     "model_name": "CheckboxModel",
     "state": {
      "_dom_classes": [],
      "_model_module": "@jupyter-widgets/controls",
      "_model_module_version": "1.5.0",
      "_model_name": "CheckboxModel",
      "_view_count": null,
      "_view_module": "@jupyter-widgets/controls",
      "_view_module_version": "1.5.0",
      "_view_name": "CheckboxView",
      "description": "Add token as git credential?",
      "description_tooltip": null,
      "disabled": false,
      "indent": true,
      "layout": "IPY_MODEL_f62c5993c6384f419b60b8bd19dd1712",
      "style": "IPY_MODEL_a46e22f365bc44708e4027841704a502",
      "value": true
     }
    },
    "91132ba1fa264eaaaa82c0fb826f2bf8": {
     "model_module": "@jupyter-widgets/base",
     "model_module_version": "1.2.0",
     "model_name": "LayoutModel",
     "state": {
      "_model_module": "@jupyter-widgets/base",
      "_model_module_version": "1.2.0",
      "_model_name": "LayoutModel",
      "_view_count": null,
      "_view_module": "@jupyter-widgets/base",
      "_view_module_version": "1.2.0",
      "_view_name": "LayoutView",
      "align_content": null,
      "align_items": null,
      "align_self": null,
      "border": null,
      "bottom": null,
      "display": null,
      "flex": null,
      "flex_flow": null,
      "grid_area": null,
      "grid_auto_columns": null,
      "grid_auto_flow": null,
      "grid_auto_rows": null,
      "grid_column": null,
      "grid_gap": null,
      "grid_row": null,
      "grid_template_areas": null,
      "grid_template_columns": null,
      "grid_template_rows": null,
      "height": null,
      "justify_content": null,
      "justify_items": null,
      "left": null,
      "margin": null,
      "max_height": null,
      "max_width": null,
      "min_height": null,
      "min_width": null,
      "object_fit": null,
      "object_position": null,
      "order": null,
      "overflow": null,
      "overflow_x": null,
      "overflow_y": null,
      "padding": null,
      "right": null,
      "top": null,
      "visibility": null,
      "width": null
     }
    },
    "a0b9c260d696425991f036fa99b951ff": {
     "model_module": "@jupyter-widgets/base",
     "model_module_version": "1.2.0",
     "model_name": "LayoutModel",
     "state": {
      "_model_module": "@jupyter-widgets/base",
      "_model_module_version": "1.2.0",
      "_model_name": "LayoutModel",
      "_view_count": null,
      "_view_module": "@jupyter-widgets/base",
      "_view_module_version": "1.2.0",
      "_view_name": "LayoutView",
      "align_content": null,
      "align_items": null,
      "align_self": null,
      "border": null,
      "bottom": null,
      "display": null,
      "flex": null,
      "flex_flow": null,
      "grid_area": null,
      "grid_auto_columns": null,
      "grid_auto_flow": null,
      "grid_auto_rows": null,
      "grid_column": null,
      "grid_gap": null,
      "grid_row": null,
      "grid_template_areas": null,
      "grid_template_columns": null,
      "grid_template_rows": null,
      "height": null,
      "justify_content": null,
      "justify_items": null,
      "left": null,
      "margin": null,
      "max_height": null,
      "max_width": null,
      "min_height": null,
      "min_width": null,
      "object_fit": null,
      "object_position": null,
      "order": null,
      "overflow": null,
      "overflow_x": null,
      "overflow_y": null,
      "padding": null,
      "right": null,
      "top": null,
      "visibility": null,
      "width": null
     }
    },
    "a46e22f365bc44708e4027841704a502": {
     "model_module": "@jupyter-widgets/controls",
     "model_module_version": "1.5.0",
     "model_name": "DescriptionStyleModel",
     "state": {
      "_model_module": "@jupyter-widgets/controls",
      "_model_module_version": "1.5.0",
      "_model_name": "DescriptionStyleModel",
      "_view_count": null,
      "_view_module": "@jupyter-widgets/base",
      "_view_module_version": "1.2.0",
      "_view_name": "StyleView",
      "description_width": ""
     }
    },
    "b53e3f4b9b2e4dc897a09c62880d6241": {
     "model_module": "@jupyter-widgets/controls",
     "model_module_version": "1.5.0",
     "model_name": "VBoxModel",
     "state": {
      "_dom_classes": [],
      "_model_module": "@jupyter-widgets/controls",
      "_model_module_version": "1.5.0",
      "_model_name": "VBoxModel",
      "_view_count": null,
      "_view_module": "@jupyter-widgets/controls",
      "_view_module_version": "1.5.0",
      "_view_name": "VBoxView",
      "box_style": "",
      "children": [],
      "layout": "IPY_MODEL_dd5ab03e655b43c7ba98bccd419742bb"
     }
    },
    "ba5613e14223472794ec9ad303d7e5b2": {
     "model_module": "@jupyter-widgets/controls",
     "model_module_version": "1.5.0",
     "model_name": "PasswordModel",
     "state": {
      "_dom_classes": [],
      "_model_module": "@jupyter-widgets/controls",
      "_model_module_version": "1.5.0",
      "_model_name": "PasswordModel",
      "_view_count": null,
      "_view_module": "@jupyter-widgets/controls",
      "_view_module_version": "1.5.0",
      "_view_name": "PasswordView",
      "continuous_update": true,
      "description": "Token:",
      "description_tooltip": null,
      "disabled": false,
      "layout": "IPY_MODEL_2f981fe393c24be29d4f58a8ee30fd91",
      "placeholder": "​",
      "style": "IPY_MODEL_3204cc3ef9ea40b2a4376b884d65138c",
      "value": ""
     }
    },
    "bc96ea910ced4d2ab983a9c61c331ad1": {
     "model_module": "@jupyter-widgets/controls",
     "model_module_version": "1.5.0",
     "model_name": "HTMLModel",
     "state": {
      "_dom_classes": [],
      "_model_module": "@jupyter-widgets/controls",
      "_model_module_version": "1.5.0",
      "_model_name": "HTMLModel",
      "_view_count": null,
      "_view_module": "@jupyter-widgets/controls",
      "_view_module_version": "1.5.0",
      "_view_name": "HTMLView",
      "description": "",
      "description_tooltip": null,
      "layout": "IPY_MODEL_fcd9e8d60dd94fa29cd629471308b9d7",
      "placeholder": "​",
      "style": "IPY_MODEL_0692572a202c4ba28efc8ddcb9264fbb",
      "value": "\n<b>Pro Tip:</b> If you don't already have one, you can create a dedicated\n'notebooks' token with 'write' access, that you can then easily reuse for all\nnotebooks. </center>"
     }
    },
    "dd5ab03e655b43c7ba98bccd419742bb": {
     "model_module": "@jupyter-widgets/base",
     "model_module_version": "1.2.0",
     "model_name": "LayoutModel",
     "state": {
      "_model_module": "@jupyter-widgets/base",
      "_model_module_version": "1.2.0",
      "_model_name": "LayoutModel",
      "_view_count": null,
      "_view_module": "@jupyter-widgets/base",
      "_view_module_version": "1.2.0",
      "_view_name": "LayoutView",
      "align_content": null,
      "align_items": "center",
      "align_self": null,
      "border": null,
      "bottom": null,
      "display": "flex",
      "flex": null,
      "flex_flow": "column",
      "grid_area": null,
      "grid_auto_columns": null,
      "grid_auto_flow": null,
      "grid_auto_rows": null,
      "grid_column": null,
      "grid_gap": null,
      "grid_row": null,
      "grid_template_areas": null,
      "grid_template_columns": null,
      "grid_template_rows": null,
      "height": null,
      "justify_content": null,
      "justify_items": null,
      "left": null,
      "margin": null,
      "max_height": null,
      "max_width": null,
      "min_height": null,
      "min_width": null,
      "object_fit": null,
      "object_position": null,
      "order": null,
      "overflow": null,
      "overflow_x": null,
      "overflow_y": null,
      "padding": null,
      "right": null,
      "top": null,
      "visibility": null,
      "width": "50%"
     }
    },
    "e8f998deeeba426d8f52ffbef1060796": {
     "model_module": "@jupyter-widgets/controls",
     "model_module_version": "1.5.0",
     "model_name": "DescriptionStyleModel",
     "state": {
      "_model_module": "@jupyter-widgets/controls",
      "_model_module_version": "1.5.0",
      "_model_name": "DescriptionStyleModel",
      "_view_count": null,
      "_view_module": "@jupyter-widgets/base",
      "_view_module_version": "1.2.0",
      "_view_name": "StyleView",
      "description_width": ""
     }
    },
    "f62c5993c6384f419b60b8bd19dd1712": {
     "model_module": "@jupyter-widgets/base",
     "model_module_version": "1.2.0",
     "model_name": "LayoutModel",
     "state": {
      "_model_module": "@jupyter-widgets/base",
      "_model_module_version": "1.2.0",
      "_model_name": "LayoutModel",
      "_view_count": null,
      "_view_module": "@jupyter-widgets/base",
      "_view_module_version": "1.2.0",
      "_view_name": "LayoutView",
      "align_content": null,
      "align_items": null,
      "align_self": null,
      "border": null,
      "bottom": null,
      "display": null,
      "flex": null,
      "flex_flow": null,
      "grid_area": null,
      "grid_auto_columns": null,
      "grid_auto_flow": null,
      "grid_auto_rows": null,
      "grid_column": null,
      "grid_gap": null,
      "grid_row": null,
      "grid_template_areas": null,
      "grid_template_columns": null,
      "grid_template_rows": null,
      "height": null,
      "justify_content": null,
      "justify_items": null,
      "left": null,
      "margin": null,
      "max_height": null,
      "max_width": null,
      "min_height": null,
      "min_width": null,
      "object_fit": null,
      "object_position": null,
      "order": null,
      "overflow": null,
      "overflow_x": null,
      "overflow_y": null,
      "padding": null,
      "right": null,
      "top": null,
      "visibility": null,
      "width": null
     }
    },
    "fcd9e8d60dd94fa29cd629471308b9d7": {
     "model_module": "@jupyter-widgets/base",
     "model_module_version": "1.2.0",
     "model_name": "LayoutModel",
     "state": {
      "_model_module": "@jupyter-widgets/base",
      "_model_module_version": "1.2.0",
      "_model_name": "LayoutModel",
      "_view_count": null,
      "_view_module": "@jupyter-widgets/base",
      "_view_module_version": "1.2.0",
      "_view_name": "LayoutView",
      "align_content": null,
      "align_items": null,
      "align_self": null,
      "border": null,
      "bottom": null,
      "display": null,
      "flex": null,
      "flex_flow": null,
      "grid_area": null,
      "grid_auto_columns": null,
      "grid_auto_flow": null,
      "grid_auto_rows": null,
      "grid_column": null,
      "grid_gap": null,
      "grid_row": null,
      "grid_template_areas": null,
      "grid_template_columns": null,
      "grid_template_rows": null,
      "height": null,
      "justify_content": null,
      "justify_items": null,
      "left": null,
      "margin": null,
      "max_height": null,
      "max_width": null,
      "min_height": null,
      "min_width": null,
      "object_fit": null,
      "object_position": null,
      "order": null,
      "overflow": null,
      "overflow_x": null,
      "overflow_y": null,
      "padding": null,
      "right": null,
      "top": null,
      "visibility": null,
      "width": null
     }
    }
   }
  }
 },
 "nbformat": 4,
 "nbformat_minor": 5
}
